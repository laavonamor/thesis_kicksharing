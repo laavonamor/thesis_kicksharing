{
 "cells": [
  {
   "cell_type": "code",
   "execution_count": 5,
   "id": "ef5a3fc3",
   "metadata": {},
   "outputs": [
    {
     "data": {
      "application/javascript": [
       "\n",
       "            setTimeout(function() {\n",
       "                var nbb_cell_id = 5;\n",
       "                var nbb_unformatted_code = \"import vk\\nimport time\\nimport pandas as pd\\n\\nimport warnings\\nwarnings.filterwarnings(\\\"ignore\\\")\\n\\npd.options.display.max_colwidth = 1000\\nfrom datetime import datetime, date\\nimport seaborn as sns\\nimport numpy as np\\nfrom scipy import stats\\nfrom collections import Counter\\nfrom transliterate import translit\\nfrom numpy import mean, std, var\\n\\nimport matplotlib.pyplot as plt\\n%matplotlib inline\\n%config InlineBackend.figure_format='retina'\\n\\nimport re\\nimport string\\nfrom nltk.corpus import stopwords\\nimport nltk\\nfrom pymystem3 import Mystem\\nfrom string import punctuation\\nfrom wordcloud import WordCloud\\nimport ast\\nfrom scipy.stats.contingency import margins\\nfrom transformers import pipeline, AutoTokenizer, AutoModel\\nimport torch\\nimport transformers\\nimport umap\\nimport hdbscan\\nfrom sklearn.metrics import make_scorer\\nfrom sklearn.model_selection import GridSearchCV\\nimport logging\\n\\nlogging.captureWarnings(True)\\n%load_ext nb_black\";\n",
       "                var nbb_formatted_code = \"import vk\\nimport time\\nimport pandas as pd\\n\\nimport warnings\\n\\nwarnings.filterwarnings(\\\"ignore\\\")\\n\\npd.options.display.max_colwidth = 1000\\nfrom datetime import datetime, date\\nimport seaborn as sns\\nimport numpy as np\\nfrom scipy import stats\\nfrom collections import Counter\\nfrom transliterate import translit\\nfrom numpy import mean, std, var\\n\\nimport matplotlib.pyplot as plt\\n\\n%matplotlib inline\\n%config InlineBackend.figure_format='retina'\\n\\nimport re\\nimport string\\nfrom nltk.corpus import stopwords\\nimport nltk\\nfrom pymystem3 import Mystem\\nfrom string import punctuation\\nfrom wordcloud import WordCloud\\nimport ast\\nfrom scipy.stats.contingency import margins\\nfrom transformers import pipeline, AutoTokenizer, AutoModel\\nimport torch\\nimport transformers\\nimport umap\\nimport hdbscan\\nfrom sklearn.metrics import make_scorer\\nfrom sklearn.model_selection import GridSearchCV\\nimport logging\\n\\nlogging.captureWarnings(True)\\n%load_ext nb_black\";\n",
       "                var nbb_cells = Jupyter.notebook.get_cells();\n",
       "                for (var i = 0; i < nbb_cells.length; ++i) {\n",
       "                    if (nbb_cells[i].input_prompt_number == nbb_cell_id) {\n",
       "                        if (nbb_cells[i].get_text() == nbb_unformatted_code) {\n",
       "                             nbb_cells[i].set_text(nbb_formatted_code);\n",
       "                        }\n",
       "                        break;\n",
       "                    }\n",
       "                }\n",
       "            }, 500);\n",
       "            "
      ],
      "text/plain": [
       "<IPython.core.display.Javascript object>"
      ]
     },
     "metadata": {},
     "output_type": "display_data"
    }
   ],
   "source": [
    "import vk\n",
    "import time\n",
    "import pandas as pd\n",
    "\n",
    "import warnings\n",
    "\n",
    "warnings.filterwarnings(\"ignore\")\n",
    "\n",
    "pd.options.display.max_colwidth = 1000\n",
    "from datetime import datetime, date\n",
    "import seaborn as sns\n",
    "import numpy as np\n",
    "from scipy import stats\n",
    "from collections import Counter\n",
    "from transliterate import translit\n",
    "from numpy import mean, std, var\n",
    "\n",
    "import matplotlib.pyplot as plt\n",
    "\n",
    "%matplotlib inline\n",
    "%config InlineBackend.figure_format='retina'\n",
    "\n",
    "import re\n",
    "import string\n",
    "from nltk.corpus import stopwords\n",
    "import nltk\n",
    "from pymystem3 import Mystem\n",
    "from string import punctuation\n",
    "from wordcloud import WordCloud\n",
    "import ast\n",
    "from scipy.stats.contingency import margins\n",
    "from transformers import pipeline, AutoTokenizer, AutoModel\n",
    "import torch\n",
    "import transformers\n",
    "import umap\n",
    "import hdbscan\n",
    "from sklearn.metrics import make_scorer\n",
    "from sklearn.model_selection import GridSearchCV\n",
    "import logging\n",
    "\n",
    "logging.captureWarnings(True)\n",
    "%load_ext nb_black"
   ]
  },
  {
   "cell_type": "markdown",
   "id": "8da527db",
   "metadata": {},
   "source": [
    "## Data parsing"
   ]
  },
  {
   "cell_type": "code",
   "execution_count": 6,
   "id": "8e542a18",
   "metadata": {},
   "outputs": [
    {
     "data": {
      "application/javascript": [
       "\n",
       "            setTimeout(function() {\n",
       "                var nbb_cell_id = 6;\n",
       "                var nbb_unformatted_code = \"session = vk.Session(\\n    access_token=\\\"03abb619976b5d747b60c1ee5b44151357bc7875d146e1523281b4468e4cf027d8bdc83f444384a1c3df3\\\"\\n)\";\n",
       "                var nbb_formatted_code = \"session = vk.Session(\\n    access_token=\\\"03abb619976b5d747b60c1ee5b44151357bc7875d146e1523281b4468e4cf027d8bdc83f444384a1c3df3\\\"\\n)\";\n",
       "                var nbb_cells = Jupyter.notebook.get_cells();\n",
       "                for (var i = 0; i < nbb_cells.length; ++i) {\n",
       "                    if (nbb_cells[i].input_prompt_number == nbb_cell_id) {\n",
       "                        if (nbb_cells[i].get_text() == nbb_unformatted_code) {\n",
       "                             nbb_cells[i].set_text(nbb_formatted_code);\n",
       "                        }\n",
       "                        break;\n",
       "                    }\n",
       "                }\n",
       "            }, 500);\n",
       "            "
      ],
      "text/plain": [
       "<IPython.core.display.Javascript object>"
      ]
     },
     "metadata": {},
     "output_type": "display_data"
    }
   ],
   "source": [
    "session = vk.Session(\n",
    "    access_token=\"03abb619976b5d747b60c1ee5b44151357bc7875d146e1523281b4468e4cf027d8bdc83f444384a1c3df3\"\n",
    ")"
   ]
  },
  {
   "cell_type": "code",
   "execution_count": 7,
   "id": "3081ca37",
   "metadata": {},
   "outputs": [
    {
     "data": {
      "application/javascript": [
       "\n",
       "            setTimeout(function() {\n",
       "                var nbb_cell_id = 7;\n",
       "                var nbb_unformatted_code = \"vk_api = vk.API(session)\";\n",
       "                var nbb_formatted_code = \"vk_api = vk.API(session)\";\n",
       "                var nbb_cells = Jupyter.notebook.get_cells();\n",
       "                for (var i = 0; i < nbb_cells.length; ++i) {\n",
       "                    if (nbb_cells[i].input_prompt_number == nbb_cell_id) {\n",
       "                        if (nbb_cells[i].get_text() == nbb_unformatted_code) {\n",
       "                             nbb_cells[i].set_text(nbb_formatted_code);\n",
       "                        }\n",
       "                        break;\n",
       "                    }\n",
       "                }\n",
       "            }, 500);\n",
       "            "
      ],
      "text/plain": [
       "<IPython.core.display.Javascript object>"
      ]
     },
     "metadata": {},
     "output_type": "display_data"
    }
   ],
   "source": [
    "vk_api = vk.API(session)"
   ]
  },
  {
   "cell_type": "code",
   "execution_count": null,
   "id": "62899ef0",
   "metadata": {},
   "outputs": [],
   "source": [
    "list_of_groups = vk_api.groups.getById(\n",
    "    v=5.131,\n",
    "    group_ids=[\n",
    "        \"rbc\",\n",
    "        \"ria\",\n",
    "        \"gazeta\",\n",
    "        \"tv360\",\n",
    "        \"lentaru\",\n",
    "        \"kpru\",\n",
    "        \"life\",\n",
    "        \"m24\",\n",
    "        \"snob_project\",\n",
    "        \"knife.media\",\n",
    "    ],\n",
    "    fields=\"description\",\n",
    ")"
   ]
  },
  {
   "cell_type": "code",
   "execution_count": null,
   "id": "5e9c1e68",
   "metadata": {},
   "outputs": [],
   "source": [
    "list_of_ids_groups = []\n",
    "for i in range(len(list_of_groups)):\n",
    "    list_of_ids_groups.append(list_of_groups[i][\"id\"])"
   ]
  },
  {
   "cell_type": "code",
   "execution_count": 10,
   "id": "bcf5c8b8",
   "metadata": {},
   "outputs": [
    {
     "data": {
      "application/javascript": [
       "\n",
       "            setTimeout(function() {\n",
       "                var nbb_cell_id = 10;\n",
       "                var nbb_unformatted_code = \"list_of_ids_groups1 = list_of_ids_groups[:5]\\nlist_of_ids_groups2 = list_of_ids_groups[5:]\";\n",
       "                var nbb_formatted_code = \"list_of_ids_groups1 = list_of_ids_groups[:5]\\nlist_of_ids_groups2 = list_of_ids_groups[5:]\";\n",
       "                var nbb_cells = Jupyter.notebook.get_cells();\n",
       "                for (var i = 0; i < nbb_cells.length; ++i) {\n",
       "                    if (nbb_cells[i].input_prompt_number == nbb_cell_id) {\n",
       "                        if (nbb_cells[i].get_text() == nbb_unformatted_code) {\n",
       "                             nbb_cells[i].set_text(nbb_formatted_code);\n",
       "                        }\n",
       "                        break;\n",
       "                    }\n",
       "                }\n",
       "            }, 500);\n",
       "            "
      ],
      "text/plain": [
       "<IPython.core.display.Javascript object>"
      ]
     },
     "metadata": {},
     "output_type": "display_data"
    }
   ],
   "source": [
    "list_of_ids_groups1 = list_of_ids_groups[:5]\n",
    "list_of_ids_groups2 = list_of_ids_groups[5:]"
   ]
  },
  {
   "cell_type": "code",
   "execution_count": 11,
   "id": "c39b5700",
   "metadata": {},
   "outputs": [
    {
     "data": {
      "application/javascript": [
       "\n",
       "            setTimeout(function() {\n",
       "                var nbb_cell_id = 11;\n",
       "                var nbb_unformatted_code = \"time.sleep(3)\\ndf_escooter_1 = pd.DataFrame()\\nfor i in range(len(list_of_ids_groups1)):\\n    posts1 = vk_api.wall.search(v=5.131, \\n                   owner_id= -list_of_ids_groups1[i],\\n                  query=\\\"\\u044d\\u043b\\u0435\\u043a\\u0442\\u0440\\u043e\\u0441\\u0430\\u043c\\u043e\\u043a\\u0430\\u0442\\\",\\n                    owners_only=1,\\n                  count=100)\\n    df_1 = pd.json_normalize(posts1[\\\"items\\\"]) \\n    df_escooter_1 = pd.concat([df_1, df_escooter_1])\";\n",
       "                var nbb_formatted_code = \"time.sleep(3)\\ndf_escooter_1 = pd.DataFrame()\\nfor i in range(len(list_of_ids_groups1)):\\n    posts1 = vk_api.wall.search(\\n        v=5.131,\\n        owner_id=-list_of_ids_groups1[i],\\n        query=\\\"\\u044d\\u043b\\u0435\\u043a\\u0442\\u0440\\u043e\\u0441\\u0430\\u043c\\u043e\\u043a\\u0430\\u0442\\\",\\n        owners_only=1,\\n        count=100,\\n    )\\n    df_1 = pd.json_normalize(posts1[\\\"items\\\"])\\n    df_escooter_1 = pd.concat([df_1, df_escooter_1])\";\n",
       "                var nbb_cells = Jupyter.notebook.get_cells();\n",
       "                for (var i = 0; i < nbb_cells.length; ++i) {\n",
       "                    if (nbb_cells[i].input_prompt_number == nbb_cell_id) {\n",
       "                        if (nbb_cells[i].get_text() == nbb_unformatted_code) {\n",
       "                             nbb_cells[i].set_text(nbb_formatted_code);\n",
       "                        }\n",
       "                        break;\n",
       "                    }\n",
       "                }\n",
       "            }, 500);\n",
       "            "
      ],
      "text/plain": [
       "<IPython.core.display.Javascript object>"
      ]
     },
     "metadata": {},
     "output_type": "display_data"
    }
   ],
   "source": [
    "time.sleep(3)\n",
    "df_escooter_1 = pd.DataFrame()\n",
    "for i in range(len(list_of_ids_groups1)):\n",
    "    posts1 = vk_api.wall.search(\n",
    "        v=5.131,\n",
    "        owner_id=-list_of_ids_groups1[i],\n",
    "        query=\"электросамокат\",\n",
    "        owners_only=1,\n",
    "        count=100,\n",
    "    )\n",
    "    df_1 = pd.json_normalize(posts1[\"items\"])\n",
    "    df_escooter_1 = pd.concat([df_1, df_escooter_1])"
   ]
  },
  {
   "cell_type": "code",
   "execution_count": 12,
   "id": "011d6a87",
   "metadata": {},
   "outputs": [
    {
     "data": {
      "application/javascript": [
       "\n",
       "            setTimeout(function() {\n",
       "                var nbb_cell_id = 12;\n",
       "                var nbb_unformatted_code = \"time.sleep(3)\\ndf_escooter_2 = pd.DataFrame()\\nfor i in range(len(list_of_ids_groups2)):\\n    posts2 = vk_api.wall.search(v=5.131, \\n                   owner_id= -list_of_ids_groups2[i],\\n                  query=\\\"\\u044d\\u043b\\u0435\\u043a\\u0442\\u0440\\u043e\\u0441\\u0430\\u043c\\u043e\\u043a\\u0430\\u0442\\\",\\n                    owners_only=1,\\n                  count=100)\\n    df_2 = pd.json_normalize(posts2[\\\"items\\\"]) \\n    df_escooter_2 = pd.concat([df_2, df_escooter_2])\";\n",
       "                var nbb_formatted_code = \"time.sleep(3)\\ndf_escooter_2 = pd.DataFrame()\\nfor i in range(len(list_of_ids_groups2)):\\n    posts2 = vk_api.wall.search(\\n        v=5.131,\\n        owner_id=-list_of_ids_groups2[i],\\n        query=\\\"\\u044d\\u043b\\u0435\\u043a\\u0442\\u0440\\u043e\\u0441\\u0430\\u043c\\u043e\\u043a\\u0430\\u0442\\\",\\n        owners_only=1,\\n        count=100,\\n    )\\n    df_2 = pd.json_normalize(posts2[\\\"items\\\"])\\n    df_escooter_2 = pd.concat([df_2, df_escooter_2])\";\n",
       "                var nbb_cells = Jupyter.notebook.get_cells();\n",
       "                for (var i = 0; i < nbb_cells.length; ++i) {\n",
       "                    if (nbb_cells[i].input_prompt_number == nbb_cell_id) {\n",
       "                        if (nbb_cells[i].get_text() == nbb_unformatted_code) {\n",
       "                             nbb_cells[i].set_text(nbb_formatted_code);\n",
       "                        }\n",
       "                        break;\n",
       "                    }\n",
       "                }\n",
       "            }, 500);\n",
       "            "
      ],
      "text/plain": [
       "<IPython.core.display.Javascript object>"
      ]
     },
     "metadata": {},
     "output_type": "display_data"
    }
   ],
   "source": [
    "time.sleep(3)\n",
    "df_escooter_2 = pd.DataFrame()\n",
    "for i in range(len(list_of_ids_groups2)):\n",
    "    posts2 = vk_api.wall.search(\n",
    "        v=5.131,\n",
    "        owner_id=-list_of_ids_groups2[i],\n",
    "        query=\"электросамокат\",\n",
    "        owners_only=1,\n",
    "        count=100,\n",
    "    )\n",
    "    df_2 = pd.json_normalize(posts2[\"items\"])\n",
    "    df_escooter_2 = pd.concat([df_2, df_escooter_2])"
   ]
  },
  {
   "cell_type": "code",
   "execution_count": 13,
   "id": "0fd798bf",
   "metadata": {},
   "outputs": [
    {
     "data": {
      "application/javascript": [
       "\n",
       "            setTimeout(function() {\n",
       "                var nbb_cell_id = 13;\n",
       "                var nbb_unformatted_code = \"time.sleep(3)\\ndf_kicksharing_1 = pd.DataFrame()\\nfor i in range(len(list_of_ids_groups1)):\\n    posts3 = vk_api.wall.search(v=5.131, \\n                   owner_id= -list_of_ids_groups1[i],\\n                  query=\\\"\\u043a\\u0438\\u043a\\u0448\\u0435\\u0440\\u0438\\u043d\\u0433\\\",\\n                    owners_only=1,\\n                  count=100)\\n    df_3 = pd.json_normalize(posts3[\\\"items\\\"]) \\n    df_kicksharing_1 = pd.concat([df_3, df_kicksharing_1])\";\n",
       "                var nbb_formatted_code = \"time.sleep(3)\\ndf_kicksharing_1 = pd.DataFrame()\\nfor i in range(len(list_of_ids_groups1)):\\n    posts3 = vk_api.wall.search(\\n        v=5.131,\\n        owner_id=-list_of_ids_groups1[i],\\n        query=\\\"\\u043a\\u0438\\u043a\\u0448\\u0435\\u0440\\u0438\\u043d\\u0433\\\",\\n        owners_only=1,\\n        count=100,\\n    )\\n    df_3 = pd.json_normalize(posts3[\\\"items\\\"])\\n    df_kicksharing_1 = pd.concat([df_3, df_kicksharing_1])\";\n",
       "                var nbb_cells = Jupyter.notebook.get_cells();\n",
       "                for (var i = 0; i < nbb_cells.length; ++i) {\n",
       "                    if (nbb_cells[i].input_prompt_number == nbb_cell_id) {\n",
       "                        if (nbb_cells[i].get_text() == nbb_unformatted_code) {\n",
       "                             nbb_cells[i].set_text(nbb_formatted_code);\n",
       "                        }\n",
       "                        break;\n",
       "                    }\n",
       "                }\n",
       "            }, 500);\n",
       "            "
      ],
      "text/plain": [
       "<IPython.core.display.Javascript object>"
      ]
     },
     "metadata": {},
     "output_type": "display_data"
    }
   ],
   "source": [
    "time.sleep(3)\n",
    "df_kicksharing_1 = pd.DataFrame()\n",
    "for i in range(len(list_of_ids_groups1)):\n",
    "    posts3 = vk_api.wall.search(\n",
    "        v=5.131,\n",
    "        owner_id=-list_of_ids_groups1[i],\n",
    "        query=\"кикшеринг\",\n",
    "        owners_only=1,\n",
    "        count=100,\n",
    "    )\n",
    "    df_3 = pd.json_normalize(posts3[\"items\"])\n",
    "    df_kicksharing_1 = pd.concat([df_3, df_kicksharing_1])"
   ]
  },
  {
   "cell_type": "code",
   "execution_count": 14,
   "id": "ed1ad5ae",
   "metadata": {},
   "outputs": [
    {
     "data": {
      "application/javascript": [
       "\n",
       "            setTimeout(function() {\n",
       "                var nbb_cell_id = 14;\n",
       "                var nbb_unformatted_code = \"time.sleep(3)\\ndf_kicksharing_2 = pd.DataFrame()\\nfor i in range(len(list_of_ids_groups2)):\\n    posts4 = vk_api.wall.search(v=5.131, \\n                   owner_id= -list_of_ids_groups2[i],\\n                  query=\\\"\\u043a\\u0438\\u043a\\u0448\\u0435\\u0440\\u0438\\u043d\\u0433\\\",\\n                    owners_only=1,\\n                  count=100)\\n    df_4 = pd.json_normalize(posts4[\\\"items\\\"]) \\n    df_kicksharing_2 = pd.concat([df_4, df_kicksharing_2])\";\n",
       "                var nbb_formatted_code = \"time.sleep(3)\\ndf_kicksharing_2 = pd.DataFrame()\\nfor i in range(len(list_of_ids_groups2)):\\n    posts4 = vk_api.wall.search(\\n        v=5.131,\\n        owner_id=-list_of_ids_groups2[i],\\n        query=\\\"\\u043a\\u0438\\u043a\\u0448\\u0435\\u0440\\u0438\\u043d\\u0433\\\",\\n        owners_only=1,\\n        count=100,\\n    )\\n    df_4 = pd.json_normalize(posts4[\\\"items\\\"])\\n    df_kicksharing_2 = pd.concat([df_4, df_kicksharing_2])\";\n",
       "                var nbb_cells = Jupyter.notebook.get_cells();\n",
       "                for (var i = 0; i < nbb_cells.length; ++i) {\n",
       "                    if (nbb_cells[i].input_prompt_number == nbb_cell_id) {\n",
       "                        if (nbb_cells[i].get_text() == nbb_unformatted_code) {\n",
       "                             nbb_cells[i].set_text(nbb_formatted_code);\n",
       "                        }\n",
       "                        break;\n",
       "                    }\n",
       "                }\n",
       "            }, 500);\n",
       "            "
      ],
      "text/plain": [
       "<IPython.core.display.Javascript object>"
      ]
     },
     "metadata": {},
     "output_type": "display_data"
    }
   ],
   "source": [
    "time.sleep(3)\n",
    "df_kicksharing_2 = pd.DataFrame()\n",
    "for i in range(len(list_of_ids_groups2)):\n",
    "    posts4 = vk_api.wall.search(\n",
    "        v=5.131,\n",
    "        owner_id=-list_of_ids_groups2[i],\n",
    "        query=\"кикшеринг\",\n",
    "        owners_only=1,\n",
    "        count=100,\n",
    "    )\n",
    "    df_4 = pd.json_normalize(posts4[\"items\"])\n",
    "    df_kicksharing_2 = pd.concat([df_4, df_kicksharing_2])"
   ]
  },
  {
   "cell_type": "code",
   "execution_count": 15,
   "id": "3606ebfa",
   "metadata": {},
   "outputs": [
    {
     "data": {
      "application/javascript": [
       "\n",
       "            setTimeout(function() {\n",
       "                var nbb_cell_id = 15;\n",
       "                var nbb_unformatted_code = \"time.sleep(3)\\ndf_rent_1 = pd.DataFrame()\\nfor i in range(len(list_of_ids_groups1)):\\n    posts5 = vk_api.wall.search(v=5.131, \\n                   owner_id= -list_of_ids_groups1[i],\\n                  query=\\\"\\u0430\\u0440\\u0435\\u043d\\u0434\\u0430 \\u0441\\u0430\\u043c\\u043e\\u043a\\u0430\\u0442\\\",\\n                    owners_only=1,\\n                  count=100)\\n    df_5 = pd.json_normalize(posts5[\\\"items\\\"]) \\n    df_rent_1 = pd.concat([df_5, df_rent_1])\";\n",
       "                var nbb_formatted_code = \"time.sleep(3)\\ndf_rent_1 = pd.DataFrame()\\nfor i in range(len(list_of_ids_groups1)):\\n    posts5 = vk_api.wall.search(\\n        v=5.131,\\n        owner_id=-list_of_ids_groups1[i],\\n        query=\\\"\\u0430\\u0440\\u0435\\u043d\\u0434\\u0430 \\u0441\\u0430\\u043c\\u043e\\u043a\\u0430\\u0442\\\",\\n        owners_only=1,\\n        count=100,\\n    )\\n    df_5 = pd.json_normalize(posts5[\\\"items\\\"])\\n    df_rent_1 = pd.concat([df_5, df_rent_1])\";\n",
       "                var nbb_cells = Jupyter.notebook.get_cells();\n",
       "                for (var i = 0; i < nbb_cells.length; ++i) {\n",
       "                    if (nbb_cells[i].input_prompt_number == nbb_cell_id) {\n",
       "                        if (nbb_cells[i].get_text() == nbb_unformatted_code) {\n",
       "                             nbb_cells[i].set_text(nbb_formatted_code);\n",
       "                        }\n",
       "                        break;\n",
       "                    }\n",
       "                }\n",
       "            }, 500);\n",
       "            "
      ],
      "text/plain": [
       "<IPython.core.display.Javascript object>"
      ]
     },
     "metadata": {},
     "output_type": "display_data"
    }
   ],
   "source": [
    "time.sleep(3)\n",
    "df_rent_1 = pd.DataFrame()\n",
    "for i in range(len(list_of_ids_groups1)):\n",
    "    posts5 = vk_api.wall.search(\n",
    "        v=5.131,\n",
    "        owner_id=-list_of_ids_groups1[i],\n",
    "        query=\"аренда самокат\",\n",
    "        owners_only=1,\n",
    "        count=100,\n",
    "    )\n",
    "    df_5 = pd.json_normalize(posts5[\"items\"])\n",
    "    df_rent_1 = pd.concat([df_5, df_rent_1])"
   ]
  },
  {
   "cell_type": "code",
   "execution_count": 16,
   "id": "28eb8894",
   "metadata": {},
   "outputs": [
    {
     "data": {
      "application/javascript": [
       "\n",
       "            setTimeout(function() {\n",
       "                var nbb_cell_id = 16;\n",
       "                var nbb_unformatted_code = \"time.sleep(3)\\ndf_rent_2 = pd.DataFrame()\\nfor i in range(len(list_of_ids_groups2)):\\n    posts6 = vk_api.wall.search(v=5.131, \\n                   owner_id= -list_of_ids_groups2[i],\\n                  query=\\\"\\u0430\\u0440\\u0435\\u043d\\u0434\\u0430 \\u0441\\u0430\\u043c\\u043e\\u043a\\u0430\\u0442\\\",\\n                    owners_only=1,\\n                  count=100)\\n    df_6 = pd.json_normalize(posts6[\\\"items\\\"]) \\n    df_rent_2 = pd.concat([df_6, df_rent_2])\";\n",
       "                var nbb_formatted_code = \"time.sleep(3)\\ndf_rent_2 = pd.DataFrame()\\nfor i in range(len(list_of_ids_groups2)):\\n    posts6 = vk_api.wall.search(\\n        v=5.131,\\n        owner_id=-list_of_ids_groups2[i],\\n        query=\\\"\\u0430\\u0440\\u0435\\u043d\\u0434\\u0430 \\u0441\\u0430\\u043c\\u043e\\u043a\\u0430\\u0442\\\",\\n        owners_only=1,\\n        count=100,\\n    )\\n    df_6 = pd.json_normalize(posts6[\\\"items\\\"])\\n    df_rent_2 = pd.concat([df_6, df_rent_2])\";\n",
       "                var nbb_cells = Jupyter.notebook.get_cells();\n",
       "                for (var i = 0; i < nbb_cells.length; ++i) {\n",
       "                    if (nbb_cells[i].input_prompt_number == nbb_cell_id) {\n",
       "                        if (nbb_cells[i].get_text() == nbb_unformatted_code) {\n",
       "                             nbb_cells[i].set_text(nbb_formatted_code);\n",
       "                        }\n",
       "                        break;\n",
       "                    }\n",
       "                }\n",
       "            }, 500);\n",
       "            "
      ],
      "text/plain": [
       "<IPython.core.display.Javascript object>"
      ]
     },
     "metadata": {},
     "output_type": "display_data"
    }
   ],
   "source": [
    "time.sleep(3)\n",
    "df_rent_2 = pd.DataFrame()\n",
    "for i in range(len(list_of_ids_groups2)):\n",
    "    posts6 = vk_api.wall.search(\n",
    "        v=5.131,\n",
    "        owner_id=-list_of_ids_groups2[i],\n",
    "        query=\"аренда самокат\",\n",
    "        owners_only=1,\n",
    "        count=100,\n",
    "    )\n",
    "    df_6 = pd.json_normalize(posts6[\"items\"])\n",
    "    df_rent_2 = pd.concat([df_6, df_rent_2])"
   ]
  },
  {
   "cell_type": "code",
   "execution_count": 17,
   "id": "bc53e657",
   "metadata": {},
   "outputs": [
    {
     "data": {
      "application/javascript": [
       "\n",
       "            setTimeout(function() {\n",
       "                var nbb_cell_id = 17;\n",
       "                var nbb_unformatted_code = \"df_rent_1['query'] = '\\u0430\\u0440\\u0435\\u043d\\u0434\\u0430 \\u0441\\u0430\\u043c\\u043e\\u043a\\u0430\\u0442'\\ndf_rent_2['query'] = '\\u0430\\u0440\\u0435\\u043d\\u0434\\u0430 \\u0441\\u0430\\u043c\\u043e\\u043a\\u0430\\u0442'\\ndf_kicksharing_1['query'] = '\\u043a\\u0438\\u043a\\u0448\\u0435\\u0440\\u0438\\u043d\\u0433'\\ndf_kicksharing_2['query'] = '\\u043a\\u0438\\u043a\\u0448\\u0435\\u0440\\u0438\\u043d\\u0433'\\ndf_escooter_1['query'] = '\\u044d\\u043b\\u0435\\u043a\\u0442\\u0440\\u043e\\u0441\\u0430\\u043c\\u043e\\u043a\\u0430\\u0442'\\ndf_escooter_2['query'] = '\\u044d\\u043b\\u0435\\u043a\\u0442\\u0440\\u043e\\u0441\\u0430\\u043c\\u043e\\u043a\\u0430\\u0442'\";\n",
       "                var nbb_formatted_code = \"df_rent_1[\\\"query\\\"] = \\\"\\u0430\\u0440\\u0435\\u043d\\u0434\\u0430 \\u0441\\u0430\\u043c\\u043e\\u043a\\u0430\\u0442\\\"\\ndf_rent_2[\\\"query\\\"] = \\\"\\u0430\\u0440\\u0435\\u043d\\u0434\\u0430 \\u0441\\u0430\\u043c\\u043e\\u043a\\u0430\\u0442\\\"\\ndf_kicksharing_1[\\\"query\\\"] = \\\"\\u043a\\u0438\\u043a\\u0448\\u0435\\u0440\\u0438\\u043d\\u0433\\\"\\ndf_kicksharing_2[\\\"query\\\"] = \\\"\\u043a\\u0438\\u043a\\u0448\\u0435\\u0440\\u0438\\u043d\\u0433\\\"\\ndf_escooter_1[\\\"query\\\"] = \\\"\\u044d\\u043b\\u0435\\u043a\\u0442\\u0440\\u043e\\u0441\\u0430\\u043c\\u043e\\u043a\\u0430\\u0442\\\"\\ndf_escooter_2[\\\"query\\\"] = \\\"\\u044d\\u043b\\u0435\\u043a\\u0442\\u0440\\u043e\\u0441\\u0430\\u043c\\u043e\\u043a\\u0430\\u0442\\\"\";\n",
       "                var nbb_cells = Jupyter.notebook.get_cells();\n",
       "                for (var i = 0; i < nbb_cells.length; ++i) {\n",
       "                    if (nbb_cells[i].input_prompt_number == nbb_cell_id) {\n",
       "                        if (nbb_cells[i].get_text() == nbb_unformatted_code) {\n",
       "                             nbb_cells[i].set_text(nbb_formatted_code);\n",
       "                        }\n",
       "                        break;\n",
       "                    }\n",
       "                }\n",
       "            }, 500);\n",
       "            "
      ],
      "text/plain": [
       "<IPython.core.display.Javascript object>"
      ]
     },
     "metadata": {},
     "output_type": "display_data"
    }
   ],
   "source": [
    "df_rent_1[\"query\"] = \"аренда самокат\"\n",
    "df_rent_2[\"query\"] = \"аренда самокат\"\n",
    "df_kicksharing_1[\"query\"] = \"кикшеринг\"\n",
    "df_kicksharing_2[\"query\"] = \"кикшеринг\"\n",
    "df_escooter_1[\"query\"] = \"электросамокат\"\n",
    "df_escooter_2[\"query\"] = \"электросамокат\""
   ]
  },
  {
   "cell_type": "code",
   "execution_count": 18,
   "id": "9659adf4",
   "metadata": {},
   "outputs": [
    {
     "data": {
      "application/javascript": [
       "\n",
       "            setTimeout(function() {\n",
       "                var nbb_cell_id = 18;\n",
       "                var nbb_unformatted_code = \"df_posts = pd.concat([df_rent_1, df_rent_2, df_kicksharing_1, df_kicksharing_2, df_escooter_1, df_escooter_2])\";\n",
       "                var nbb_formatted_code = \"df_posts = pd.concat(\\n    [\\n        df_rent_1,\\n        df_rent_2,\\n        df_kicksharing_1,\\n        df_kicksharing_2,\\n        df_escooter_1,\\n        df_escooter_2,\\n    ]\\n)\";\n",
       "                var nbb_cells = Jupyter.notebook.get_cells();\n",
       "                for (var i = 0; i < nbb_cells.length; ++i) {\n",
       "                    if (nbb_cells[i].input_prompt_number == nbb_cell_id) {\n",
       "                        if (nbb_cells[i].get_text() == nbb_unformatted_code) {\n",
       "                             nbb_cells[i].set_text(nbb_formatted_code);\n",
       "                        }\n",
       "                        break;\n",
       "                    }\n",
       "                }\n",
       "            }, 500);\n",
       "            "
      ],
      "text/plain": [
       "<IPython.core.display.Javascript object>"
      ]
     },
     "metadata": {},
     "output_type": "display_data"
    }
   ],
   "source": [
    "df_posts = pd.concat(\n",
    "    [\n",
    "        df_rent_1,\n",
    "        df_rent_2,\n",
    "        df_kicksharing_1,\n",
    "        df_kicksharing_2,\n",
    "        df_escooter_1,\n",
    "        df_escooter_2,\n",
    "    ]\n",
    ")"
   ]
  },
  {
   "cell_type": "code",
   "execution_count": 19,
   "id": "88291228",
   "metadata": {},
   "outputs": [
    {
     "data": {
      "application/javascript": [
       "\n",
       "            setTimeout(function() {\n",
       "                var nbb_cell_id = 19;\n",
       "                var nbb_unformatted_code = \"df_posts = df_posts.drop_duplicates(subset='id')\";\n",
       "                var nbb_formatted_code = \"df_posts = df_posts.drop_duplicates(subset=\\\"id\\\")\";\n",
       "                var nbb_cells = Jupyter.notebook.get_cells();\n",
       "                for (var i = 0; i < nbb_cells.length; ++i) {\n",
       "                    if (nbb_cells[i].input_prompt_number == nbb_cell_id) {\n",
       "                        if (nbb_cells[i].get_text() == nbb_unformatted_code) {\n",
       "                             nbb_cells[i].set_text(nbb_formatted_code);\n",
       "                        }\n",
       "                        break;\n",
       "                    }\n",
       "                }\n",
       "            }, 500);\n",
       "            "
      ],
      "text/plain": [
       "<IPython.core.display.Javascript object>"
      ]
     },
     "metadata": {},
     "output_type": "display_data"
    }
   ],
   "source": [
    "df_posts = df_posts.drop_duplicates(subset=\"id\")"
   ]
  },
  {
   "cell_type": "code",
   "execution_count": 20,
   "id": "41ecfd9c",
   "metadata": {},
   "outputs": [
    {
     "data": {
      "application/javascript": [
       "\n",
       "            setTimeout(function() {\n",
       "                var nbb_cell_id = 20;\n",
       "                var nbb_unformatted_code = \"#df_posts.to_csv('df_posts.csv', index=False)\";\n",
       "                var nbb_formatted_code = \"# df_posts.to_csv('df_posts.csv', index=False)\";\n",
       "                var nbb_cells = Jupyter.notebook.get_cells();\n",
       "                for (var i = 0; i < nbb_cells.length; ++i) {\n",
       "                    if (nbb_cells[i].input_prompt_number == nbb_cell_id) {\n",
       "                        if (nbb_cells[i].get_text() == nbb_unformatted_code) {\n",
       "                             nbb_cells[i].set_text(nbb_formatted_code);\n",
       "                        }\n",
       "                        break;\n",
       "                    }\n",
       "                }\n",
       "            }, 500);\n",
       "            "
      ],
      "text/plain": [
       "<IPython.core.display.Javascript object>"
      ]
     },
     "metadata": {},
     "output_type": "display_data"
    }
   ],
   "source": [
    "df_posts.to_csv('df_posts.csv', index=False)"
   ]
  },
  {
   "cell_type": "code",
   "execution_count": null,
   "id": "b560e55b",
   "metadata": {},
   "outputs": [],
   "source": [
    "list_of_id_lists = []\n",
    "for i in range(len(list(df_posts.owner_id.unique()))):\n",
    "    list_of_id_lists.append(\n",
    "        list(\n",
    "            df_posts[df_posts[\"owner_id\"] == list(df_posts.owner_id.unique())[i]][\"id\"]\n",
    "        )\n",
    "    )"
   ]
  },
  {
   "cell_type": "code",
   "execution_count": null,
   "id": "a7171102",
   "metadata": {},
   "outputs": [],
   "source": [
    "list_of_owner_ids = list(df_posts.owner_id.unique())"
   ]
  },
  {
   "cell_type": "code",
   "execution_count": null,
   "id": "85f8e9d2",
   "metadata": {},
   "outputs": [],
   "source": [
    "df1 = pd.DataFrame()\n",
    "df3 = pd.DataFrame()\n",
    "for i in range(len(list_of_owner_ids)):\n",
    "    for j in range(len(list_of_id_lists[i])):\n",
    "        time.sleep(3)\n",
    "        get_comments = vk_api.wall.getComments(v=5.131,\n",
    "                                      owner_id = list_of_owner_ids[i],\n",
    "                                      post_id = list_of_id_lists[i][j],\n",
    "                                      need_likes = 1,\n",
    "                                      count = 100,\n",
    "                                      preview_length = 0,\n",
    "                                      extended = 1,\n",
    "                                      thread_items_count = 10,\n",
    "                                      fields = ['bdate', 'city', 'home_town'])\n",
    "        df2 = pd.json_normalize(get_comments[\"items\"])\n",
    "        df4 = pd.json_normalize(get_comments[\"profiles\"])\n",
    "        df1 = pd.concat([df1, df2])\n",
    "        df3 = pd.concat([df3, df4])"
   ]
  },
  {
   "cell_type": "code",
   "execution_count": null,
   "id": "06ce39db",
   "metadata": {},
   "outputs": [],
   "source": [
    "df1.to_csv('comments.csv', index=False)"
   ]
  },
  {
   "cell_type": "code",
   "execution_count": null,
   "id": "ae3c991f",
   "metadata": {},
   "outputs": [],
   "source": [
    "df3.to_csv('people.csv', index=False)"
   ]
  },
  {
   "cell_type": "code",
   "execution_count": null,
   "id": "3f5af9d5",
   "metadata": {},
   "outputs": [],
   "source": [
    "comments = pd.read_csv('comments.csv')"
   ]
  },
  {
   "cell_type": "code",
   "execution_count": null,
   "id": "3a519b2a",
   "metadata": {},
   "outputs": [],
   "source": [
    "df_threads = pd.DataFrame()\n",
    "for i in comments['thread.items'].index:\n",
    "    thread = ast.literal_eval(comments['thread.items'][i])\n",
    "    df_thred = pd.json_normalize(thread)\n",
    "    df_threads = pd.concat([df_thred, df_threads])"
   ]
  },
  {
   "cell_type": "code",
   "execution_count": null,
   "id": "1f6286dc",
   "metadata": {},
   "outputs": [],
   "source": [
    "df_threads = df_threads.reset_index(drop=True)"
   ]
  },
  {
   "cell_type": "code",
   "execution_count": null,
   "id": "c4a5986b",
   "metadata": {},
   "outputs": [],
   "source": [
    "df_threads = df_threads[1770:]"
   ]
  },
  {
   "cell_type": "code",
   "execution_count": null,
   "id": "bb5f22ac",
   "metadata": {},
   "outputs": [],
   "source": [
    "df_threads = df_threads.reset_index(drop=True)"
   ]
  },
  {
   "cell_type": "code",
   "execution_count": null,
   "id": "f0cf5def",
   "metadata": {},
   "outputs": [],
   "source": [
    "df_threads = df_threads[802:]\n",
    "df_threads = df_threads.reset_index(drop=True)"
   ]
  },
  {
   "cell_type": "code",
   "execution_count": 23,
   "id": "ac915c65",
   "metadata": {},
   "outputs": [
    {
     "data": {
      "application/javascript": [
       "\n",
       "            setTimeout(function() {\n",
       "                var nbb_cell_id = 23;\n",
       "                var nbb_unformatted_code = \"#df_threads.to_csv('df_threads.csv', index=False)\";\n",
       "                var nbb_formatted_code = \"# df_threads.to_csv('df_threads.csv', index=False)\";\n",
       "                var nbb_cells = Jupyter.notebook.get_cells();\n",
       "                for (var i = 0; i < nbb_cells.length; ++i) {\n",
       "                    if (nbb_cells[i].input_prompt_number == nbb_cell_id) {\n",
       "                        if (nbb_cells[i].get_text() == nbb_unformatted_code) {\n",
       "                             nbb_cells[i].set_text(nbb_formatted_code);\n",
       "                        }\n",
       "                        break;\n",
       "                    }\n",
       "                }\n",
       "            }, 500);\n",
       "            "
      ],
      "text/plain": [
       "<IPython.core.display.Javascript object>"
      ]
     },
     "metadata": {},
     "output_type": "display_data"
    }
   ],
   "source": [
    "df_threads.to_csv('df_threads.csv', index=False)"
   ]
  },
  {
   "cell_type": "code",
   "execution_count": null,
   "id": "a493e86b",
   "metadata": {},
   "outputs": [],
   "source": [
    "df_threads_ = pd.DataFrame()\n",
    "for i in range(len(df_threads[\"id\"])):\n",
    "    time.sleep(3)\n",
    "    get_comments = vk_api.wall.getComment(\n",
    "        v=5.131,\n",
    "        owner_id=df_threads[\"owner_id\"][i],\n",
    "        comment_id=df_threads[\"id\"][i],\n",
    "        extended=1,\n",
    "        fields=[\"bdate\", \"city\", \"home_town\"],\n",
    "    )\n",
    "    df_threads_1 = pd.json_normalize(get_comments[\"profiles\"])\n",
    "    df_threads_ = pd.concat([df_threads_, df_threads_1])"
   ]
  },
  {
   "cell_type": "code",
   "execution_count": 25,
   "id": "2e5d818a",
   "metadata": {},
   "outputs": [
    {
     "data": {
      "application/javascript": [
       "\n",
       "            setTimeout(function() {\n",
       "                var nbb_cell_id = 25;\n",
       "                var nbb_unformatted_code = \"#df_threads_.to_csv('people_threads_part3.csv', index=False)\\n#df_threads_.to_csv('people_threads_part2.csv', index=False)\\n#df_threads_.to_csv('people_threads_part2.csv', index=False)\";\n",
       "                var nbb_formatted_code = \"# df_threads_.to_csv('people_threads_part3.csv', index=False)\\n# df_threads_.to_csv('people_threads_part2.csv', index=False)\\n# df_threads_.to_csv('people_threads_part2.csv', index=False)\";\n",
       "                var nbb_cells = Jupyter.notebook.get_cells();\n",
       "                for (var i = 0; i < nbb_cells.length; ++i) {\n",
       "                    if (nbb_cells[i].input_prompt_number == nbb_cell_id) {\n",
       "                        if (nbb_cells[i].get_text() == nbb_unformatted_code) {\n",
       "                             nbb_cells[i].set_text(nbb_formatted_code);\n",
       "                        }\n",
       "                        break;\n",
       "                    }\n",
       "                }\n",
       "            }, 500);\n",
       "            "
      ],
      "text/plain": [
       "<IPython.core.display.Javascript object>"
      ]
     },
     "metadata": {},
     "output_type": "display_data"
    }
   ],
   "source": [
    "df_threads_.to_csv('people_threads_part3.csv', index=False)\n",
    "df_threads_.to_csv('people_threads_part2.csv', index=False)\n",
    "df_threads_.to_csv('people_threads_part2.csv', index=False)"
   ]
  },
  {
   "cell_type": "code",
   "execution_count": 28,
   "id": "786daa65",
   "metadata": {},
   "outputs": [
    {
     "data": {
      "application/javascript": [
       "\n",
       "            setTimeout(function() {\n",
       "                var nbb_cell_id = 28;\n",
       "                var nbb_unformatted_code = \"posts = pd.read_csv(\\\"df_posts.csv\\\")\\ncomments = pd.read_csv(\\\"comments.csv\\\")\\npeople = pd.read_csv(\\\"people.csv\\\")\\nthreads = pd.read_csv(\\\"df_threads.csv\\\")\\npeople_threads = pd.read_csv(\\\"df_threads.csv\\\")\";\n",
       "                var nbb_formatted_code = \"posts = pd.read_csv(\\\"df_posts.csv\\\")\\ncomments = pd.read_csv(\\\"comments.csv\\\")\\npeople = pd.read_csv(\\\"people.csv\\\")\\nthreads = pd.read_csv(\\\"df_threads.csv\\\")\\npeople_threads = pd.read_csv(\\\"df_threads.csv\\\")\";\n",
       "                var nbb_cells = Jupyter.notebook.get_cells();\n",
       "                for (var i = 0; i < nbb_cells.length; ++i) {\n",
       "                    if (nbb_cells[i].input_prompt_number == nbb_cell_id) {\n",
       "                        if (nbb_cells[i].get_text() == nbb_unformatted_code) {\n",
       "                             nbb_cells[i].set_text(nbb_formatted_code);\n",
       "                        }\n",
       "                        break;\n",
       "                    }\n",
       "                }\n",
       "            }, 500);\n",
       "            "
      ],
      "text/plain": [
       "<IPython.core.display.Javascript object>"
      ]
     },
     "metadata": {},
     "output_type": "display_data"
    }
   ],
   "source": [
    "posts = pd.read_csv(\"df_posts.csv\")\n",
    "comments = pd.read_csv(\"comments.csv\")\n",
    "people = pd.read_csv(\"people.csv\")\n",
    "threads = pd.read_csv(\"df_threads.csv\")\n",
    "people_threads = pd.read_csv(\"df_threads.csv\")"
   ]
  },
  {
   "cell_type": "code",
   "execution_count": 27,
   "id": "9d116f12",
   "metadata": {},
   "outputs": [
    {
     "name": "stdout",
     "output_type": "stream",
     "text": [
      "(311, 27)\n",
      "(5434, 20)\n",
      "(6668, 10)\n",
      "(4830, 14)\n",
      "(4830, 14)\n"
     ]
    },
    {
     "data": {
      "application/javascript": [
       "\n",
       "            setTimeout(function() {\n",
       "                var nbb_cell_id = 27;\n",
       "                var nbb_unformatted_code = \"for i in [posts, comments, people, threads, people_threads]:\\n    print(i.shape)\";\n",
       "                var nbb_formatted_code = \"for i in [posts, comments, people, threads, people_threads]:\\n    print(i.shape)\";\n",
       "                var nbb_cells = Jupyter.notebook.get_cells();\n",
       "                for (var i = 0; i < nbb_cells.length; ++i) {\n",
       "                    if (nbb_cells[i].input_prompt_number == nbb_cell_id) {\n",
       "                        if (nbb_cells[i].get_text() == nbb_unformatted_code) {\n",
       "                             nbb_cells[i].set_text(nbb_formatted_code);\n",
       "                        }\n",
       "                        break;\n",
       "                    }\n",
       "                }\n",
       "            }, 500);\n",
       "            "
      ],
      "text/plain": [
       "<IPython.core.display.Javascript object>"
      ]
     },
     "metadata": {},
     "output_type": "display_data"
    }
   ],
   "source": [
    "for i in [posts, comments, people, threads, people_threads]:\n",
    "    print(i.shape)"
   ]
  },
  {
   "cell_type": "markdown",
   "id": "66c4e824",
   "metadata": {},
   "source": [
    "## Describe a social portrait of people commenting on kicksharing posts in VK publics"
   ]
  },
  {
   "cell_type": "code",
   "execution_count": 29,
   "id": "782d6f57",
   "metadata": {},
   "outputs": [
    {
     "data": {
      "application/javascript": [
       "\n",
       "            setTimeout(function() {\n",
       "                var nbb_cell_id = 29;\n",
       "                var nbb_unformatted_code = \"# concatenating information about the main commentators + commentators from the thread\\nall_people = pd.concat([people, people_threads])\\nall_people = all_people[~all_people.last_name.isna()]\\nall_people.drop_duplicates(inplace=True)\\n# remove deleted and blocked users\\nall_people = all_people[~all_people.deactivated.isin([\\\"banned\\\", \\\"deleted\\\"])]\\n# there are several problems with age \\u2013 missing data and the absence of a year in the data\\n# let's take the minimum age value in terms of the number of characters and filter out those who have age data\\nall_people_with_age = all_people[\\n    all_people.bdate.apply(lambda x: len(str(x))) >= len(\\\"7.1.1985\\\")\\n]\\n#  find those who have no age or it is without a year\\nall_people_without_age = all_people[\\n    all_people.bdate.apply(lambda x: len(str(x))) < len(\\\"7.1.1985\\\")\\n]\";\n",
       "                var nbb_formatted_code = \"# concatenating information about the main commentators + commentators from the thread\\nall_people = pd.concat([people, people_threads])\\nall_people = all_people[~all_people.last_name.isna()]\\nall_people.drop_duplicates(inplace=True)\\n# remove deleted and blocked users\\nall_people = all_people[~all_people.deactivated.isin([\\\"banned\\\", \\\"deleted\\\"])]\\n# there are several problems with age \\u2013 missing data and the absence of a year in the data\\n# let's take the minimum age value in terms of the number of characters and filter out those who have age data\\nall_people_with_age = all_people[\\n    all_people.bdate.apply(lambda x: len(str(x))) >= len(\\\"7.1.1985\\\")\\n]\\n#  find those who have no age or it is without a year\\nall_people_without_age = all_people[\\n    all_people.bdate.apply(lambda x: len(str(x))) < len(\\\"7.1.1985\\\")\\n]\";\n",
       "                var nbb_cells = Jupyter.notebook.get_cells();\n",
       "                for (var i = 0; i < nbb_cells.length; ++i) {\n",
       "                    if (nbb_cells[i].input_prompt_number == nbb_cell_id) {\n",
       "                        if (nbb_cells[i].get_text() == nbb_unformatted_code) {\n",
       "                             nbb_cells[i].set_text(nbb_formatted_code);\n",
       "                        }\n",
       "                        break;\n",
       "                    }\n",
       "                }\n",
       "            }, 500);\n",
       "            "
      ],
      "text/plain": [
       "<IPython.core.display.Javascript object>"
      ]
     },
     "metadata": {},
     "output_type": "display_data"
    }
   ],
   "source": [
    "# concatenating information about the main commentators + commentators from the thread\n",
    "all_people = pd.concat([people, people_threads])\n",
    "all_people = all_people[~all_people.last_name.isna()]\n",
    "all_people.drop_duplicates(inplace=True)\n",
    "# remove deleted and blocked users\n",
    "all_people = all_people[~all_people.deactivated.isin([\"banned\", \"deleted\"])]\n",
    "# there are several problems with age – missing data and the absence of a year in the data\n",
    "# let's take the minimum age value in terms of the number of characters and filter out those who have age data\n",
    "all_people_with_age = all_people[\n",
    "    all_people.bdate.apply(lambda x: len(str(x))) >= len(\"7.1.1985\")\n",
    "]\n",
    "#  find those who have no age or it is without a year\n",
    "all_people_without_age = all_people[\n",
    "    all_people.bdate.apply(lambda x: len(str(x))) < len(\"7.1.1985\")\n",
    "]"
   ]
  },
  {
   "cell_type": "code",
   "execution_count": 30,
   "id": "35f7c45c",
   "metadata": {},
   "outputs": [
    {
     "data": {
      "text/plain": [
       "[Text(0.5, 0, 'Возраст, в годах')]"
      ]
     },
     "execution_count": 30,
     "metadata": {},
     "output_type": "execute_result"
    },
    {
     "data": {
      "image/png": "[encoded data removed]",
      "text/plain": [
       "<Figure size 432x288 with 1 Axes>"
      ]
     },
     "metadata": {
      "image/png": {
       "height": 261,
       "width": 352
      },
      "needs_background": "light"
     },
     "output_type": "display_data"
    },
    {
     "data": {
      "application/javascript": [
       "\n",
       "            setTimeout(function() {\n",
       "                var nbb_cell_id = 30;\n",
       "                var nbb_unformatted_code = \"age_list = list(all_people_with_age.bdate)\\n# Since the age format is str, it needs to be converted to datetime.\\nfor i in range(len(age_list)):\\n    if (age_list[i].find(\\\".\\\") == 1) & (\\n        age_list[i].find(\\\".\\\", age_list[i].find(\\\".\\\") + 1) == 3\\n    ):\\n        age_list[i] = \\\"0\\\" + age_list[i]\\n        age_list[i] = age_list[i][:3] + \\\"0\\\" + age_list[i][3:]\\n\\n    if (age_list[i].find(\\\".\\\") == 1) & (\\n        age_list[i].find(\\\".\\\", age_list[i].find(\\\".\\\") + 1) == 4\\n    ):\\n        age_list[i] = \\\"0\\\" + age_list[i]\\n\\n    if (age_list[i].find(\\\".\\\") == 2) & (\\n        (age_list[i].find(\\\".\\\", age_list[i].find(\\\".\\\") + 1)) == 4\\n    ):\\n        age_list[i] = age_list[i][:3] + \\\"0\\\" + age_list[i][3:]\\n\\n    if (age_list[i].find(\\\".\\\") == 1) & (\\n        age_list[i].find(\\\".\\\", age_list[i].find(\\\".\\\") + 1) == 4\\n    ):\\n        age_list[i] = \\\"0\\\" + age_list[i]\\n\\nall_people_with_age.insert(loc=1, column=\\\"age\\\", value=age_list)\\n\\nall_people_with_age[\\\"age_len\\\"] = all_people_with_age.age.apply(lambda x: len(str(x)))\\nall_people_with_age.age = all_people_with_age.age.apply(\\n    lambda x: datetime.strptime(x, \\\"%d.%m.%Y\\\")\\n)\\n\\n\\ndef calculate_age(born):\\n    today = date.today()\\n    return today.year - born.year - ((today.month, today.day) < (born.month, born.day))\\n\\n\\nall_people_with_age[\\\"age_years\\\"] = all_people_with_age.age.apply(\\n    lambda x: calculate_age(x)\\n)\\nall_people_with_age = all_people_with_age.reset_index(drop=True)\\nsns.boxplot(all_people_with_age[\\\"age_years\\\"], palette=\\\"Set3\\\").set(\\n    xlabel=\\\"\\u0412\\u043e\\u0437\\u0440\\u0430\\u0441\\u0442, \\u0432 \\u0433\\u043e\\u0434\\u0430\\u0445\\\"\\n)\";\n",
       "                var nbb_formatted_code = \"age_list = list(all_people_with_age.bdate)\\n# Since the age format is str, it needs to be converted to datetime.\\nfor i in range(len(age_list)):\\n    if (age_list[i].find(\\\".\\\") == 1) & (\\n        age_list[i].find(\\\".\\\", age_list[i].find(\\\".\\\") + 1) == 3\\n    ):\\n        age_list[i] = \\\"0\\\" + age_list[i]\\n        age_list[i] = age_list[i][:3] + \\\"0\\\" + age_list[i][3:]\\n\\n    if (age_list[i].find(\\\".\\\") == 1) & (\\n        age_list[i].find(\\\".\\\", age_list[i].find(\\\".\\\") + 1) == 4\\n    ):\\n        age_list[i] = \\\"0\\\" + age_list[i]\\n\\n    if (age_list[i].find(\\\".\\\") == 2) & (\\n        (age_list[i].find(\\\".\\\", age_list[i].find(\\\".\\\") + 1)) == 4\\n    ):\\n        age_list[i] = age_list[i][:3] + \\\"0\\\" + age_list[i][3:]\\n\\n    if (age_list[i].find(\\\".\\\") == 1) & (\\n        age_list[i].find(\\\".\\\", age_list[i].find(\\\".\\\") + 1) == 4\\n    ):\\n        age_list[i] = \\\"0\\\" + age_list[i]\\n\\nall_people_with_age.insert(loc=1, column=\\\"age\\\", value=age_list)\\n\\nall_people_with_age[\\\"age_len\\\"] = all_people_with_age.age.apply(lambda x: len(str(x)))\\nall_people_with_age.age = all_people_with_age.age.apply(\\n    lambda x: datetime.strptime(x, \\\"%d.%m.%Y\\\")\\n)\\n\\n\\ndef calculate_age(born):\\n    today = date.today()\\n    return today.year - born.year - ((today.month, today.day) < (born.month, born.day))\\n\\n\\nall_people_with_age[\\\"age_years\\\"] = all_people_with_age.age.apply(\\n    lambda x: calculate_age(x)\\n)\\nall_people_with_age = all_people_with_age.reset_index(drop=True)\\nsns.boxplot(all_people_with_age[\\\"age_years\\\"], palette=\\\"Set3\\\").set(\\n    xlabel=\\\"\\u0412\\u043e\\u0437\\u0440\\u0430\\u0441\\u0442, \\u0432 \\u0433\\u043e\\u0434\\u0430\\u0445\\\"\\n)\";\n",
       "                var nbb_cells = Jupyter.notebook.get_cells();\n",
       "                for (var i = 0; i < nbb_cells.length; ++i) {\n",
       "                    if (nbb_cells[i].input_prompt_number == nbb_cell_id) {\n",
       "                        if (nbb_cells[i].get_text() == nbb_unformatted_code) {\n",
       "                             nbb_cells[i].set_text(nbb_formatted_code);\n",
       "                        }\n",
       "                        break;\n",
       "                    }\n",
       "                }\n",
       "            }, 500);\n",
       "            "
      ],
      "text/plain": [
       "<IPython.core.display.Javascript object>"
      ]
     },
     "metadata": {},
     "output_type": "display_data"
    }
   ],
   "source": [
    "age_list = list(all_people_with_age.bdate)\n",
    "# Since the age format is str, it needs to be converted to datetime.\n",
    "for i in range(len(age_list)):\n",
    "    if (age_list[i].find(\".\") == 1) & (\n",
    "        age_list[i].find(\".\", age_list[i].find(\".\") + 1) == 3\n",
    "    ):\n",
    "        age_list[i] = \"0\" + age_list[i]\n",
    "        age_list[i] = age_list[i][:3] + \"0\" + age_list[i][3:]\n",
    "\n",
    "    if (age_list[i].find(\".\") == 1) & (\n",
    "        age_list[i].find(\".\", age_list[i].find(\".\") + 1) == 4\n",
    "    ):\n",
    "        age_list[i] = \"0\" + age_list[i]\n",
    "\n",
    "    if (age_list[i].find(\".\") == 2) & (\n",
    "        (age_list[i].find(\".\", age_list[i].find(\".\") + 1)) == 4\n",
    "    ):\n",
    "        age_list[i] = age_list[i][:3] + \"0\" + age_list[i][3:]\n",
    "\n",
    "    if (age_list[i].find(\".\") == 1) & (\n",
    "        age_list[i].find(\".\", age_list[i].find(\".\") + 1) == 4\n",
    "    ):\n",
    "        age_list[i] = \"0\" + age_list[i]\n",
    "\n",
    "all_people_with_age.insert(loc=1, column=\"age\", value=age_list)\n",
    "\n",
    "all_people_with_age[\"age_len\"] = all_people_with_age.age.apply(lambda x: len(str(x)))\n",
    "all_people_with_age.age = all_people_with_age.age.apply(\n",
    "    lambda x: datetime.strptime(x, \"%d.%m.%Y\")\n",
    ")\n",
    "\n",
    "\n",
    "def calculate_age(born):\n",
    "    today = date.today()\n",
    "    return today.year - born.year - ((today.month, today.day) < (born.month, born.day))\n",
    "\n",
    "\n",
    "all_people_with_age[\"age_years\"] = all_people_with_age.age.apply(\n",
    "    lambda x: calculate_age(x)\n",
    ")\n",
    "all_people_with_age = all_people_with_age.reset_index(drop=True)\n",
    "sns.boxplot(all_people_with_age[\"age_years\"], palette=\"Set3\").set(\n",
    "    xlabel=\"Возраст, в годах\"\n",
    ")"
   ]
  },
  {
   "cell_type": "code",
   "execution_count": 31,
   "id": "a8b75fb6",
   "metadata": {},
   "outputs": [
    {
     "name": "stdout",
     "output_type": "stream",
     "text": [
      "Median age is 38.0\n"
     ]
    },
    {
     "data": {
      "application/javascript": [
       "\n",
       "            setTimeout(function() {\n",
       "                var nbb_cell_id = 31;\n",
       "                var nbb_unformatted_code = \"#The graph shows that there are outliers in the data. \\n#Let's apply the z-criteria in order to identify the index of people with an outlier age.\\nz = np.abs(stats.zscore(all_people_with_age[\\\"age_years\\\"]))\\nthreshold = 3\\noutliers_age = list((np.where(z > 3))[0])\\n\\n# Let's remove outliers from the data and calculate the median\\nall_people_with_age_without_outliers = all_people_with_age[\\n    ~all_people_with_age.index.isin(outliers_age)\\n]\\nprint(f\\\"Median age is {all_people_with_age_without_outliers.age_years.median()}\\\")\";\n",
       "                var nbb_formatted_code = \"# The graph shows that there are outliers in the data.\\n# Let's apply the z-criteria in order to identify the index of people with an outlier age.\\nz = np.abs(stats.zscore(all_people_with_age[\\\"age_years\\\"]))\\nthreshold = 3\\noutliers_age = list((np.where(z > 3))[0])\\n\\n# Let's remove outliers from the data and calculate the median\\nall_people_with_age_without_outliers = all_people_with_age[\\n    ~all_people_with_age.index.isin(outliers_age)\\n]\\nprint(f\\\"Median age is {all_people_with_age_without_outliers.age_years.median()}\\\")\";\n",
       "                var nbb_cells = Jupyter.notebook.get_cells();\n",
       "                for (var i = 0; i < nbb_cells.length; ++i) {\n",
       "                    if (nbb_cells[i].input_prompt_number == nbb_cell_id) {\n",
       "                        if (nbb_cells[i].get_text() == nbb_unformatted_code) {\n",
       "                             nbb_cells[i].set_text(nbb_formatted_code);\n",
       "                        }\n",
       "                        break;\n",
       "                    }\n",
       "                }\n",
       "            }, 500);\n",
       "            "
      ],
      "text/plain": [
       "<IPython.core.display.Javascript object>"
      ]
     },
     "metadata": {},
     "output_type": "display_data"
    }
   ],
   "source": [
    "# The graph shows that there are outliers in the data.\n",
    "# Let's apply the z-criteria in order to identify the index of people with an outlier age.\n",
    "z = np.abs(stats.zscore(all_people_with_age[\"age_years\"]))\n",
    "threshold = 3\n",
    "outliers_age = list((np.where(z > 3))[0])\n",
    "\n",
    "# Let's remove outliers from the data and calculate the median\n",
    "all_people_with_age_without_outliers = all_people_with_age[\n",
    "    ~all_people_with_age.index.isin(outliers_age)\n",
    "]\n",
    "print(f\"Median age is {all_people_with_age_without_outliers.age_years.median()}\")"
   ]
  },
  {
   "cell_type": "code",
   "execution_count": 32,
   "id": "952129d9",
   "metadata": {},
   "outputs": [
    {
     "name": "stdout",
     "output_type": "stream",
     "text": [
      "Median age for people with age is 38.0\n"
     ]
    },
    {
     "data": {
      "application/javascript": [
       "\n",
       "            setTimeout(function() {\n",
       "                var nbb_cell_id = 32;\n",
       "                var nbb_unformatted_code = \"# Replace the age of people with the age-outlier by the median and calculate the median for all people with age\\nall_people_with_age.loc[\\n    outliers_age, \\\"age_years\\\"\\n] = all_people_with_age_without_outliers.age_years.median()\\nprint(f\\\"Median age for people with age is {all_people_with_age.age_years.median()}\\\")\";\n",
       "                var nbb_formatted_code = \"# Replace the age of people with the age-outlier by the median and calculate the median for all people with age\\nall_people_with_age.loc[\\n    outliers_age, \\\"age_years\\\"\\n] = all_people_with_age_without_outliers.age_years.median()\\nprint(f\\\"Median age for people with age is {all_people_with_age.age_years.median()}\\\")\";\n",
       "                var nbb_cells = Jupyter.notebook.get_cells();\n",
       "                for (var i = 0; i < nbb_cells.length; ++i) {\n",
       "                    if (nbb_cells[i].input_prompt_number == nbb_cell_id) {\n",
       "                        if (nbb_cells[i].get_text() == nbb_unformatted_code) {\n",
       "                             nbb_cells[i].set_text(nbb_formatted_code);\n",
       "                        }\n",
       "                        break;\n",
       "                    }\n",
       "                }\n",
       "            }, 500);\n",
       "            "
      ],
      "text/plain": [
       "<IPython.core.display.Javascript object>"
      ]
     },
     "metadata": {},
     "output_type": "display_data"
    }
   ],
   "source": [
    "# Replace the age of people with the age-outlier by the median and calculate the median for all people with age\n",
    "all_people_with_age.loc[\n",
    "    outliers_age, \"age_years\"\n",
    "] = all_people_with_age_without_outliers.age_years.median()\n",
    "print(f\"Median age for people with age is {all_people_with_age.age_years.median()}\")"
   ]
  },
  {
   "cell_type": "code",
   "execution_count": 8,
   "id": "a55b6da1",
   "metadata": {},
   "outputs": [
    {
     "name": "stdout",
     "output_type": "stream",
     "text": [
      "count    2102.000000\n",
      "mean       39.812084\n",
      "std        13.608603\n",
      "min        14.000000\n",
      "25%        32.000000\n",
      "50%        38.000000\n",
      "75%        46.750000\n",
      "max        95.000000\n",
      "Name: age_years, dtype: float64\n"
     ]
    },
    {
     "data": {
      "application/javascript": [
       "\n",
       "            setTimeout(function() {\n",
       "                var nbb_cell_id = 8;\n",
       "                var nbb_unformatted_code = \"print(all_people_with_age.age_years.describe())\";\n",
       "                var nbb_formatted_code = \"print(all_people_with_age.age_years.describe())\";\n",
       "                var nbb_cells = Jupyter.notebook.get_cells();\n",
       "                for (var i = 0; i < nbb_cells.length; ++i) {\n",
       "                    if (nbb_cells[i].input_prompt_number == nbb_cell_id) {\n",
       "                        if (nbb_cells[i].get_text() == nbb_unformatted_code) {\n",
       "                             nbb_cells[i].set_text(nbb_formatted_code);\n",
       "                        }\n",
       "                        break;\n",
       "                    }\n",
       "                }\n",
       "            }, 500);\n",
       "            "
      ],
      "text/plain": [
       "<IPython.core.display.Javascript object>"
      ]
     },
     "metadata": {},
     "output_type": "display_data"
    }
   ],
   "source": [
    "print(all_people_with_age.age_years.describe())"
   ]
  },
  {
   "cell_type": "code",
   "execution_count": 33,
   "id": "e8cf038d",
   "metadata": {
    "scrolled": true
   },
   "outputs": [
    {
     "data": {
      "application/javascript": [
       "\n",
       "            setTimeout(function() {\n",
       "                var nbb_cell_id = 33;\n",
       "                var nbb_unformatted_code = \"# get the final dataset with the correct age for all users\\nall_people_without_age[\\\"age_years\\\"] = all_people_with_age.age_years.median()\\nall_people_clear_age = pd.concat([all_people_without_age, all_people_with_age])\\nall_people_clear_age.reset_index(drop=True, inplace=True)\";\n",
       "                var nbb_formatted_code = \"# get the final dataset with the correct age for all users\\nall_people_without_age[\\\"age_years\\\"] = all_people_with_age.age_years.median()\\nall_people_clear_age = pd.concat([all_people_without_age, all_people_with_age])\\nall_people_clear_age.reset_index(drop=True, inplace=True)\";\n",
       "                var nbb_cells = Jupyter.notebook.get_cells();\n",
       "                for (var i = 0; i < nbb_cells.length; ++i) {\n",
       "                    if (nbb_cells[i].input_prompt_number == nbb_cell_id) {\n",
       "                        if (nbb_cells[i].get_text() == nbb_unformatted_code) {\n",
       "                             nbb_cells[i].set_text(nbb_formatted_code);\n",
       "                        }\n",
       "                        break;\n",
       "                    }\n",
       "                }\n",
       "            }, 500);\n",
       "            "
      ],
      "text/plain": [
       "<IPython.core.display.Javascript object>"
      ]
     },
     "metadata": {},
     "output_type": "display_data"
    }
   ],
   "source": [
    "# get the final dataset with the correct age for all users\n",
    "all_people_without_age[\"age_years\"] = all_people_with_age.age_years.median()\n",
    "all_people_clear_age = pd.concat([all_people_without_age, all_people_with_age])\n",
    "all_people_clear_age.reset_index(drop=True, inplace=True)"
   ]
  },
  {
   "cell_type": "code",
   "execution_count": 34,
   "id": "c75f4563",
   "metadata": {},
   "outputs": [
    {
     "data": {
      "text/plain": [
       "Counter({'f': 1261, 'm': 3102, 'unk': 346})"
      ]
     },
     "execution_count": 34,
     "metadata": {},
     "output_type": "execute_result"
    },
    {
     "data": {
      "application/javascript": [
       "\n",
       "            setTimeout(function() {\n",
       "                var nbb_cell_id = 34;\n",
       "                var nbb_unformatted_code = \"# Let's determine the gender of a person using a database of fake names and gender.\\n# We will also add names and surnames translated to the dataset.\\ndfru = pd.read_csv(\\\"FakeNameGenerator.com_de68fd01.csv\\\")\\nlist_of_translit_names = []\\nfor i in dfru.GivenName.index:\\n    list_of_translit_names.append(\\n        translit(dfru.GivenName[i], language_code=\\\"ru\\\", reversed=True)\\n    )\\n\\nlist_of_translit_surnames = []\\nfor i in dfru.Surname.index:\\n    list_of_translit_surnames.append(\\n        translit(dfru.Surname[i], language_code=\\\"ru\\\", reversed=True)\\n    )\\n\\ndf_of_translit_names = pd.DataFrame(list_of_translit_names)\\ndf_of_translit_surnames = pd.DataFrame(list_of_translit_surnames)\\n\\ndf_of_translit_names = df_of_translit_names.rename(columns={0: \\\"GivenName\\\"})\\ndf_of_translit_surnames = df_of_translit_surnames.rename(columns={0: \\\"Surname\\\"})\\n\\ndf_translit = pd.concat([df_of_translit_names, df_of_translit_surnames], axis=1)\\ndf_translit = pd.concat([df_translit, dfru[\\\"Gender\\\"]], axis=1)\\n\\ndfru = pd.concat([dfru, df_translit])\\ndfru = dfru.reset_index(drop=True)\\n\\n# Let's also take an additional dataset and add a translit to it\\n\\ndf2 = pd.read_csv(\\\"russian_names.csv\\\", sep=\\\";\\\")\\n\\ndict1 = {\\\"\\u0416\\\": \\\"female\\\", \\\"\\u041c\\\": \\\"male\\\"}\\ndf2[\\\"Gender\\\"] = df2.Sex.apply(lambda x: dict1[x])\\n\\ndf2 = df2[[\\\"Name\\\", \\\"Gender\\\"]]\\ndf2 = df2.rename(columns={\\\"Name\\\": \\\"GivenName\\\"})\\n\\nlist_of_translit_names2 = []\\nfor i in df2.GivenName.index:\\n    list_of_translit_names2.append(\\n        translit(df2.GivenName[i], language_code=\\\"ru\\\", reversed=True)\\n    )\\ndf_of_translit_names2 = pd.DataFrame(list_of_translit_names2)\\ndf_of_translit_names2 = df_of_translit_names2.rename(columns={0: \\\"GivenName\\\"})\\ndf_translit2 = pd.concat([df_of_translit_names2, df2[\\\"Gender\\\"]], axis=1)\\n\\ndf2 = pd.concat([df2, df_translit2])\\ndf2 = df2.reset_index(drop=True)\\n\\ndfru = pd.concat([dfru, df2])\\n\\n# Let's also take a dataset with foreign names\\n\\ndf3 = pd.read_csv(\\\"foreign_names.csv\\\", sep=\\\";\\\")\\n\\ndf3 = df3[[\\\"name\\\", \\\"gender\\\"]]\\ndf3 = df3.rename(columns={\\\"name\\\": \\\"GivenName\\\", \\\"gender\\\": \\\"Gender\\\"})\\n\\ndfru = pd.concat([dfru, df3])\\ndfru.Surname = dfru.Surname.fillna(\\\"x\\\")\\ndfru.Gender = dfru.Gender.apply(lambda x: x.lower())\\n\\n# Let's create words with female and male names and the endings of surnames\\n\\nrumalenames = set(dfru[dfru[\\\"Gender\\\"] == \\\"male\\\"][\\\"GivenName\\\"])\\nrumalesurnames = set(s[-3:] for s in dfru[dfru[\\\"Gender\\\"] == \\\"male\\\"][\\\"Surname\\\"])\\n\\nrufemalenames = set(dfru[dfru[\\\"Gender\\\"] == \\\"female\\\"][\\\"GivenName\\\"])\\nrufemalesurnames = set(s[-3:] for s in dfru[dfru[\\\"Gender\\\"] == \\\"female\\\"][\\\"Surname\\\"])\\n\\n# Let's determine the gender of a person\\nlist_gender = []\\n\\nfor i in all_people_clear_age.index:\\n    name = all_people_clear_age[\\\"first_name\\\"][i]\\n    surname = all_people_clear_age[\\\"last_name\\\"][i]\\n    if (name in rumalenames) or (surname in rumalesurnames):\\n        list_gender.append(\\\"m\\\")\\n    elif (name in rufemalenames) or (surname in rufemalesurnames):\\n        list_gender.append(\\\"f\\\")\\n    else:\\n        list_gender.append(\\\"unk\\\")\\n\\nCounter(list_gender)\";\n",
       "                var nbb_formatted_code = \"# Let's determine the gender of a person using a database of fake names and gender.\\n# We will also add names and surnames translated to the dataset.\\ndfru = pd.read_csv(\\\"FakeNameGenerator.com_de68fd01.csv\\\")\\nlist_of_translit_names = []\\nfor i in dfru.GivenName.index:\\n    list_of_translit_names.append(\\n        translit(dfru.GivenName[i], language_code=\\\"ru\\\", reversed=True)\\n    )\\n\\nlist_of_translit_surnames = []\\nfor i in dfru.Surname.index:\\n    list_of_translit_surnames.append(\\n        translit(dfru.Surname[i], language_code=\\\"ru\\\", reversed=True)\\n    )\\n\\ndf_of_translit_names = pd.DataFrame(list_of_translit_names)\\ndf_of_translit_surnames = pd.DataFrame(list_of_translit_surnames)\\n\\ndf_of_translit_names = df_of_translit_names.rename(columns={0: \\\"GivenName\\\"})\\ndf_of_translit_surnames = df_of_translit_surnames.rename(columns={0: \\\"Surname\\\"})\\n\\ndf_translit = pd.concat([df_of_translit_names, df_of_translit_surnames], axis=1)\\ndf_translit = pd.concat([df_translit, dfru[\\\"Gender\\\"]], axis=1)\\n\\ndfru = pd.concat([dfru, df_translit])\\ndfru = dfru.reset_index(drop=True)\\n\\n# Let's also take an additional dataset and add a translit to it\\n\\ndf2 = pd.read_csv(\\\"russian_names.csv\\\", sep=\\\";\\\")\\n\\ndict1 = {\\\"\\u0416\\\": \\\"female\\\", \\\"\\u041c\\\": \\\"male\\\"}\\ndf2[\\\"Gender\\\"] = df2.Sex.apply(lambda x: dict1[x])\\n\\ndf2 = df2[[\\\"Name\\\", \\\"Gender\\\"]]\\ndf2 = df2.rename(columns={\\\"Name\\\": \\\"GivenName\\\"})\\n\\nlist_of_translit_names2 = []\\nfor i in df2.GivenName.index:\\n    list_of_translit_names2.append(\\n        translit(df2.GivenName[i], language_code=\\\"ru\\\", reversed=True)\\n    )\\ndf_of_translit_names2 = pd.DataFrame(list_of_translit_names2)\\ndf_of_translit_names2 = df_of_translit_names2.rename(columns={0: \\\"GivenName\\\"})\\ndf_translit2 = pd.concat([df_of_translit_names2, df2[\\\"Gender\\\"]], axis=1)\\n\\ndf2 = pd.concat([df2, df_translit2])\\ndf2 = df2.reset_index(drop=True)\\n\\ndfru = pd.concat([dfru, df2])\\n\\n# Let's also take a dataset with foreign names\\n\\ndf3 = pd.read_csv(\\\"foreign_names.csv\\\", sep=\\\";\\\")\\n\\ndf3 = df3[[\\\"name\\\", \\\"gender\\\"]]\\ndf3 = df3.rename(columns={\\\"name\\\": \\\"GivenName\\\", \\\"gender\\\": \\\"Gender\\\"})\\n\\ndfru = pd.concat([dfru, df3])\\ndfru.Surname = dfru.Surname.fillna(\\\"x\\\")\\ndfru.Gender = dfru.Gender.apply(lambda x: x.lower())\\n\\n# Let's create words with female and male names and the endings of surnames\\n\\nrumalenames = set(dfru[dfru[\\\"Gender\\\"] == \\\"male\\\"][\\\"GivenName\\\"])\\nrumalesurnames = set(s[-3:] for s in dfru[dfru[\\\"Gender\\\"] == \\\"male\\\"][\\\"Surname\\\"])\\n\\nrufemalenames = set(dfru[dfru[\\\"Gender\\\"] == \\\"female\\\"][\\\"GivenName\\\"])\\nrufemalesurnames = set(s[-3:] for s in dfru[dfru[\\\"Gender\\\"] == \\\"female\\\"][\\\"Surname\\\"])\\n\\n# Let's determine the gender of a person\\nlist_gender = []\\n\\nfor i in all_people_clear_age.index:\\n    name = all_people_clear_age[\\\"first_name\\\"][i]\\n    surname = all_people_clear_age[\\\"last_name\\\"][i]\\n    if (name in rumalenames) or (surname in rumalesurnames):\\n        list_gender.append(\\\"m\\\")\\n    elif (name in rufemalenames) or (surname in rufemalesurnames):\\n        list_gender.append(\\\"f\\\")\\n    else:\\n        list_gender.append(\\\"unk\\\")\\n\\nCounter(list_gender)\";\n",
       "                var nbb_cells = Jupyter.notebook.get_cells();\n",
       "                for (var i = 0; i < nbb_cells.length; ++i) {\n",
       "                    if (nbb_cells[i].input_prompt_number == nbb_cell_id) {\n",
       "                        if (nbb_cells[i].get_text() == nbb_unformatted_code) {\n",
       "                             nbb_cells[i].set_text(nbb_formatted_code);\n",
       "                        }\n",
       "                        break;\n",
       "                    }\n",
       "                }\n",
       "            }, 500);\n",
       "            "
      ],
      "text/plain": [
       "<IPython.core.display.Javascript object>"
      ]
     },
     "metadata": {},
     "output_type": "display_data"
    }
   ],
   "source": [
    "# Let's determine the gender of a person using a database of fake names and gender.\n",
    "# We will also add names and surnames translated to the dataset.\n",
    "dfru = pd.read_csv(\"FakeNameGenerator.com_de68fd01.csv\")\n",
    "list_of_translit_names = []\n",
    "for i in dfru.GivenName.index:\n",
    "    list_of_translit_names.append(\n",
    "        translit(dfru.GivenName[i], language_code=\"ru\", reversed=True)\n",
    "    )\n",
    "\n",
    "list_of_translit_surnames = []\n",
    "for i in dfru.Surname.index:\n",
    "    list_of_translit_surnames.append(\n",
    "        translit(dfru.Surname[i], language_code=\"ru\", reversed=True)\n",
    "    )\n",
    "\n",
    "df_of_translit_names = pd.DataFrame(list_of_translit_names)\n",
    "df_of_translit_surnames = pd.DataFrame(list_of_translit_surnames)\n",
    "\n",
    "df_of_translit_names = df_of_translit_names.rename(columns={0: \"GivenName\"})\n",
    "df_of_translit_surnames = df_of_translit_surnames.rename(columns={0: \"Surname\"})\n",
    "\n",
    "df_translit = pd.concat([df_of_translit_names, df_of_translit_surnames], axis=1)\n",
    "df_translit = pd.concat([df_translit, dfru[\"Gender\"]], axis=1)\n",
    "\n",
    "dfru = pd.concat([dfru, df_translit])\n",
    "dfru = dfru.reset_index(drop=True)\n",
    "\n",
    "# Let's also take an additional dataset and add a translit to it\n",
    "\n",
    "df2 = pd.read_csv(\"russian_names.csv\", sep=\";\")\n",
    "\n",
    "dict1 = {\"Ж\": \"female\", \"М\": \"male\"}\n",
    "df2[\"Gender\"] = df2.Sex.apply(lambda x: dict1[x])\n",
    "\n",
    "df2 = df2[[\"Name\", \"Gender\"]]\n",
    "df2 = df2.rename(columns={\"Name\": \"GivenName\"})\n",
    "\n",
    "list_of_translit_names2 = []\n",
    "for i in df2.GivenName.index:\n",
    "    list_of_translit_names2.append(\n",
    "        translit(df2.GivenName[i], language_code=\"ru\", reversed=True)\n",
    "    )\n",
    "df_of_translit_names2 = pd.DataFrame(list_of_translit_names2)\n",
    "df_of_translit_names2 = df_of_translit_names2.rename(columns={0: \"GivenName\"})\n",
    "df_translit2 = pd.concat([df_of_translit_names2, df2[\"Gender\"]], axis=1)\n",
    "\n",
    "df2 = pd.concat([df2, df_translit2])\n",
    "df2 = df2.reset_index(drop=True)\n",
    "\n",
    "dfru = pd.concat([dfru, df2])\n",
    "\n",
    "# Let's also take a dataset with foreign names\n",
    "\n",
    "df3 = pd.read_csv(\"foreign_names.csv\", sep=\";\")\n",
    "\n",
    "df3 = df3[[\"name\", \"gender\"]]\n",
    "df3 = df3.rename(columns={\"name\": \"GivenName\", \"gender\": \"Gender\"})\n",
    "\n",
    "dfru = pd.concat([dfru, df3])\n",
    "dfru.Surname = dfru.Surname.fillna(\"x\")\n",
    "dfru.Gender = dfru.Gender.apply(lambda x: x.lower())\n",
    "\n",
    "# Let's create words with female and male names and the endings of surnames\n",
    "\n",
    "rumalenames = set(dfru[dfru[\"Gender\"] == \"male\"][\"GivenName\"])\n",
    "rumalesurnames = set(s[-3:] for s in dfru[dfru[\"Gender\"] == \"male\"][\"Surname\"])\n",
    "\n",
    "rufemalenames = set(dfru[dfru[\"Gender\"] == \"female\"][\"GivenName\"])\n",
    "rufemalesurnames = set(s[-3:] for s in dfru[dfru[\"Gender\"] == \"female\"][\"Surname\"])\n",
    "\n",
    "# Let's determine the gender of a person\n",
    "list_gender = []\n",
    "\n",
    "for i in all_people_clear_age.index:\n",
    "    name = all_people_clear_age[\"first_name\"][i]\n",
    "    surname = all_people_clear_age[\"last_name\"][i]\n",
    "    if (name in rumalenames) or (surname in rumalesurnames):\n",
    "        list_gender.append(\"m\")\n",
    "    elif (name in rufemalenames) or (surname in rufemalesurnames):\n",
    "        list_gender.append(\"f\")\n",
    "    else:\n",
    "        list_gender.append(\"unk\")\n",
    "\n",
    "Counter(list_gender)"
   ]
  },
  {
   "cell_type": "code",
   "execution_count": 35,
   "id": "c2db80ac",
   "metadata": {},
   "outputs": [
    {
     "data": {
      "text/plain": [
       "Counter({'unk': 295, 'm': 35, 'f': 16})"
      ]
     },
     "execution_count": 35,
     "metadata": {},
     "output_type": "execute_result"
    },
    {
     "data": {
      "application/javascript": [
       "\n",
       "            setTimeout(function() {\n",
       "                var nbb_cell_id = 35;\n",
       "                var nbb_unformatted_code = \"# Let's add a column with the gender to the dataset, and also try to check the surnames in the name and vice versa\\ndf_g = pd.DataFrame(list_gender)\\ndf_g = df_g.rename(columns={0: \\\"gen\\\"})\\nall_people_clear_age_gen0 = pd.concat([all_people_clear_age, df_g], axis=1)\\nall_people_clear_age_gen0_unk = all_people_clear_age_gen0[\\n    all_people_clear_age_gen0.gen == \\\"unk\\\"\\n]\\nall_people_clear_age_gen0_unk = all_people_clear_age_gen0_unk.drop(\\n    all_people_clear_age_gen0_unk.columns[26], axis=1\\n)\\nall_people_clear_age_gen0_unk = all_people_clear_age_gen0_unk.reset_index(drop=True)\\n\\nlist_gender2 = []\\n\\nfor i in all_people_clear_age_gen0_unk.index:\\n    name = all_people_clear_age_gen0_unk[\\\"first_name\\\"][i]\\n    surname = all_people_clear_age_gen0_unk[\\\"last_name\\\"][i]\\n    if (surname in rumalenames) or (name in rumalesurnames):\\n        list_gender2.append(\\\"m\\\")\\n    elif (surname in rufemalenames) or (name in rufemalesurnames):\\n        list_gender2.append(\\\"f\\\")\\n    else:\\n        list_gender2.append(\\\"unk\\\")\\n\\nCounter(list_gender2)\";\n",
       "                var nbb_formatted_code = \"# Let's add a column with the gender to the dataset, and also try to check the surnames in the name and vice versa\\ndf_g = pd.DataFrame(list_gender)\\ndf_g = df_g.rename(columns={0: \\\"gen\\\"})\\nall_people_clear_age_gen0 = pd.concat([all_people_clear_age, df_g], axis=1)\\nall_people_clear_age_gen0_unk = all_people_clear_age_gen0[\\n    all_people_clear_age_gen0.gen == \\\"unk\\\"\\n]\\nall_people_clear_age_gen0_unk = all_people_clear_age_gen0_unk.drop(\\n    all_people_clear_age_gen0_unk.columns[26], axis=1\\n)\\nall_people_clear_age_gen0_unk = all_people_clear_age_gen0_unk.reset_index(drop=True)\\n\\nlist_gender2 = []\\n\\nfor i in all_people_clear_age_gen0_unk.index:\\n    name = all_people_clear_age_gen0_unk[\\\"first_name\\\"][i]\\n    surname = all_people_clear_age_gen0_unk[\\\"last_name\\\"][i]\\n    if (surname in rumalenames) or (name in rumalesurnames):\\n        list_gender2.append(\\\"m\\\")\\n    elif (surname in rufemalenames) or (name in rufemalesurnames):\\n        list_gender2.append(\\\"f\\\")\\n    else:\\n        list_gender2.append(\\\"unk\\\")\\n\\nCounter(list_gender2)\";\n",
       "                var nbb_cells = Jupyter.notebook.get_cells();\n",
       "                for (var i = 0; i < nbb_cells.length; ++i) {\n",
       "                    if (nbb_cells[i].input_prompt_number == nbb_cell_id) {\n",
       "                        if (nbb_cells[i].get_text() == nbb_unformatted_code) {\n",
       "                             nbb_cells[i].set_text(nbb_formatted_code);\n",
       "                        }\n",
       "                        break;\n",
       "                    }\n",
       "                }\n",
       "            }, 500);\n",
       "            "
      ],
      "text/plain": [
       "<IPython.core.display.Javascript object>"
      ]
     },
     "metadata": {},
     "output_type": "display_data"
    }
   ],
   "source": [
    "# Let's add a column with the gender to the dataset, and also try to check the surnames in the name and vice versa\n",
    "df_g = pd.DataFrame(list_gender)\n",
    "df_g = df_g.rename(columns={0: \"gen\"})\n",
    "all_people_clear_age_gen0 = pd.concat([all_people_clear_age, df_g], axis=1)\n",
    "all_people_clear_age_gen0_unk = all_people_clear_age_gen0[\n",
    "    all_people_clear_age_gen0.gen == \"unk\"\n",
    "]\n",
    "all_people_clear_age_gen0_unk = all_people_clear_age_gen0_unk.drop(\n",
    "    all_people_clear_age_gen0_unk.columns[26], axis=1\n",
    ")\n",
    "all_people_clear_age_gen0_unk = all_people_clear_age_gen0_unk.reset_index(drop=True)\n",
    "\n",
    "list_gender2 = []\n",
    "\n",
    "for i in all_people_clear_age_gen0_unk.index:\n",
    "    name = all_people_clear_age_gen0_unk[\"first_name\"][i]\n",
    "    surname = all_people_clear_age_gen0_unk[\"last_name\"][i]\n",
    "    if (surname in rumalenames) or (name in rumalesurnames):\n",
    "        list_gender2.append(\"m\")\n",
    "    elif (surname in rufemalenames) or (name in rufemalesurnames):\n",
    "        list_gender2.append(\"f\")\n",
    "    else:\n",
    "        list_gender2.append(\"unk\")\n",
    "\n",
    "Counter(list_gender2)"
   ]
  },
  {
   "cell_type": "code",
   "execution_count": 36,
   "id": "65172826",
   "metadata": {},
   "outputs": [
    {
     "name": "stdout",
     "output_type": "stream",
     "text": [
      "Mode of gender is m (man)\n"
     ]
    },
    {
     "data": {
      "application/javascript": [
       "\n",
       "            setTimeout(function() {\n",
       "                var nbb_cell_id = 36;\n",
       "                var nbb_unformatted_code = \"# Since unk is only about 6% of the gender of all users, we will calculate and replace them with mode\\ndf_g2 = pd.DataFrame(list_gender2)\\ndf_g2 = df_g2.rename(columns={0: \\\"gen\\\"})\\nall_people_clear_age_gen1 = pd.concat([all_people_clear_age_gen0_unk, df_g2], axis=1)\\nall_people_clear_age_gen0_not_unk = all_people_clear_age_gen0[\\n    all_people_clear_age_gen0.gen != \\\"unk\\\"\\n]\\ndf_age_middle = pd.concat(\\n    [all_people_clear_age_gen0_not_unk, all_people_clear_age_gen1]\\n)\\nprint(f\\\"Mode of gender is {df_age_middle.gen.mode()[0]} (man)\\\")\";\n",
       "                var nbb_formatted_code = \"# Since unk is only about 6% of the gender of all users, we will calculate and replace them with mode\\ndf_g2 = pd.DataFrame(list_gender2)\\ndf_g2 = df_g2.rename(columns={0: \\\"gen\\\"})\\nall_people_clear_age_gen1 = pd.concat([all_people_clear_age_gen0_unk, df_g2], axis=1)\\nall_people_clear_age_gen0_not_unk = all_people_clear_age_gen0[\\n    all_people_clear_age_gen0.gen != \\\"unk\\\"\\n]\\ndf_age_middle = pd.concat(\\n    [all_people_clear_age_gen0_not_unk, all_people_clear_age_gen1]\\n)\\nprint(f\\\"Mode of gender is {df_age_middle.gen.mode()[0]} (man)\\\")\";\n",
       "                var nbb_cells = Jupyter.notebook.get_cells();\n",
       "                for (var i = 0; i < nbb_cells.length; ++i) {\n",
       "                    if (nbb_cells[i].input_prompt_number == nbb_cell_id) {\n",
       "                        if (nbb_cells[i].get_text() == nbb_unformatted_code) {\n",
       "                             nbb_cells[i].set_text(nbb_formatted_code);\n",
       "                        }\n",
       "                        break;\n",
       "                    }\n",
       "                }\n",
       "            }, 500);\n",
       "            "
      ],
      "text/plain": [
       "<IPython.core.display.Javascript object>"
      ]
     },
     "metadata": {},
     "output_type": "display_data"
    }
   ],
   "source": [
    "# Since unk is only about 6% of the gender of all users, we will calculate and replace them with mode\n",
    "df_g2 = pd.DataFrame(list_gender2)\n",
    "df_g2 = df_g2.rename(columns={0: \"gen\"})\n",
    "all_people_clear_age_gen1 = pd.concat([all_people_clear_age_gen0_unk, df_g2], axis=1)\n",
    "all_people_clear_age_gen0_not_unk = all_people_clear_age_gen0[\n",
    "    all_people_clear_age_gen0.gen != \"unk\"\n",
    "]\n",
    "df_age_middle = pd.concat(\n",
    "    [all_people_clear_age_gen0_not_unk, all_people_clear_age_gen1]\n",
    ")\n",
    "print(f\"Mode of gender is {df_age_middle.gen.mode()[0]} (man)\")"
   ]
  },
  {
   "cell_type": "code",
   "execution_count": 37,
   "id": "e1c8f626",
   "metadata": {},
   "outputs": [
    {
     "name": "stdout",
     "output_type": "stream",
     "text": [
      "m    3432\n",
      "f    1277\n",
      "Name: gen, dtype: int64\n"
     ]
    },
    {
     "data": {
      "application/javascript": [
       "\n",
       "            setTimeout(function() {\n",
       "                var nbb_cell_id = 37;\n",
       "                var nbb_unformatted_code = \"dict3 = {\\\"unk\\\": \\\"m\\\", \\\"m\\\": \\\"m\\\", \\\"f\\\": \\\"f\\\"}\\ndf_age_middle[\\\"gen\\\"] = df_age_middle[\\\"gen\\\"].apply(lambda x: dict3[x])\\nprint(df_age_middle[\\\"gen\\\"].value_counts())\";\n",
       "                var nbb_formatted_code = \"dict3 = {\\\"unk\\\": \\\"m\\\", \\\"m\\\": \\\"m\\\", \\\"f\\\": \\\"f\\\"}\\ndf_age_middle[\\\"gen\\\"] = df_age_middle[\\\"gen\\\"].apply(lambda x: dict3[x])\\nprint(df_age_middle[\\\"gen\\\"].value_counts())\";\n",
       "                var nbb_cells = Jupyter.notebook.get_cells();\n",
       "                for (var i = 0; i < nbb_cells.length; ++i) {\n",
       "                    if (nbb_cells[i].input_prompt_number == nbb_cell_id) {\n",
       "                        if (nbb_cells[i].get_text() == nbb_unformatted_code) {\n",
       "                             nbb_cells[i].set_text(nbb_formatted_code);\n",
       "                        }\n",
       "                        break;\n",
       "                    }\n",
       "                }\n",
       "            }, 500);\n",
       "            "
      ],
      "text/plain": [
       "<IPython.core.display.Javascript object>"
      ]
     },
     "metadata": {},
     "output_type": "display_data"
    }
   ],
   "source": [
    "dict3 = {\"unk\": \"m\", \"m\": \"m\", \"f\": \"f\"}\n",
    "df_age_middle[\"gen\"] = df_age_middle[\"gen\"].apply(lambda x: dict3[x])\n",
    "print(df_age_middle[\"gen\"].value_counts())"
   ]
  },
  {
   "cell_type": "code",
   "execution_count": 38,
   "id": "7a047813",
   "metadata": {},
   "outputs": [
    {
     "name": "stdout",
     "output_type": "stream",
     "text": [
      "False    3347\n",
      "True     1362\n",
      "Name: city.title, dtype: int64\n"
     ]
    },
    {
     "data": {
      "application/javascript": [
       "\n",
       "            setTimeout(function() {\n",
       "                var nbb_cell_id = 38;\n",
       "                var nbb_unformatted_code = \"# Let's look at the distribution by city\\nprint(df_age_middle[\\\"city.title\\\"].isna().value_counts())\";\n",
       "                var nbb_formatted_code = \"# Let's look at the distribution by city\\nprint(df_age_middle[\\\"city.title\\\"].isna().value_counts())\";\n",
       "                var nbb_cells = Jupyter.notebook.get_cells();\n",
       "                for (var i = 0; i < nbb_cells.length; ++i) {\n",
       "                    if (nbb_cells[i].input_prompt_number == nbb_cell_id) {\n",
       "                        if (nbb_cells[i].get_text() == nbb_unformatted_code) {\n",
       "                             nbb_cells[i].set_text(nbb_formatted_code);\n",
       "                        }\n",
       "                        break;\n",
       "                    }\n",
       "                }\n",
       "            }, 500);\n",
       "            "
      ],
      "text/plain": [
       "<IPython.core.display.Javascript object>"
      ]
     },
     "metadata": {},
     "output_type": "display_data"
    }
   ],
   "source": [
    "# Let's look at the distribution by city\n",
    "print(df_age_middle[\"city.title\"].isna().value_counts())"
   ]
  },
  {
   "cell_type": "code",
   "execution_count": 39,
   "id": "afaf815b",
   "metadata": {},
   "outputs": [
    {
     "data": {
      "text/plain": [
       "True     3939\n",
       "False     770\n",
       "Name: home_town, dtype: int64"
      ]
     },
     "execution_count": 39,
     "metadata": {},
     "output_type": "execute_result"
    },
    {
     "data": {
      "application/javascript": [
       "\n",
       "            setTimeout(function() {\n",
       "                var nbb_cell_id = 39;\n",
       "                var nbb_unformatted_code = \"df_age_middle[\\\"home_town\\\"].isna().value_counts()\";\n",
       "                var nbb_formatted_code = \"df_age_middle[\\\"home_town\\\"].isna().value_counts()\";\n",
       "                var nbb_cells = Jupyter.notebook.get_cells();\n",
       "                for (var i = 0; i < nbb_cells.length; ++i) {\n",
       "                    if (nbb_cells[i].input_prompt_number == nbb_cell_id) {\n",
       "                        if (nbb_cells[i].get_text() == nbb_unformatted_code) {\n",
       "                             nbb_cells[i].set_text(nbb_formatted_code);\n",
       "                        }\n",
       "                        break;\n",
       "                    }\n",
       "                }\n",
       "            }, 500);\n",
       "            "
      ],
      "text/plain": [
       "<IPython.core.display.Javascript object>"
      ]
     },
     "metadata": {},
     "output_type": "display_data"
    }
   ],
   "source": [
    "df_age_middle[\"home_town\"].isna().value_counts()"
   ]
  },
  {
   "cell_type": "code",
   "execution_count": 40,
   "id": "76dd5b60",
   "metadata": {},
   "outputs": [
    {
     "data": {
      "text/plain": [
       "False    3477\n",
       "True     1232\n",
       "Name: city, dtype: int64"
      ]
     },
     "execution_count": 40,
     "metadata": {},
     "output_type": "execute_result"
    },
    {
     "data": {
      "application/javascript": [
       "\n",
       "            setTimeout(function() {\n",
       "                var nbb_cell_id = 40;\n",
       "                var nbb_unformatted_code = \"df_age_middle[\\\"city\\\"] = df_age_middle[\\\"city.title\\\"].fillna(df_age_middle[\\\"home_town\\\"])\\ndf_age_middle[\\\"city\\\"].isna().value_counts()\";\n",
       "                var nbb_formatted_code = \"df_age_middle[\\\"city\\\"] = df_age_middle[\\\"city.title\\\"].fillna(df_age_middle[\\\"home_town\\\"])\\ndf_age_middle[\\\"city\\\"].isna().value_counts()\";\n",
       "                var nbb_cells = Jupyter.notebook.get_cells();\n",
       "                for (var i = 0; i < nbb_cells.length; ++i) {\n",
       "                    if (nbb_cells[i].input_prompt_number == nbb_cell_id) {\n",
       "                        if (nbb_cells[i].get_text() == nbb_unformatted_code) {\n",
       "                             nbb_cells[i].set_text(nbb_formatted_code);\n",
       "                        }\n",
       "                        break;\n",
       "                    }\n",
       "                }\n",
       "            }, 500);\n",
       "            "
      ],
      "text/plain": [
       "<IPython.core.display.Javascript object>"
      ]
     },
     "metadata": {},
     "output_type": "display_data"
    }
   ],
   "source": [
    "df_age_middle[\"city\"] = df_age_middle[\"city.title\"].fillna(df_age_middle[\"home_town\"])\n",
    "df_age_middle[\"city\"].isna().value_counts()"
   ]
  },
  {
   "cell_type": "code",
   "execution_count": 41,
   "id": "c07e506b",
   "metadata": {},
   "outputs": [
    {
     "name": "stdout",
     "output_type": "stream",
     "text": [
      "Mode of the city is москва\n"
     ]
    },
    {
     "data": {
      "application/javascript": [
       "\n",
       "            setTimeout(function() {\n",
       "                var nbb_cell_id = 41;\n",
       "                var nbb_unformatted_code = \"df_age_middle[\\\"city\\\"] = df_age_middle[\\\"city\\\"].apply(lambda x: str(x).lower())\\nprint(f'Mode of the city is {df_age_middle[\\\"city\\\"].mode()[0]}')\";\n",
       "                var nbb_formatted_code = \"df_age_middle[\\\"city\\\"] = df_age_middle[\\\"city\\\"].apply(lambda x: str(x).lower())\\nprint(f'Mode of the city is {df_age_middle[\\\"city\\\"].mode()[0]}')\";\n",
       "                var nbb_cells = Jupyter.notebook.get_cells();\n",
       "                for (var i = 0; i < nbb_cells.length; ++i) {\n",
       "                    if (nbb_cells[i].input_prompt_number == nbb_cell_id) {\n",
       "                        if (nbb_cells[i].get_text() == nbb_unformatted_code) {\n",
       "                             nbb_cells[i].set_text(nbb_formatted_code);\n",
       "                        }\n",
       "                        break;\n",
       "                    }\n",
       "                }\n",
       "            }, 500);\n",
       "            "
      ],
      "text/plain": [
       "<IPython.core.display.Javascript object>"
      ]
     },
     "metadata": {},
     "output_type": "display_data"
    }
   ],
   "source": [
    "df_age_middle[\"city\"] = df_age_middle[\"city\"].apply(lambda x: str(x).lower())\n",
    "print(f'Mode of the city is {df_age_middle[\"city\"].mode()[0]}')"
   ]
  },
  {
   "cell_type": "code",
   "execution_count": 42,
   "id": "2631d313",
   "metadata": {},
   "outputs": [
    {
     "data": {
      "application/javascript": [
       "\n",
       "            setTimeout(function() {\n",
       "                var nbb_cell_id = 42;\n",
       "                var nbb_unformatted_code = \"df_age_middle = df_age_middle.reset_index(drop=True)\\ndf_city_nan = df_age_middle[df_age_middle.city == \\\"nan\\\"]\\ndf_city_ = df_age_middle[df_age_middle.city != \\\"nan\\\"]\\ndict4 = {\\\"nan\\\": \\\"\\u043c\\u043e\\u0441\\u043a\\u0432\\u0430\\\"}\\ndf_city_nan[\\\"city\\\"] = df_city_nan[\\\"city\\\"].apply(lambda x: dict4[x])\\npeople_final = pd.concat([df_city_nan, df_city_])\\npeople_final.to_csv(\\\"people_final.csv\\\", index=False)\";\n",
       "                var nbb_formatted_code = \"df_age_middle = df_age_middle.reset_index(drop=True)\\ndf_city_nan = df_age_middle[df_age_middle.city == \\\"nan\\\"]\\ndf_city_ = df_age_middle[df_age_middle.city != \\\"nan\\\"]\\ndict4 = {\\\"nan\\\": \\\"\\u043c\\u043e\\u0441\\u043a\\u0432\\u0430\\\"}\\ndf_city_nan[\\\"city\\\"] = df_city_nan[\\\"city\\\"].apply(lambda x: dict4[x])\\npeople_final = pd.concat([df_city_nan, df_city_])\\npeople_final.to_csv(\\\"people_final.csv\\\", index=False)\";\n",
       "                var nbb_cells = Jupyter.notebook.get_cells();\n",
       "                for (var i = 0; i < nbb_cells.length; ++i) {\n",
       "                    if (nbb_cells[i].input_prompt_number == nbb_cell_id) {\n",
       "                        if (nbb_cells[i].get_text() == nbb_unformatted_code) {\n",
       "                             nbb_cells[i].set_text(nbb_formatted_code);\n",
       "                        }\n",
       "                        break;\n",
       "                    }\n",
       "                }\n",
       "            }, 500);\n",
       "            "
      ],
      "text/plain": [
       "<IPython.core.display.Javascript object>"
      ]
     },
     "metadata": {},
     "output_type": "display_data"
    }
   ],
   "source": [
    "df_age_middle = df_age_middle.reset_index(drop=True)\n",
    "df_city_nan = df_age_middle[df_age_middle.city == \"nan\"]\n",
    "df_city_ = df_age_middle[df_age_middle.city != \"nan\"]\n",
    "dict4 = {\"nan\": \"москва\"}\n",
    "df_city_nan[\"city\"] = df_city_nan[\"city\"].apply(lambda x: dict4[x])\n",
    "people_final = pd.concat([df_city_nan, df_city_])\n",
    "people_final.to_csv(\"people_final.csv\", index=False)"
   ]
  },
  {
   "cell_type": "code",
   "execution_count": 43,
   "id": "5481482b",
   "metadata": {},
   "outputs": [
    {
     "data": {
      "application/javascript": [
       "\n",
       "            setTimeout(function() {\n",
       "                var nbb_cell_id = 43;\n",
       "                var nbb_unformatted_code = \"people_final = people_final[\\n    [\\n        \\\"id\\\",\\n        \\\"first_name\\\",\\n        \\\"last_name\\\",\\n        \\\"can_access_closed\\\",\\n        \\\"bdate\\\",\\n        \\\"city.title\\\",\\n        \\\"home_town\\\",\\n        \\\"age_years\\\",\\n        \\\"gen\\\",\\n        \\\"city\\\",\\n    ]\\n]\\n\\npeople_final[\\\"gen\\\"].unique()\\n\\ndict5 = {\\\"f\\\": \\\"\\u0416\\u0435\\u043d\\u0441\\u043a\\u0438\\u0439\\\", \\\"m\\\": \\\"\\u041c\\u0443\\u0436\\u0441\\u043a\\u043e\\u0439\\\"}\\npeople_final[\\\"gen\\\"] = people_final[\\\"gen\\\"].apply(lambda x: dict5[x])\";\n",
       "                var nbb_formatted_code = \"people_final = people_final[\\n    [\\n        \\\"id\\\",\\n        \\\"first_name\\\",\\n        \\\"last_name\\\",\\n        \\\"can_access_closed\\\",\\n        \\\"bdate\\\",\\n        \\\"city.title\\\",\\n        \\\"home_town\\\",\\n        \\\"age_years\\\",\\n        \\\"gen\\\",\\n        \\\"city\\\",\\n    ]\\n]\\n\\npeople_final[\\\"gen\\\"].unique()\\n\\ndict5 = {\\\"f\\\": \\\"\\u0416\\u0435\\u043d\\u0441\\u043a\\u0438\\u0439\\\", \\\"m\\\": \\\"\\u041c\\u0443\\u0436\\u0441\\u043a\\u043e\\u0439\\\"}\\npeople_final[\\\"gen\\\"] = people_final[\\\"gen\\\"].apply(lambda x: dict5[x])\";\n",
       "                var nbb_cells = Jupyter.notebook.get_cells();\n",
       "                for (var i = 0; i < nbb_cells.length; ++i) {\n",
       "                    if (nbb_cells[i].input_prompt_number == nbb_cell_id) {\n",
       "                        if (nbb_cells[i].get_text() == nbb_unformatted_code) {\n",
       "                             nbb_cells[i].set_text(nbb_formatted_code);\n",
       "                        }\n",
       "                        break;\n",
       "                    }\n",
       "                }\n",
       "            }, 500);\n",
       "            "
      ],
      "text/plain": [
       "<IPython.core.display.Javascript object>"
      ]
     },
     "metadata": {},
     "output_type": "display_data"
    }
   ],
   "source": [
    "people_final = people_final[\n",
    "    [\n",
    "        \"id\",\n",
    "        \"first_name\",\n",
    "        \"last_name\",\n",
    "        \"can_access_closed\",\n",
    "        \"bdate\",\n",
    "        \"city.title\",\n",
    "        \"home_town\",\n",
    "        \"age_years\",\n",
    "        \"gen\",\n",
    "        \"city\",\n",
    "    ]\n",
    "]\n",
    "\n",
    "people_final[\"gen\"].unique()\n",
    "\n",
    "dict5 = {\"f\": \"Женский\", \"m\": \"Мужской\"}\n",
    "people_final[\"gen\"] = people_final[\"gen\"].apply(lambda x: dict5[x])"
   ]
  },
  {
   "cell_type": "markdown",
   "id": "20b15bc7",
   "metadata": {},
   "source": [
    "### Gender distribution"
   ]
  },
  {
   "cell_type": "code",
   "execution_count": 44,
   "id": "ce1068cb",
   "metadata": {},
   "outputs": [
    {
     "data": {
      "text/plain": [
       "Мужской    3432\n",
       "Женский    1277\n",
       "Name: gen, dtype: int64"
      ]
     },
     "execution_count": 44,
     "metadata": {},
     "output_type": "execute_result"
    },
    {
     "data": {
      "application/javascript": [
       "\n",
       "            setTimeout(function() {\n",
       "                var nbb_cell_id = 44;\n",
       "                var nbb_unformatted_code = \"people_final[\\\"gen\\\"].value_counts()\";\n",
       "                var nbb_formatted_code = \"people_final[\\\"gen\\\"].value_counts()\";\n",
       "                var nbb_cells = Jupyter.notebook.get_cells();\n",
       "                for (var i = 0; i < nbb_cells.length; ++i) {\n",
       "                    if (nbb_cells[i].input_prompt_number == nbb_cell_id) {\n",
       "                        if (nbb_cells[i].get_text() == nbb_unformatted_code) {\n",
       "                             nbb_cells[i].set_text(nbb_formatted_code);\n",
       "                        }\n",
       "                        break;\n",
       "                    }\n",
       "                }\n",
       "            }, 500);\n",
       "            "
      ],
      "text/plain": [
       "<IPython.core.display.Javascript object>"
      ]
     },
     "metadata": {},
     "output_type": "display_data"
    }
   ],
   "source": [
    "people_final[\"gen\"].value_counts()"
   ]
  },
  {
   "cell_type": "code",
   "execution_count": 45,
   "id": "10e90374",
   "metadata": {},
   "outputs": [
    {
     "data": {
      "text/plain": [
       "Мужской    0.728817\n",
       "Женский    0.271183\n",
       "Name: gen, dtype: float64"
      ]
     },
     "execution_count": 45,
     "metadata": {},
     "output_type": "execute_result"
    },
    {
     "data": {
      "application/javascript": [
       "\n",
       "            setTimeout(function() {\n",
       "                var nbb_cell_id = 45;\n",
       "                var nbb_unformatted_code = \"people_final[\\\"gen\\\"].value_counts(normalize=True)\";\n",
       "                var nbb_formatted_code = \"people_final[\\\"gen\\\"].value_counts(normalize=True)\";\n",
       "                var nbb_cells = Jupyter.notebook.get_cells();\n",
       "                for (var i = 0; i < nbb_cells.length; ++i) {\n",
       "                    if (nbb_cells[i].input_prompt_number == nbb_cell_id) {\n",
       "                        if (nbb_cells[i].get_text() == nbb_unformatted_code) {\n",
       "                             nbb_cells[i].set_text(nbb_formatted_code);\n",
       "                        }\n",
       "                        break;\n",
       "                    }\n",
       "                }\n",
       "            }, 500);\n",
       "            "
      ],
      "text/plain": [
       "<IPython.core.display.Javascript object>"
      ]
     },
     "metadata": {},
     "output_type": "display_data"
    }
   ],
   "source": [
    "people_final[\"gen\"].value_counts(normalize=True)"
   ]
  },
  {
   "cell_type": "markdown",
   "id": "e09add98",
   "metadata": {},
   "source": [
    "*Since the gender variable is measured on a nominal scale, mode is used as a measure of the central trend, and the spread measure is the coefficient of qualitative variation.*"
   ]
  },
  {
   "cell_type": "code",
   "execution_count": 46,
   "id": "91f13b8d",
   "metadata": {},
   "outputs": [
    {
     "data": {
      "text/plain": [
       "0    Мужской\n",
       "Name: gen, dtype: object"
      ]
     },
     "execution_count": 46,
     "metadata": {},
     "output_type": "execute_result"
    },
    {
     "data": {
      "application/javascript": [
       "\n",
       "            setTimeout(function() {\n",
       "                var nbb_cell_id = 46;\n",
       "                var nbb_unformatted_code = \"people_final[\\\"gen\\\"].mode()\";\n",
       "                var nbb_formatted_code = \"people_final[\\\"gen\\\"].mode()\";\n",
       "                var nbb_cells = Jupyter.notebook.get_cells();\n",
       "                for (var i = 0; i < nbb_cells.length; ++i) {\n",
       "                    if (nbb_cells[i].input_prompt_number == nbb_cell_id) {\n",
       "                        if (nbb_cells[i].get_text() == nbb_unformatted_code) {\n",
       "                             nbb_cells[i].set_text(nbb_formatted_code);\n",
       "                        }\n",
       "                        break;\n",
       "                    }\n",
       "                }\n",
       "            }, 500);\n",
       "            "
      ],
      "text/plain": [
       "<IPython.core.display.Javascript object>"
      ]
     },
     "metadata": {},
     "output_type": "display_data"
    }
   ],
   "source": [
    "people_final[\"gen\"].mode()"
   ]
  },
  {
   "cell_type": "code",
   "execution_count": 47,
   "id": "1dd5662c",
   "metadata": {},
   "outputs": [
    {
     "data": {
      "application/javascript": [
       "\n",
       "            setTimeout(function() {\n",
       "                var nbb_cell_id = 47;\n",
       "                var nbb_unformatted_code = \"dict6 = {\\\"\\u0416\\u0435\\u043d\\u0441\\u043a\\u0438\\u0439\\\": 1, \\\"\\u041c\\u0443\\u0436\\u0441\\u043a\\u043e\\u0439\\\": 0}\\npeople_final[\\\"gen_binary\\\"] = people_final[\\\"gen\\\"].apply(lambda x: dict6[x])\";\n",
       "                var nbb_formatted_code = \"dict6 = {\\\"\\u0416\\u0435\\u043d\\u0441\\u043a\\u0438\\u0439\\\": 1, \\\"\\u041c\\u0443\\u0436\\u0441\\u043a\\u043e\\u0439\\\": 0}\\npeople_final[\\\"gen_binary\\\"] = people_final[\\\"gen\\\"].apply(lambda x: dict6[x])\";\n",
       "                var nbb_cells = Jupyter.notebook.get_cells();\n",
       "                for (var i = 0; i < nbb_cells.length; ++i) {\n",
       "                    if (nbb_cells[i].input_prompt_number == nbb_cell_id) {\n",
       "                        if (nbb_cells[i].get_text() == nbb_unformatted_code) {\n",
       "                             nbb_cells[i].set_text(nbb_formatted_code);\n",
       "                        }\n",
       "                        break;\n",
       "                    }\n",
       "                }\n",
       "            }, 500);\n",
       "            "
      ],
      "text/plain": [
       "<IPython.core.display.Javascript object>"
      ]
     },
     "metadata": {},
     "output_type": "display_data"
    }
   ],
   "source": [
    "dict6 = {\"Женский\": 1, \"Мужской\": 0}\n",
    "people_final[\"gen_binary\"] = people_final[\"gen\"].apply(lambda x: dict6[x])"
   ]
  },
  {
   "cell_type": "code",
   "execution_count": 48,
   "id": "744cf292",
   "metadata": {},
   "outputs": [
    {
     "data": {
      "text/plain": [
       "0    3432\n",
       "1    1277\n",
       "Name: gen_binary, dtype: int64"
      ]
     },
     "execution_count": 48,
     "metadata": {},
     "output_type": "execute_result"
    },
    {
     "data": {
      "application/javascript": [
       "\n",
       "            setTimeout(function() {\n",
       "                var nbb_cell_id = 48;\n",
       "                var nbb_unformatted_code = \"people_final[\\\"gen_binary\\\"].value_counts()\";\n",
       "                var nbb_formatted_code = \"people_final[\\\"gen_binary\\\"].value_counts()\";\n",
       "                var nbb_cells = Jupyter.notebook.get_cells();\n",
       "                for (var i = 0; i < nbb_cells.length; ++i) {\n",
       "                    if (nbb_cells[i].input_prompt_number == nbb_cell_id) {\n",
       "                        if (nbb_cells[i].get_text() == nbb_unformatted_code) {\n",
       "                             nbb_cells[i].set_text(nbb_formatted_code);\n",
       "                        }\n",
       "                        break;\n",
       "                    }\n",
       "                }\n",
       "            }, 500);\n",
       "            "
      ],
      "text/plain": [
       "<IPython.core.display.Javascript object>"
      ]
     },
     "metadata": {},
     "output_type": "display_data"
    }
   ],
   "source": [
    "people_final[\"gen_binary\"].value_counts()"
   ]
  },
  {
   "cell_type": "code",
   "execution_count": 49,
   "id": "baa1f338",
   "metadata": {},
   "outputs": [
    {
     "data": {
      "application/javascript": [
       "\n",
       "            setTimeout(function() {\n",
       "                var nbb_cell_id = 49;\n",
       "                var nbb_unformatted_code = \"n = 4709\\nk = 2\\nn1 = people_final[\\\"gen_binary\\\"].value_counts()[0]\\nn2 = people_final[\\\"gen_binary\\\"].value_counts()[1]\";\n",
       "                var nbb_formatted_code = \"n = 4709\\nk = 2\\nn1 = people_final[\\\"gen_binary\\\"].value_counts()[0]\\nn2 = people_final[\\\"gen_binary\\\"].value_counts()[1]\";\n",
       "                var nbb_cells = Jupyter.notebook.get_cells();\n",
       "                for (var i = 0; i < nbb_cells.length; ++i) {\n",
       "                    if (nbb_cells[i].input_prompt_number == nbb_cell_id) {\n",
       "                        if (nbb_cells[i].get_text() == nbb_unformatted_code) {\n",
       "                             nbb_cells[i].set_text(nbb_formatted_code);\n",
       "                        }\n",
       "                        break;\n",
       "                    }\n",
       "                }\n",
       "            }, 500);\n",
       "            "
      ],
      "text/plain": [
       "<IPython.core.display.Javascript object>"
      ]
     },
     "metadata": {},
     "output_type": "display_data"
    }
   ],
   "source": [
    "n = 4709\n",
    "k = 2\n",
    "n1 = people_final[\"gen_binary\"].value_counts()[0]\n",
    "n2 = people_final[\"gen_binary\"].value_counts()[1]"
   ]
  },
  {
   "cell_type": "code",
   "execution_count": 50,
   "id": "1156cefe",
   "metadata": {},
   "outputs": [
    {
     "name": "stdout",
     "output_type": "stream",
     "text": [
      "The coefficient of qualitative variation is 0.7905708316615694\n"
     ]
    },
    {
     "data": {
      "application/javascript": [
       "\n",
       "            setTimeout(function() {\n",
       "                var nbb_cell_id = 50;\n",
       "                var nbb_unformatted_code = \"print(\\n    f\\\"The coefficient of qualitative variation is {((2 * k) / (n ** 2 * (k - 1))) * n1 * n2}\\\"\\n)\";\n",
       "                var nbb_formatted_code = \"print(\\n    f\\\"The coefficient of qualitative variation is {((2 * k) / (n ** 2 * (k - 1))) * n1 * n2}\\\"\\n)\";\n",
       "                var nbb_cells = Jupyter.notebook.get_cells();\n",
       "                for (var i = 0; i < nbb_cells.length; ++i) {\n",
       "                    if (nbb_cells[i].input_prompt_number == nbb_cell_id) {\n",
       "                        if (nbb_cells[i].get_text() == nbb_unformatted_code) {\n",
       "                             nbb_cells[i].set_text(nbb_formatted_code);\n",
       "                        }\n",
       "                        break;\n",
       "                    }\n",
       "                }\n",
       "            }, 500);\n",
       "            "
      ],
      "text/plain": [
       "<IPython.core.display.Javascript object>"
      ]
     },
     "metadata": {},
     "output_type": "display_data"
    }
   ],
   "source": [
    "print(\n",
    "    f\"The coefficient of qualitative variation is {((2 * k) / (n ** 2 * (k - 1))) * n1 * n2}\"\n",
    ")"
   ]
  },
  {
   "cell_type": "markdown",
   "id": "b298d4f9",
   "metadata": {},
   "source": [
    "*So, the coefficient of qualitative variation is 0.79. Thus, since the the coefficient of qualitative variation is close enough to 1, it means that from the point of view of the distribution by gender, the data are heterogeneous.*"
   ]
  },
  {
   "cell_type": "code",
   "execution_count": 51,
   "id": "5f6b8b7c",
   "metadata": {},
   "outputs": [
    {
     "data": {
      "image/png": "[encoded data removed]",
      "text/plain": [
       "<Figure size 432x288 with 1 Axes>"
      ]
     },
     "metadata": {
      "image/png": {
       "height": 231,
       "width": 244
      }
     },
     "output_type": "display_data"
    },
    {
     "data": {
      "application/javascript": [
       "\n",
       "            setTimeout(function() {\n",
       "                var nbb_cell_id = 51;\n",
       "                var nbb_unformatted_code = \"data = list(people_final[\\\"gen_binary\\\"].value_counts())\\nlabels = [\\\"\\u041c\\u0443\\u0436\\u0447\\u0438\\u043d\\u044b\\\", \\\"\\u0416\\u0435\\u043d\\u0449\\u0438\\u043d\\u044b\\\"]\\ncolors = sns.color_palette(\\\"Set2\\\")[0:5]\\nplt.pie(data, labels=labels, colors=colors, autopct=\\\"%.0f%%\\\")\\nplt.show()\";\n",
       "                var nbb_formatted_code = \"data = list(people_final[\\\"gen_binary\\\"].value_counts())\\nlabels = [\\\"\\u041c\\u0443\\u0436\\u0447\\u0438\\u043d\\u044b\\\", \\\"\\u0416\\u0435\\u043d\\u0449\\u0438\\u043d\\u044b\\\"]\\ncolors = sns.color_palette(\\\"Set2\\\")[0:5]\\nplt.pie(data, labels=labels, colors=colors, autopct=\\\"%.0f%%\\\")\\nplt.show()\";\n",
       "                var nbb_cells = Jupyter.notebook.get_cells();\n",
       "                for (var i = 0; i < nbb_cells.length; ++i) {\n",
       "                    if (nbb_cells[i].input_prompt_number == nbb_cell_id) {\n",
       "                        if (nbb_cells[i].get_text() == nbb_unformatted_code) {\n",
       "                             nbb_cells[i].set_text(nbb_formatted_code);\n",
       "                        }\n",
       "                        break;\n",
       "                    }\n",
       "                }\n",
       "            }, 500);\n",
       "            "
      ],
      "text/plain": [
       "<IPython.core.display.Javascript object>"
      ]
     },
     "metadata": {},
     "output_type": "display_data"
    }
   ],
   "source": [
    "data = list(people_final[\"gen_binary\"].value_counts())\n",
    "labels = [\"Мужчины\", \"Женщины\"]\n",
    "colors = sns.color_palette(\"Set2\")[0:5]\n",
    "plt.pie(data, labels=labels, colors=colors, autopct=\"%.0f%%\")\n",
    "plt.show()"
   ]
  },
  {
   "cell_type": "markdown",
   "id": "89618996",
   "metadata": {},
   "source": [
    "### Age distribution"
   ]
  },
  {
   "cell_type": "code",
   "execution_count": 55,
   "id": "263581a8",
   "metadata": {},
   "outputs": [
    {
     "data": {
      "application/javascript": [
       "\n",
       "            setTimeout(function() {\n",
       "                var nbb_cell_id = 55;\n",
       "                var nbb_unformatted_code = \"people_final[\\\"age_years\\\"] = people_final[\\\"age_years\\\"].apply(lambda x: int(x))\";\n",
       "                var nbb_formatted_code = \"people_final[\\\"age_years\\\"] = people_final[\\\"age_years\\\"].apply(lambda x: int(x))\";\n",
       "                var nbb_cells = Jupyter.notebook.get_cells();\n",
       "                for (var i = 0; i < nbb_cells.length; ++i) {\n",
       "                    if (nbb_cells[i].input_prompt_number == nbb_cell_id) {\n",
       "                        if (nbb_cells[i].get_text() == nbb_unformatted_code) {\n",
       "                             nbb_cells[i].set_text(nbb_formatted_code);\n",
       "                        }\n",
       "                        break;\n",
       "                    }\n",
       "                }\n",
       "            }, 500);\n",
       "            "
      ],
      "text/plain": [
       "<IPython.core.display.Javascript object>"
      ]
     },
     "metadata": {},
     "output_type": "display_data"
    }
   ],
   "source": [
    "people_final[\"age_years\"] = people_final[\"age_years\"].apply(lambda x: int(x))"
   ]
  },
  {
   "cell_type": "code",
   "execution_count": 63,
   "id": "6d422008",
   "metadata": {},
   "outputs": [
    {
     "name": "stdout",
     "output_type": "stream",
     "text": [
      "Mean age is 38.808876619239754\n"
     ]
    },
    {
     "data": {
      "application/javascript": [
       "\n",
       "            setTimeout(function() {\n",
       "                var nbb_cell_id = 63;\n",
       "                var nbb_unformatted_code = \"mean = people_final[\\\"age_years\\\"].mean()\\nprint(f\\\"Mean age is {mean}\\\")\";\n",
       "                var nbb_formatted_code = \"mean = people_final[\\\"age_years\\\"].mean()\\nprint(f\\\"Mean age is {mean}\\\")\";\n",
       "                var nbb_cells = Jupyter.notebook.get_cells();\n",
       "                for (var i = 0; i < nbb_cells.length; ++i) {\n",
       "                    if (nbb_cells[i].input_prompt_number == nbb_cell_id) {\n",
       "                        if (nbb_cells[i].get_text() == nbb_unformatted_code) {\n",
       "                             nbb_cells[i].set_text(nbb_formatted_code);\n",
       "                        }\n",
       "                        break;\n",
       "                    }\n",
       "                }\n",
       "            }, 500);\n",
       "            "
      ],
      "text/plain": [
       "<IPython.core.display.Javascript object>"
      ]
     },
     "metadata": {},
     "output_type": "display_data"
    }
   ],
   "source": [
    "mean = people_final[\"age_years\"].mean()\n",
    "print(f\"Mean age is {mean}\")"
   ]
  },
  {
   "cell_type": "code",
   "execution_count": 64,
   "id": "75194a14",
   "metadata": {},
   "outputs": [
    {
     "name": "stdout",
     "output_type": "stream",
     "text": [
      "Median age is 38.0\n"
     ]
    },
    {
     "data": {
      "application/javascript": [
       "\n",
       "            setTimeout(function() {\n",
       "                var nbb_cell_id = 64;\n",
       "                var nbb_unformatted_code = \"median = people_final[\\\"age_years\\\"].median()\\nprint(f\\\"Median age is {median}\\\")\";\n",
       "                var nbb_formatted_code = \"median = people_final[\\\"age_years\\\"].median()\\nprint(f\\\"Median age is {median}\\\")\";\n",
       "                var nbb_cells = Jupyter.notebook.get_cells();\n",
       "                for (var i = 0; i < nbb_cells.length; ++i) {\n",
       "                    if (nbb_cells[i].input_prompt_number == nbb_cell_id) {\n",
       "                        if (nbb_cells[i].get_text() == nbb_unformatted_code) {\n",
       "                             nbb_cells[i].set_text(nbb_formatted_code);\n",
       "                        }\n",
       "                        break;\n",
       "                    }\n",
       "                }\n",
       "            }, 500);\n",
       "            "
      ],
      "text/plain": [
       "<IPython.core.display.Javascript object>"
      ]
     },
     "metadata": {},
     "output_type": "display_data"
    }
   ],
   "source": [
    "median = people_final[\"age_years\"].median()\n",
    "print(f\"Median age is {median}\")"
   ]
  },
  {
   "cell_type": "code",
   "execution_count": 66,
   "id": "b5ef5c10",
   "metadata": {},
   "outputs": [
    {
     "name": "stdout",
     "output_type": "stream",
     "text": [
      "Mode age is 38\n"
     ]
    },
    {
     "data": {
      "application/javascript": [
       "\n",
       "            setTimeout(function() {\n",
       "                var nbb_cell_id = 66;\n",
       "                var nbb_unformatted_code = \"mode = people_final[\\\"age_years\\\"].mode()\\nprint(f\\\"Mode age is {mode[0]}\\\")\";\n",
       "                var nbb_formatted_code = \"mode = people_final[\\\"age_years\\\"].mode()\\nprint(f\\\"Mode age is {mode[0]}\\\")\";\n",
       "                var nbb_cells = Jupyter.notebook.get_cells();\n",
       "                for (var i = 0; i < nbb_cells.length; ++i) {\n",
       "                    if (nbb_cells[i].input_prompt_number == nbb_cell_id) {\n",
       "                        if (nbb_cells[i].get_text() == nbb_unformatted_code) {\n",
       "                             nbb_cells[i].set_text(nbb_formatted_code);\n",
       "                        }\n",
       "                        break;\n",
       "                    }\n",
       "                }\n",
       "            }, 500);\n",
       "            "
      ],
      "text/plain": [
       "<IPython.core.display.Javascript object>"
      ]
     },
     "metadata": {},
     "output_type": "display_data"
    }
   ],
   "source": [
    "mode = people_final[\"age_years\"].mode()\n",
    "print(f\"Mode age is {mode[0]}\")"
   ]
  },
  {
   "cell_type": "code",
   "execution_count": 67,
   "id": "5dce128c",
   "metadata": {},
   "outputs": [
    {
     "name": "stdout",
     "output_type": "stream",
     "text": [
      "Variance is 83.43894435279643\n"
     ]
    },
    {
     "data": {
      "application/javascript": [
       "\n",
       "            setTimeout(function() {\n",
       "                var nbb_cell_id = 67;\n",
       "                var nbb_unformatted_code = \"print(f'Variance is {var(people_final[\\\"age_years\\\"])}')\";\n",
       "                var nbb_formatted_code = \"print(f'Variance is {var(people_final[\\\"age_years\\\"])}')\";\n",
       "                var nbb_cells = Jupyter.notebook.get_cells();\n",
       "                for (var i = 0; i < nbb_cells.length; ++i) {\n",
       "                    if (nbb_cells[i].input_prompt_number == nbb_cell_id) {\n",
       "                        if (nbb_cells[i].get_text() == nbb_unformatted_code) {\n",
       "                             nbb_cells[i].set_text(nbb_formatted_code);\n",
       "                        }\n",
       "                        break;\n",
       "                    }\n",
       "                }\n",
       "            }, 500);\n",
       "            "
      ],
      "text/plain": [
       "<IPython.core.display.Javascript object>"
      ]
     },
     "metadata": {},
     "output_type": "display_data"
    }
   ],
   "source": [
    "print(f'Variance is {var(people_final[\"age_years\"])}')"
   ]
  },
  {
   "cell_type": "code",
   "execution_count": 68,
   "id": "18359ea5",
   "metadata": {},
   "outputs": [
    {
     "name": "stdout",
     "output_type": "stream",
     "text": [
      "Standart deviation is 9.134492013943436\n"
     ]
    },
    {
     "data": {
      "application/javascript": [
       "\n",
       "            setTimeout(function() {\n",
       "                var nbb_cell_id = 68;\n",
       "                var nbb_unformatted_code = \"print(f'Standart deviation is {std(people_final[\\\"age_years\\\"])}')\";\n",
       "                var nbb_formatted_code = \"print(f'Standart deviation is {std(people_final[\\\"age_years\\\"])}')\";\n",
       "                var nbb_cells = Jupyter.notebook.get_cells();\n",
       "                for (var i = 0; i < nbb_cells.length; ++i) {\n",
       "                    if (nbb_cells[i].input_prompt_number == nbb_cell_id) {\n",
       "                        if (nbb_cells[i].get_text() == nbb_unformatted_code) {\n",
       "                             nbb_cells[i].set_text(nbb_formatted_code);\n",
       "                        }\n",
       "                        break;\n",
       "                    }\n",
       "                }\n",
       "            }, 500);\n",
       "            "
      ],
      "text/plain": [
       "<IPython.core.display.Javascript object>"
      ]
     },
     "metadata": {},
     "output_type": "display_data"
    }
   ],
   "source": [
    "print(f'Standart deviation is {std(people_final[\"age_years\"])}')"
   ]
  },
  {
   "cell_type": "markdown",
   "id": "869ee42c",
   "metadata": {},
   "source": [
    "Therefore, the average age of users is within 38 +- 9.1 * 3"
   ]
  },
  {
   "cell_type": "code",
   "execution_count": 69,
   "id": "2bb122aa",
   "metadata": {},
   "outputs": [
    {
     "data": {
      "text/plain": [
       "0.0"
      ]
     },
     "execution_count": 69,
     "metadata": {},
     "output_type": "execute_result"
    },
    {
     "data": {
      "application/javascript": [
       "\n",
       "            setTimeout(function() {\n",
       "                var nbb_cell_id = 69;\n",
       "                var nbb_unformatted_code = \"RQ = people_final[\\\"age_years\\\"].describe()[6] - people_final[\\\"age_years\\\"].describe()[4]\\nRQ\";\n",
       "                var nbb_formatted_code = \"RQ = people_final[\\\"age_years\\\"].describe()[6] - people_final[\\\"age_years\\\"].describe()[4]\\nRQ\";\n",
       "                var nbb_cells = Jupyter.notebook.get_cells();\n",
       "                for (var i = 0; i < nbb_cells.length; ++i) {\n",
       "                    if (nbb_cells[i].input_prompt_number == nbb_cell_id) {\n",
       "                        if (nbb_cells[i].get_text() == nbb_unformatted_code) {\n",
       "                             nbb_cells[i].set_text(nbb_formatted_code);\n",
       "                        }\n",
       "                        break;\n",
       "                    }\n",
       "                }\n",
       "            }, 500);\n",
       "            "
      ],
      "text/plain": [
       "<IPython.core.display.Javascript object>"
      ]
     },
     "metadata": {},
     "output_type": "display_data"
    }
   ],
   "source": [
    "RQ = people_final[\"age_years\"].describe()[6] - people_final[\"age_years\"].describe()[4]\n",
    "RQ"
   ]
  },
  {
   "cell_type": "markdown",
   "id": "2d7edaf9",
   "metadata": {},
   "source": [
    "*RQ is 0, the age data is homogeneous*"
   ]
  },
  {
   "cell_type": "code",
   "execution_count": 70,
   "id": "9b0b4a34",
   "metadata": {},
   "outputs": [
    {
     "data": {
      "text/plain": [
       "0.2353712039532459"
      ]
     },
     "execution_count": 70,
     "metadata": {},
     "output_type": "execute_result"
    },
    {
     "data": {
      "application/javascript": [
       "\n",
       "            setTimeout(function() {\n",
       "                var nbb_cell_id = 70;\n",
       "                var nbb_unformatted_code = \"std(people_final[\\\"age_years\\\"]) / people_final[\\\"age_years\\\"].mean()\";\n",
       "                var nbb_formatted_code = \"std(people_final[\\\"age_years\\\"]) / people_final[\\\"age_years\\\"].mean()\";\n",
       "                var nbb_cells = Jupyter.notebook.get_cells();\n",
       "                for (var i = 0; i < nbb_cells.length; ++i) {\n",
       "                    if (nbb_cells[i].input_prompt_number == nbb_cell_id) {\n",
       "                        if (nbb_cells[i].get_text() == nbb_unformatted_code) {\n",
       "                             nbb_cells[i].set_text(nbb_formatted_code);\n",
       "                        }\n",
       "                        break;\n",
       "                    }\n",
       "                }\n",
       "            }, 500);\n",
       "            "
      ],
      "text/plain": [
       "<IPython.core.display.Javascript object>"
      ]
     },
     "metadata": {},
     "output_type": "display_data"
    }
   ],
   "source": [
    "std(people_final[\"age_years\"]) / people_final[\"age_years\"].mean()"
   ]
  },
  {
   "cell_type": "markdown",
   "id": "20e01994",
   "metadata": {},
   "source": [
    "*Since the coefficient of variation does not exceed 30-35%, the age data are highly homogeneous.*"
   ]
  },
  {
   "cell_type": "code",
   "execution_count": 71,
   "id": "70e879d6",
   "metadata": {},
   "outputs": [
    {
     "data": {
      "text/plain": [
       "[Text(0.5, 0, 'Возраст, в годах')]"
      ]
     },
     "execution_count": 71,
     "metadata": {},
     "output_type": "execute_result"
    },
    {
     "data": {
      "image/png": "[encoded data removed]",
      "text/plain": [
       "<Figure size 432x288 with 1 Axes>"
      ]
     },
     "metadata": {
      "image/png": {
       "height": 261,
       "width": 355
      },
      "needs_background": "light"
     },
     "output_type": "display_data"
    },
    {
     "data": {
      "application/javascript": [
       "\n",
       "            setTimeout(function() {\n",
       "                var nbb_cell_id = 71;\n",
       "                var nbb_unformatted_code = \"sns.boxplot(people_final[\\\"age_years\\\"]).set(xlabel=\\\"\\u0412\\u043e\\u0437\\u0440\\u0430\\u0441\\u0442, \\u0432 \\u0433\\u043e\\u0434\\u0430\\u0445\\\")\";\n",
       "                var nbb_formatted_code = \"sns.boxplot(people_final[\\\"age_years\\\"]).set(xlabel=\\\"\\u0412\\u043e\\u0437\\u0440\\u0430\\u0441\\u0442, \\u0432 \\u0433\\u043e\\u0434\\u0430\\u0445\\\")\";\n",
       "                var nbb_cells = Jupyter.notebook.get_cells();\n",
       "                for (var i = 0; i < nbb_cells.length; ++i) {\n",
       "                    if (nbb_cells[i].input_prompt_number == nbb_cell_id) {\n",
       "                        if (nbb_cells[i].get_text() == nbb_unformatted_code) {\n",
       "                             nbb_cells[i].set_text(nbb_formatted_code);\n",
       "                        }\n",
       "                        break;\n",
       "                    }\n",
       "                }\n",
       "            }, 500);\n",
       "            "
      ],
      "text/plain": [
       "<IPython.core.display.Javascript object>"
      ]
     },
     "metadata": {},
     "output_type": "display_data"
    }
   ],
   "source": [
    "sns.boxplot(people_final[\"age_years\"]).set(xlabel=\"Возраст, в годах\")"
   ]
  },
  {
   "cell_type": "code",
   "execution_count": 72,
   "id": "f376081d",
   "metadata": {},
   "outputs": [
    {
     "data": {
      "application/javascript": [
       "\n",
       "            setTimeout(function() {\n",
       "                var nbb_cell_id = 72;\n",
       "                var nbb_unformatted_code = \"# Let's look at the statistics on data in which omissions and dates of birth were removed without specifying the year\";\n",
       "                var nbb_formatted_code = \"# Let's look at the statistics on data in which omissions and dates of birth were removed without specifying the year\";\n",
       "                var nbb_cells = Jupyter.notebook.get_cells();\n",
       "                for (var i = 0; i < nbb_cells.length; ++i) {\n",
       "                    if (nbb_cells[i].input_prompt_number == nbb_cell_id) {\n",
       "                        if (nbb_cells[i].get_text() == nbb_unformatted_code) {\n",
       "                             nbb_cells[i].set_text(nbb_formatted_code);\n",
       "                        }\n",
       "                        break;\n",
       "                    }\n",
       "                }\n",
       "            }, 500);\n",
       "            "
      ],
      "text/plain": [
       "<IPython.core.display.Javascript object>"
      ]
     },
     "metadata": {},
     "output_type": "display_data"
    }
   ],
   "source": [
    "# Let's look at the statistics on data in which omissions and dates of birth were removed without specifying the year"
   ]
  },
  {
   "cell_type": "code",
   "execution_count": 73,
   "id": "18322b91",
   "metadata": {},
   "outputs": [
    {
     "data": {
      "application/javascript": [
       "\n",
       "            setTimeout(function() {\n",
       "                var nbb_cell_id = 73;\n",
       "                var nbb_unformatted_code = \"all_people_with_age[\\\"age_years\\\"] = all_people_with_age[\\\"age_years\\\"].apply(\\n    lambda x: int(x)\\n)\";\n",
       "                var nbb_formatted_code = \"all_people_with_age[\\\"age_years\\\"] = all_people_with_age[\\\"age_years\\\"].apply(\\n    lambda x: int(x)\\n)\";\n",
       "                var nbb_cells = Jupyter.notebook.get_cells();\n",
       "                for (var i = 0; i < nbb_cells.length; ++i) {\n",
       "                    if (nbb_cells[i].input_prompt_number == nbb_cell_id) {\n",
       "                        if (nbb_cells[i].get_text() == nbb_unformatted_code) {\n",
       "                             nbb_cells[i].set_text(nbb_formatted_code);\n",
       "                        }\n",
       "                        break;\n",
       "                    }\n",
       "                }\n",
       "            }, 500);\n",
       "            "
      ],
      "text/plain": [
       "<IPython.core.display.Javascript object>"
      ]
     },
     "metadata": {},
     "output_type": "display_data"
    }
   ],
   "source": [
    "all_people_with_age[\"age_years\"] = all_people_with_age[\"age_years\"].apply(\n",
    "    lambda x: int(x)\n",
    ")"
   ]
  },
  {
   "cell_type": "code",
   "execution_count": 76,
   "id": "dd278759",
   "metadata": {},
   "outputs": [
    {
     "name": "stdout",
     "output_type": "stream",
     "text": [
      "Mean age is 39.81208372978116\n"
     ]
    },
    {
     "data": {
      "application/javascript": [
       "\n",
       "            setTimeout(function() {\n",
       "                var nbb_cell_id = 76;\n",
       "                var nbb_unformatted_code = \"mean2 = all_people_with_age[\\\"age_years\\\"].mean()\\nprint(f\\\"Mean age is {mean2}\\\")\";\n",
       "                var nbb_formatted_code = \"mean2 = all_people_with_age[\\\"age_years\\\"].mean()\\nprint(f\\\"Mean age is {mean2}\\\")\";\n",
       "                var nbb_cells = Jupyter.notebook.get_cells();\n",
       "                for (var i = 0; i < nbb_cells.length; ++i) {\n",
       "                    if (nbb_cells[i].input_prompt_number == nbb_cell_id) {\n",
       "                        if (nbb_cells[i].get_text() == nbb_unformatted_code) {\n",
       "                             nbb_cells[i].set_text(nbb_formatted_code);\n",
       "                        }\n",
       "                        break;\n",
       "                    }\n",
       "                }\n",
       "            }, 500);\n",
       "            "
      ],
      "text/plain": [
       "<IPython.core.display.Javascript object>"
      ]
     },
     "metadata": {},
     "output_type": "display_data"
    }
   ],
   "source": [
    "mean2 = all_people_with_age[\"age_years\"].mean()\n",
    "print(f\"Mean age is {mean2}\")"
   ]
  },
  {
   "cell_type": "code",
   "execution_count": 77,
   "id": "752c76bf",
   "metadata": {},
   "outputs": [
    {
     "name": "stdout",
     "output_type": "stream",
     "text": [
      "Mean age is 38.0\n"
     ]
    },
    {
     "data": {
      "application/javascript": [
       "\n",
       "            setTimeout(function() {\n",
       "                var nbb_cell_id = 77;\n",
       "                var nbb_unformatted_code = \"median2 = all_people_with_age[\\\"age_years\\\"].median()\\nprint(f\\\"Mean age is {median2}\\\")\";\n",
       "                var nbb_formatted_code = \"median2 = all_people_with_age[\\\"age_years\\\"].median()\\nprint(f\\\"Mean age is {median2}\\\")\";\n",
       "                var nbb_cells = Jupyter.notebook.get_cells();\n",
       "                for (var i = 0; i < nbb_cells.length; ++i) {\n",
       "                    if (nbb_cells[i].input_prompt_number == nbb_cell_id) {\n",
       "                        if (nbb_cells[i].get_text() == nbb_unformatted_code) {\n",
       "                             nbb_cells[i].set_text(nbb_formatted_code);\n",
       "                        }\n",
       "                        break;\n",
       "                    }\n",
       "                }\n",
       "            }, 500);\n",
       "            "
      ],
      "text/plain": [
       "<IPython.core.display.Javascript object>"
      ]
     },
     "metadata": {},
     "output_type": "display_data"
    }
   ],
   "source": [
    "median2 = all_people_with_age[\"age_years\"].median()\n",
    "print(f\"Median age is {median2}\")"
   ]
  },
  {
   "cell_type": "code",
   "execution_count": 82,
   "id": "4244fe59",
   "metadata": {},
   "outputs": [
    {
     "name": "stdout",
     "output_type": "stream",
     "text": [
      "Mode age is 38\n"
     ]
    },
    {
     "data": {
      "application/javascript": [
       "\n",
       "            setTimeout(function() {\n",
       "                var nbb_cell_id = 82;\n",
       "                var nbb_unformatted_code = \"mode2 = all_people_with_age[\\\"age_years\\\"].mode()\\nprint(f\\\"Mode age is {mode2[0]}\\\")\";\n",
       "                var nbb_formatted_code = \"mode2 = all_people_with_age[\\\"age_years\\\"].mode()\\nprint(f\\\"Mode age is {mode2[0]}\\\")\";\n",
       "                var nbb_cells = Jupyter.notebook.get_cells();\n",
       "                for (var i = 0; i < nbb_cells.length; ++i) {\n",
       "                    if (nbb_cells[i].input_prompt_number == nbb_cell_id) {\n",
       "                        if (nbb_cells[i].get_text() == nbb_unformatted_code) {\n",
       "                             nbb_cells[i].set_text(nbb_formatted_code);\n",
       "                        }\n",
       "                        break;\n",
       "                    }\n",
       "                }\n",
       "            }, 500);\n",
       "            "
      ],
      "text/plain": [
       "<IPython.core.display.Javascript object>"
      ]
     },
     "metadata": {},
     "output_type": "display_data"
    }
   ],
   "source": [
    "mode2 = all_people_with_age[\"age_years\"].mode()\n",
    "print(f\"Mode age is {mode2[0]}\")"
   ]
  },
  {
   "cell_type": "code",
   "execution_count": 79,
   "id": "0901715e",
   "metadata": {},
   "outputs": [
    {
     "name": "stdout",
     "output_type": "stream",
     "text": [
      "Variance is 185.10598148109577\n"
     ]
    },
    {
     "data": {
      "application/javascript": [
       "\n",
       "            setTimeout(function() {\n",
       "                var nbb_cell_id = 79;\n",
       "                var nbb_unformatted_code = \"print(f'Variance is {var(all_people_with_age[\\\"age_years\\\"])}')\";\n",
       "                var nbb_formatted_code = \"print(f'Variance is {var(all_people_with_age[\\\"age_years\\\"])}')\";\n",
       "                var nbb_cells = Jupyter.notebook.get_cells();\n",
       "                for (var i = 0; i < nbb_cells.length; ++i) {\n",
       "                    if (nbb_cells[i].input_prompt_number == nbb_cell_id) {\n",
       "                        if (nbb_cells[i].get_text() == nbb_unformatted_code) {\n",
       "                             nbb_cells[i].set_text(nbb_formatted_code);\n",
       "                        }\n",
       "                        break;\n",
       "                    }\n",
       "                }\n",
       "            }, 500);\n",
       "            "
      ],
      "text/plain": [
       "<IPython.core.display.Javascript object>"
      ]
     },
     "metadata": {},
     "output_type": "display_data"
    }
   ],
   "source": [
    "print(f'Variance is {var(all_people_with_age[\"age_years\"])}')"
   ]
  },
  {
   "cell_type": "code",
   "execution_count": 83,
   "id": "5f4d8093",
   "metadata": {},
   "outputs": [
    {
     "name": "stdout",
     "output_type": "stream",
     "text": [
      "Standart deviation is 13.60536590765187\n"
     ]
    },
    {
     "data": {
      "application/javascript": [
       "\n",
       "            setTimeout(function() {\n",
       "                var nbb_cell_id = 83;\n",
       "                var nbb_unformatted_code = \"print(f'Standart deviation is {std(all_people_with_age[\\\"age_years\\\"])}')\";\n",
       "                var nbb_formatted_code = \"print(f'Standart deviation is {std(all_people_with_age[\\\"age_years\\\"])}')\";\n",
       "                var nbb_cells = Jupyter.notebook.get_cells();\n",
       "                for (var i = 0; i < nbb_cells.length; ++i) {\n",
       "                    if (nbb_cells[i].input_prompt_number == nbb_cell_id) {\n",
       "                        if (nbb_cells[i].get_text() == nbb_unformatted_code) {\n",
       "                             nbb_cells[i].set_text(nbb_formatted_code);\n",
       "                        }\n",
       "                        break;\n",
       "                    }\n",
       "                }\n",
       "            }, 500);\n",
       "            "
      ],
      "text/plain": [
       "<IPython.core.display.Javascript object>"
      ]
     },
     "metadata": {},
     "output_type": "display_data"
    }
   ],
   "source": [
    "print(f'Standart deviation is {std(all_people_with_age[\"age_years\"])}')"
   ]
  },
  {
   "cell_type": "markdown",
   "id": "05cf5875",
   "metadata": {},
   "source": [
    "*Therefore, the average age of users is within 40 +- 13.6 * 3*"
   ]
  },
  {
   "cell_type": "code",
   "execution_count": 84,
   "id": "9b4419b0",
   "metadata": {},
   "outputs": [
    {
     "data": {
      "text/plain": [
       "14.75"
      ]
     },
     "execution_count": 84,
     "metadata": {},
     "output_type": "execute_result"
    },
    {
     "data": {
      "application/javascript": [
       "\n",
       "            setTimeout(function() {\n",
       "                var nbb_cell_id = 84;\n",
       "                var nbb_unformatted_code = \"RQ = (\\n    all_people_with_age[\\\"age_years\\\"].describe()[6]\\n    - all_people_with_age[\\\"age_years\\\"].describe()[4]\\n)\\nRQ  # \\u043c\\u0435\\u0436\\u043a\\u0432\\u0430\\u0440\\u0442\\u0438\\u043b\\u044c\\u043d\\u044b\\u0439 \\u0440\\u0430\\u0437\\u043c\\u0430\\u0445\";\n",
       "                var nbb_formatted_code = \"RQ = (\\n    all_people_with_age[\\\"age_years\\\"].describe()[6]\\n    - all_people_with_age[\\\"age_years\\\"].describe()[4]\\n)\\nRQ  # \\u043c\\u0435\\u0436\\u043a\\u0432\\u0430\\u0440\\u0442\\u0438\\u043b\\u044c\\u043d\\u044b\\u0439 \\u0440\\u0430\\u0437\\u043c\\u0430\\u0445\";\n",
       "                var nbb_cells = Jupyter.notebook.get_cells();\n",
       "                for (var i = 0; i < nbb_cells.length; ++i) {\n",
       "                    if (nbb_cells[i].input_prompt_number == nbb_cell_id) {\n",
       "                        if (nbb_cells[i].get_text() == nbb_unformatted_code) {\n",
       "                             nbb_cells[i].set_text(nbb_formatted_code);\n",
       "                        }\n",
       "                        break;\n",
       "                    }\n",
       "                }\n",
       "            }, 500);\n",
       "            "
      ],
      "text/plain": [
       "<IPython.core.display.Javascript object>"
      ]
     },
     "metadata": {},
     "output_type": "display_data"
    }
   ],
   "source": [
    "RQ = (\n",
    "    all_people_with_age[\"age_years\"].describe()[6]\n",
    "    - all_people_with_age[\"age_years\"].describe()[4]\n",
    ")\n",
    "RQ  "
   ]
  },
  {
   "cell_type": "code",
   "execution_count": 85,
   "id": "71e1a12d",
   "metadata": {},
   "outputs": [
    {
     "data": {
      "text/plain": [
       "0.3417396085067124"
      ]
     },
     "execution_count": 85,
     "metadata": {},
     "output_type": "execute_result"
    },
    {
     "data": {
      "application/javascript": [
       "\n",
       "            setTimeout(function() {\n",
       "                var nbb_cell_id = 85;\n",
       "                var nbb_unformatted_code = \"std(all_people_with_age[\\\"age_years\\\"]) / all_people_with_age[\\n    \\\"age_years\\\"\\n].mean()  \";\n",
       "                var nbb_formatted_code = \"std(all_people_with_age[\\\"age_years\\\"]) / all_people_with_age[\\\"age_years\\\"].mean()\";\n",
       "                var nbb_cells = Jupyter.notebook.get_cells();\n",
       "                for (var i = 0; i < nbb_cells.length; ++i) {\n",
       "                    if (nbb_cells[i].input_prompt_number == nbb_cell_id) {\n",
       "                        if (nbb_cells[i].get_text() == nbb_unformatted_code) {\n",
       "                             nbb_cells[i].set_text(nbb_formatted_code);\n",
       "                        }\n",
       "                        break;\n",
       "                    }\n",
       "                }\n",
       "            }, 500);\n",
       "            "
      ],
      "text/plain": [
       "<IPython.core.display.Javascript object>"
      ]
     },
     "metadata": {},
     "output_type": "display_data"
    }
   ],
   "source": [
    "std(all_people_with_age[\"age_years\"]) / all_people_with_age[\"age_years\"].mean()"
   ]
  },
  {
   "cell_type": "markdown",
   "id": "6cfd1d46",
   "metadata": {},
   "source": [
    "*Since the coefficient of variation does not exceed 30-35%, the age data still have a high uniformity.*"
   ]
  },
  {
   "cell_type": "code",
   "execution_count": 86,
   "id": "e836735f",
   "metadata": {},
   "outputs": [
    {
     "data": {
      "text/plain": [
       "[Text(0.5, 0, 'Возраст, в годах')]"
      ]
     },
     "execution_count": 86,
     "metadata": {},
     "output_type": "execute_result"
    },
    {
     "data": {
      "image/png": "[encoded data removed]",
      "text/plain": [
       "<Figure size 432x288 with 1 Axes>"
      ]
     },
     "metadata": {
      "image/png": {
       "height": 261,
       "width": 355
      },
      "needs_background": "light"
     },
     "output_type": "display_data"
    },
    {
     "data": {
      "application/javascript": [
       "\n",
       "            setTimeout(function() {\n",
       "                var nbb_cell_id = 86;\n",
       "                var nbb_unformatted_code = \"sns.boxplot(all_people_with_age[\\\"age_years\\\"], palette=\\\"pastel\\\").set(\\n    xlabel=\\\"\\u0412\\u043e\\u0437\\u0440\\u0430\\u0441\\u0442, \\u0432 \\u0433\\u043e\\u0434\\u0430\\u0445\\\"\\n)\";\n",
       "                var nbb_formatted_code = \"sns.boxplot(all_people_with_age[\\\"age_years\\\"], palette=\\\"pastel\\\").set(\\n    xlabel=\\\"\\u0412\\u043e\\u0437\\u0440\\u0430\\u0441\\u0442, \\u0432 \\u0433\\u043e\\u0434\\u0430\\u0445\\\"\\n)\";\n",
       "                var nbb_cells = Jupyter.notebook.get_cells();\n",
       "                for (var i = 0; i < nbb_cells.length; ++i) {\n",
       "                    if (nbb_cells[i].input_prompt_number == nbb_cell_id) {\n",
       "                        if (nbb_cells[i].get_text() == nbb_unformatted_code) {\n",
       "                             nbb_cells[i].set_text(nbb_formatted_code);\n",
       "                        }\n",
       "                        break;\n",
       "                    }\n",
       "                }\n",
       "            }, 500);\n",
       "            "
      ],
      "text/plain": [
       "<IPython.core.display.Javascript object>"
      ]
     },
     "metadata": {},
     "output_type": "display_data"
    }
   ],
   "source": [
    "sns.boxplot(all_people_with_age[\"age_years\"], palette=\"pastel\").set(\n",
    "    xlabel=\"Возраст, в годах\"\n",
    ")"
   ]
  },
  {
   "cell_type": "markdown",
   "id": "7fe93881",
   "metadata": {},
   "source": [
    "### City distribution"
   ]
  },
  {
   "cell_type": "code",
   "execution_count": 87,
   "id": "a153fa9b",
   "metadata": {},
   "outputs": [
    {
     "data": {
      "text/html": [
       "<div>\n",
       "<style scoped>\n",
       "    .dataframe tbody tr th:only-of-type {\n",
       "        vertical-align: middle;\n",
       "    }\n",
       "\n",
       "    .dataframe tbody tr th {\n",
       "        vertical-align: top;\n",
       "    }\n",
       "\n",
       "    .dataframe thead th {\n",
       "        text-align: right;\n",
       "    }\n",
       "</style>\n",
       "<table border=\"1\" class=\"dataframe\">\n",
       "  <thead>\n",
       "    <tr style=\"text-align: right;\">\n",
       "      <th></th>\n",
       "      <th>city</th>\n",
       "    </tr>\n",
       "  </thead>\n",
       "  <tbody>\n",
       "    <tr>\n",
       "      <th>москва</th>\n",
       "      <td>0.543640</td>\n",
       "    </tr>\n",
       "    <tr>\n",
       "      <th>санкт-петербург</th>\n",
       "      <td>0.078148</td>\n",
       "    </tr>\n",
       "    <tr>\n",
       "      <th>екатеринбург</th>\n",
       "      <td>0.009344</td>\n",
       "    </tr>\n",
       "    <tr>\n",
       "      <th>казань</th>\n",
       "      <td>0.009131</td>\n",
       "    </tr>\n",
       "    <tr>\n",
       "      <th>самара</th>\n",
       "      <td>0.007857</td>\n",
       "    </tr>\n",
       "    <tr>\n",
       "      <th>новосибирск</th>\n",
       "      <td>0.007645</td>\n",
       "    </tr>\n",
       "    <tr>\n",
       "      <th>нижний новгород</th>\n",
       "      <td>0.006583</td>\n",
       "    </tr>\n",
       "    <tr>\n",
       "      <th>челябинск</th>\n",
       "      <td>0.006158</td>\n",
       "    </tr>\n",
       "    <tr>\n",
       "      <th>воронеж</th>\n",
       "      <td>0.006158</td>\n",
       "    </tr>\n",
       "    <tr>\n",
       "      <th>краснодар</th>\n",
       "      <td>0.005946</td>\n",
       "    </tr>\n",
       "  </tbody>\n",
       "</table>\n",
       "</div>"
      ],
      "text/plain": [
       "                     city\n",
       "москва           0.543640\n",
       "санкт-петербург  0.078148\n",
       "екатеринбург     0.009344\n",
       "казань           0.009131\n",
       "самара           0.007857\n",
       "новосибирск      0.007645\n",
       "нижний новгород  0.006583\n",
       "челябинск        0.006158\n",
       "воронеж          0.006158\n",
       "краснодар        0.005946"
      ]
     },
     "execution_count": 87,
     "metadata": {},
     "output_type": "execute_result"
    },
    {
     "data": {
      "application/javascript": [
       "\n",
       "            setTimeout(function() {\n",
       "                var nbb_cell_id = 87;\n",
       "                var nbb_unformatted_code = \"pd.DataFrame(people_final[\\\"city\\\"].value_counts(normalize=True).head(10))\";\n",
       "                var nbb_formatted_code = \"pd.DataFrame(people_final[\\\"city\\\"].value_counts(normalize=True).head(10))\";\n",
       "                var nbb_cells = Jupyter.notebook.get_cells();\n",
       "                for (var i = 0; i < nbb_cells.length; ++i) {\n",
       "                    if (nbb_cells[i].input_prompt_number == nbb_cell_id) {\n",
       "                        if (nbb_cells[i].get_text() == nbb_unformatted_code) {\n",
       "                             nbb_cells[i].set_text(nbb_formatted_code);\n",
       "                        }\n",
       "                        break;\n",
       "                    }\n",
       "                }\n",
       "            }, 500);\n",
       "            "
      ],
      "text/plain": [
       "<IPython.core.display.Javascript object>"
      ]
     },
     "metadata": {},
     "output_type": "display_data"
    }
   ],
   "source": [
    "pd.DataFrame(people_final[\"city\"].value_counts(normalize=True).head(10))"
   ]
  },
  {
   "cell_type": "markdown",
   "id": "ed70da6c",
   "metadata": {},
   "source": [
    "*Since the city variable is measured on a nominal scale, mode is used as a measure of the central trend, and the spread measure is the coefficient of qualitative variation.*"
   ]
  },
  {
   "cell_type": "code",
   "execution_count": 89,
   "id": "ead90851",
   "metadata": {},
   "outputs": [
    {
     "name": "stdout",
     "output_type": "stream",
     "text": [
      "Mode of the city is \"москва\"\n"
     ]
    },
    {
     "data": {
      "application/javascript": [
       "\n",
       "            setTimeout(function() {\n",
       "                var nbb_cell_id = 89;\n",
       "                var nbb_unformatted_code = \"mode_city = people_final[\\\"city\\\"].mode()[0]\\nprint(f'Mode of the city is \\\"{mode_city}\\\"')\";\n",
       "                var nbb_formatted_code = \"mode_city = people_final[\\\"city\\\"].mode()[0]\\nprint(f'Mode of the city is \\\"{mode_city}\\\"')\";\n",
       "                var nbb_cells = Jupyter.notebook.get_cells();\n",
       "                for (var i = 0; i < nbb_cells.length; ++i) {\n",
       "                    if (nbb_cells[i].input_prompt_number == nbb_cell_id) {\n",
       "                        if (nbb_cells[i].get_text() == nbb_unformatted_code) {\n",
       "                             nbb_cells[i].set_text(nbb_formatted_code);\n",
       "                        }\n",
       "                        break;\n",
       "                    }\n",
       "                }\n",
       "            }, 500);\n",
       "            "
      ],
      "text/plain": [
       "<IPython.core.display.Javascript object>"
      ]
     },
     "metadata": {},
     "output_type": "display_data"
    }
   ],
   "source": [
    "mode_city = people_final[\"city\"].mode()[0]\n",
    "print(f'Mode of the city is \"{mode_city}\"')"
   ]
  },
  {
   "cell_type": "code",
   "execution_count": 90,
   "id": "cbdf6100",
   "metadata": {},
   "outputs": [
    {
     "data": {
      "application/javascript": [
       "\n",
       "            setTimeout(function() {\n",
       "                var nbb_cell_id = 90;\n",
       "                var nbb_unformatted_code = \"#the coefficient of qualitative variation \\nn = 4709\\nk = 617\\nnumerator = (2 * k) / (n ** 2 * (k - 1))\";\n",
       "                var nbb_formatted_code = \"# the coefficient of qualitative variation\\nn = 4709\\nk = 617\\nnumerator = (2 * k) / (n ** 2 * (k - 1))\";\n",
       "                var nbb_cells = Jupyter.notebook.get_cells();\n",
       "                for (var i = 0; i < nbb_cells.length; ++i) {\n",
       "                    if (nbb_cells[i].input_prompt_number == nbb_cell_id) {\n",
       "                        if (nbb_cells[i].get_text() == nbb_unformatted_code) {\n",
       "                             nbb_cells[i].set_text(nbb_formatted_code);\n",
       "                        }\n",
       "                        break;\n",
       "                    }\n",
       "                }\n",
       "            }, 500);\n",
       "            "
      ],
      "text/plain": [
       "<IPython.core.display.Javascript object>"
      ]
     },
     "metadata": {},
     "output_type": "display_data"
    }
   ],
   "source": [
    "# the coefficient of qualitative variation\n",
    "n = 4709\n",
    "k = 617\n",
    "numerator = (2 * k) / (n ** 2 * (k - 1))"
   ]
  },
  {
   "cell_type": "code",
   "execution_count": 91,
   "id": "526cdfe5",
   "metadata": {},
   "outputs": [
    {
     "data": {
      "application/javascript": [
       "\n",
       "            setTimeout(function() {\n",
       "                var nbb_cell_id = 91;\n",
       "                var nbb_unformatted_code = \"city_list = list(np.array(people_final[\\\"city\\\"].value_counts()))\\nreverse_list = city_list[::-1]\\ndenominator = np.dot(city_list[:616][::-1], list(np.cumsum(reverse_list))[:616])\";\n",
       "                var nbb_formatted_code = \"city_list = list(np.array(people_final[\\\"city\\\"].value_counts()))\\nreverse_list = city_list[::-1]\\ndenominator = np.dot(city_list[:616][::-1], list(np.cumsum(reverse_list))[:616])\";\n",
       "                var nbb_cells = Jupyter.notebook.get_cells();\n",
       "                for (var i = 0; i < nbb_cells.length; ++i) {\n",
       "                    if (nbb_cells[i].input_prompt_number == nbb_cell_id) {\n",
       "                        if (nbb_cells[i].get_text() == nbb_unformatted_code) {\n",
       "                             nbb_cells[i].set_text(nbb_formatted_code);\n",
       "                        }\n",
       "                        break;\n",
       "                    }\n",
       "                }\n",
       "            }, 500);\n",
       "            "
      ],
      "text/plain": [
       "<IPython.core.display.Javascript object>"
      ]
     },
     "metadata": {},
     "output_type": "display_data"
    }
   ],
   "source": [
    "city_list = list(np.array(people_final[\"city\"].value_counts()))\n",
    "reverse_list = city_list[::-1]\n",
    "denominator = np.dot(city_list[:616][::-1], list(np.cumsum(reverse_list))[:616])"
   ]
  },
  {
   "cell_type": "code",
   "execution_count": 92,
   "id": "024e2a05",
   "metadata": {},
   "outputs": [
    {
     "data": {
      "text/plain": [
       "0.6985129669974719"
      ]
     },
     "execution_count": 92,
     "metadata": {},
     "output_type": "execute_result"
    },
    {
     "data": {
      "application/javascript": [
       "\n",
       "            setTimeout(function() {\n",
       "                var nbb_cell_id = 92;\n",
       "                var nbb_unformatted_code = \"numerator * denominator\";\n",
       "                var nbb_formatted_code = \"numerator * denominator\";\n",
       "                var nbb_cells = Jupyter.notebook.get_cells();\n",
       "                for (var i = 0; i < nbb_cells.length; ++i) {\n",
       "                    if (nbb_cells[i].input_prompt_number == nbb_cell_id) {\n",
       "                        if (nbb_cells[i].get_text() == nbb_unformatted_code) {\n",
       "                             nbb_cells[i].set_text(nbb_formatted_code);\n",
       "                        }\n",
       "                        break;\n",
       "                    }\n",
       "                }\n",
       "            }, 500);\n",
       "            "
      ],
      "text/plain": [
       "<IPython.core.display.Javascript object>"
      ]
     },
     "metadata": {},
     "output_type": "display_data"
    }
   ],
   "source": [
    "numerator * denominator"
   ]
  },
  {
   "cell_type": "markdown",
   "id": "736d8cbc",
   "metadata": {},
   "source": [
    "**So, the coefficient of qualitative variationis 0.69. Thus, since the the coefficient of qualitative variation is close enough to 1, it means that from the point of view of the distribution by city, the data are heterogeneous.*"
   ]
  },
  {
   "cell_type": "code",
   "execution_count": 93,
   "id": "84561fc6",
   "metadata": {},
   "outputs": [
    {
     "data": {
      "application/javascript": [
       "\n",
       "            setTimeout(function() {\n",
       "                var nbb_cell_id = 93;\n",
       "                var nbb_unformatted_code = \"# It is obvious that the distribution is heterogeneous due to filling in the gaps with a mode with the value \\\"Moscow\\\"\\n# Let's look at the statistics on the data in which the omissions were removed\";\n",
       "                var nbb_formatted_code = \"# It is obvious that the distribution is heterogeneous due to filling in the gaps with a mode with the value \\\"Moscow\\\"\\n# Let's look at the statistics on the data in which the omissions were removed\";\n",
       "                var nbb_cells = Jupyter.notebook.get_cells();\n",
       "                for (var i = 0; i < nbb_cells.length; ++i) {\n",
       "                    if (nbb_cells[i].input_prompt_number == nbb_cell_id) {\n",
       "                        if (nbb_cells[i].get_text() == nbb_unformatted_code) {\n",
       "                             nbb_cells[i].set_text(nbb_formatted_code);\n",
       "                        }\n",
       "                        break;\n",
       "                    }\n",
       "                }\n",
       "            }, 500);\n",
       "            "
      ],
      "text/plain": [
       "<IPython.core.display.Javascript object>"
      ]
     },
     "metadata": {},
     "output_type": "display_data"
    }
   ],
   "source": [
    "# It is obvious that the distribution is heterogeneous due to filling in the gaps with a mode with the value \"Moscow\"\n",
    "# Let's look at the statistics on the data in which the omissions were removed"
   ]
  },
  {
   "cell_type": "code",
   "execution_count": 96,
   "id": "3814e93b",
   "metadata": {},
   "outputs": [
    {
     "data": {
      "text/html": [
       "<div>\n",
       "<style scoped>\n",
       "    .dataframe tbody tr th:only-of-type {\n",
       "        vertical-align: middle;\n",
       "    }\n",
       "\n",
       "    .dataframe tbody tr th {\n",
       "        vertical-align: top;\n",
       "    }\n",
       "\n",
       "    .dataframe thead th {\n",
       "        text-align: right;\n",
       "    }\n",
       "</style>\n",
       "<table border=\"1\" class=\"dataframe\">\n",
       "  <thead>\n",
       "    <tr style=\"text-align: right;\">\n",
       "      <th></th>\n",
       "      <th>city</th>\n",
       "    </tr>\n",
       "  </thead>\n",
       "  <tbody>\n",
       "    <tr>\n",
       "      <th>москва</th>\n",
       "      <td>0.381938</td>\n",
       "    </tr>\n",
       "    <tr>\n",
       "      <th>санкт-петербург</th>\n",
       "      <td>0.105838</td>\n",
       "    </tr>\n",
       "    <tr>\n",
       "      <th>екатеринбург</th>\n",
       "      <td>0.012655</td>\n",
       "    </tr>\n",
       "    <tr>\n",
       "      <th>казань</th>\n",
       "      <td>0.012367</td>\n",
       "    </tr>\n",
       "    <tr>\n",
       "      <th>самара</th>\n",
       "      <td>0.010641</td>\n",
       "    </tr>\n",
       "    <tr>\n",
       "      <th>новосибирск</th>\n",
       "      <td>0.010354</td>\n",
       "    </tr>\n",
       "    <tr>\n",
       "      <th>нижний новгород</th>\n",
       "      <td>0.008916</td>\n",
       "    </tr>\n",
       "    <tr>\n",
       "      <th>челябинск</th>\n",
       "      <td>0.008341</td>\n",
       "    </tr>\n",
       "    <tr>\n",
       "      <th>воронеж</th>\n",
       "      <td>0.008341</td>\n",
       "    </tr>\n",
       "    <tr>\n",
       "      <th>краснодар</th>\n",
       "      <td>0.008053</td>\n",
       "    </tr>\n",
       "  </tbody>\n",
       "</table>\n",
       "</div>"
      ],
      "text/plain": [
       "                     city\n",
       "москва           0.381938\n",
       "санкт-петербург  0.105838\n",
       "екатеринбург     0.012655\n",
       "казань           0.012367\n",
       "самара           0.010641\n",
       "новосибирск      0.010354\n",
       "нижний новгород  0.008916\n",
       "челябинск        0.008341\n",
       "воронеж          0.008341\n",
       "краснодар        0.008053"
      ]
     },
     "execution_count": 96,
     "metadata": {},
     "output_type": "execute_result"
    },
    {
     "data": {
      "application/javascript": [
       "\n",
       "            setTimeout(function() {\n",
       "                var nbb_cell_id = 96;\n",
       "                var nbb_unformatted_code = \"pd.DataFrame(df_city_[\\\"city\\\"].value_counts(normalize=True).head(10))\";\n",
       "                var nbb_formatted_code = \"pd.DataFrame(df_city_[\\\"city\\\"].value_counts(normalize=True).head(10))\";\n",
       "                var nbb_cells = Jupyter.notebook.get_cells();\n",
       "                for (var i = 0; i < nbb_cells.length; ++i) {\n",
       "                    if (nbb_cells[i].input_prompt_number == nbb_cell_id) {\n",
       "                        if (nbb_cells[i].get_text() == nbb_unformatted_code) {\n",
       "                             nbb_cells[i].set_text(nbb_formatted_code);\n",
       "                        }\n",
       "                        break;\n",
       "                    }\n",
       "                }\n",
       "            }, 500);\n",
       "            "
      ],
      "text/plain": [
       "<IPython.core.display.Javascript object>"
      ]
     },
     "metadata": {},
     "output_type": "display_data"
    }
   ],
   "source": [
    "pd.DataFrame(df_city_[\"city\"].value_counts(normalize=True).head(10))"
   ]
  },
  {
   "cell_type": "code",
   "execution_count": 97,
   "id": "523532ae",
   "metadata": {},
   "outputs": [
    {
     "name": "stdout",
     "output_type": "stream",
     "text": [
      "Mode is \"москва\"\n"
     ]
    },
    {
     "data": {
      "application/javascript": [
       "\n",
       "            setTimeout(function() {\n",
       "                var nbb_cell_id = 97;\n",
       "                var nbb_unformatted_code = \"mode_city = df_city_[\\\"city\\\"].mode()[0]\\nprint(f'Mode is \\\"{mode_city}\\\"')\";\n",
       "                var nbb_formatted_code = \"mode_city = df_city_[\\\"city\\\"].mode()[0]\\nprint(f'Mode is \\\"{mode_city}\\\"')\";\n",
       "                var nbb_cells = Jupyter.notebook.get_cells();\n",
       "                for (var i = 0; i < nbb_cells.length; ++i) {\n",
       "                    if (nbb_cells[i].input_prompt_number == nbb_cell_id) {\n",
       "                        if (nbb_cells[i].get_text() == nbb_unformatted_code) {\n",
       "                             nbb_cells[i].set_text(nbb_formatted_code);\n",
       "                        }\n",
       "                        break;\n",
       "                    }\n",
       "                }\n",
       "            }, 500);\n",
       "            "
      ],
      "text/plain": [
       "<IPython.core.display.Javascript object>"
      ]
     },
     "metadata": {},
     "output_type": "display_data"
    }
   ],
   "source": [
    "mode_city = df_city_[\"city\"].mode()[0]\n",
    "print(f'Mode is \"{mode_city}\"')"
   ]
  },
  {
   "cell_type": "code",
   "execution_count": 98,
   "id": "f83e42c3",
   "metadata": {},
   "outputs": [
    {
     "data": {
      "application/javascript": [
       "\n",
       "            setTimeout(function() {\n",
       "                var nbb_cell_id = 98;\n",
       "                var nbb_unformatted_code = \"# the coefficient of qualitative variation\\nn2 = 3477\\nk2 = 617\\nnumerator2 = (2 * k2) / (n2 ** 2 * (k2 - 1))\";\n",
       "                var nbb_formatted_code = \"# the coefficient of qualitative variation\\nn2 = 3477\\nk2 = 617\\nnumerator2 = (2 * k2) / (n2 ** 2 * (k2 - 1))\";\n",
       "                var nbb_cells = Jupyter.notebook.get_cells();\n",
       "                for (var i = 0; i < nbb_cells.length; ++i) {\n",
       "                    if (nbb_cells[i].input_prompt_number == nbb_cell_id) {\n",
       "                        if (nbb_cells[i].get_text() == nbb_unformatted_code) {\n",
       "                             nbb_cells[i].set_text(nbb_formatted_code);\n",
       "                        }\n",
       "                        break;\n",
       "                    }\n",
       "                }\n",
       "            }, 500);\n",
       "            "
      ],
      "text/plain": [
       "<IPython.core.display.Javascript object>"
      ]
     },
     "metadata": {},
     "output_type": "display_data"
    }
   ],
   "source": [
    "# the coefficient of qualitative variation\n",
    "n2 = 3477\n",
    "k2 = 617\n",
    "numerator2 = (2 * k2) / (n2 ** 2 * (k2 - 1))"
   ]
  },
  {
   "cell_type": "code",
   "execution_count": 99,
   "id": "2c28b8bc",
   "metadata": {},
   "outputs": [
    {
     "data": {
      "application/javascript": [
       "\n",
       "            setTimeout(function() {\n",
       "                var nbb_cell_id = 99;\n",
       "                var nbb_unformatted_code = \"city_list2 = list(np.array(df_city_[\\\"city\\\"].value_counts()))\\nreverse_list2 = city_list2[::-1]\\ndenominator2 = np.dot(city_list2[:616][::-1], list(np.cumsum(reverse_list2))[:616])\";\n",
       "                var nbb_formatted_code = \"city_list2 = list(np.array(df_city_[\\\"city\\\"].value_counts()))\\nreverse_list2 = city_list2[::-1]\\ndenominator2 = np.dot(city_list2[:616][::-1], list(np.cumsum(reverse_list2))[:616])\";\n",
       "                var nbb_cells = Jupyter.notebook.get_cells();\n",
       "                for (var i = 0; i < nbb_cells.length; ++i) {\n",
       "                    if (nbb_cells[i].input_prompt_number == nbb_cell_id) {\n",
       "                        if (nbb_cells[i].get_text() == nbb_unformatted_code) {\n",
       "                             nbb_cells[i].set_text(nbb_formatted_code);\n",
       "                        }\n",
       "                        break;\n",
       "                    }\n",
       "                }\n",
       "            }, 500);\n",
       "            "
      ],
      "text/plain": [
       "<IPython.core.display.Javascript object>"
      ]
     },
     "metadata": {},
     "output_type": "display_data"
    }
   ],
   "source": [
    "city_list2 = list(np.array(df_city_[\"city\"].value_counts()))\n",
    "reverse_list2 = city_list2[::-1]\n",
    "denominator2 = np.dot(city_list2[:616][::-1], list(np.cumsum(reverse_list2))[:616])"
   ]
  },
  {
   "cell_type": "code",
   "execution_count": 100,
   "id": "8f9aa36b",
   "metadata": {},
   "outputs": [
    {
     "data": {
      "text/plain": [
       "0.8425117485993431"
      ]
     },
     "execution_count": 100,
     "metadata": {},
     "output_type": "execute_result"
    },
    {
     "data": {
      "application/javascript": [
       "\n",
       "            setTimeout(function() {\n",
       "                var nbb_cell_id = 100;\n",
       "                var nbb_unformatted_code = \"numerator2 * denominator2\";\n",
       "                var nbb_formatted_code = \"numerator2 * denominator2\";\n",
       "                var nbb_cells = Jupyter.notebook.get_cells();\n",
       "                for (var i = 0; i < nbb_cells.length; ++i) {\n",
       "                    if (nbb_cells[i].input_prompt_number == nbb_cell_id) {\n",
       "                        if (nbb_cells[i].get_text() == nbb_unformatted_code) {\n",
       "                             nbb_cells[i].set_text(nbb_formatted_code);\n",
       "                        }\n",
       "                        break;\n",
       "                    }\n",
       "                }\n",
       "            }, 500);\n",
       "            "
      ],
      "text/plain": [
       "<IPython.core.display.Javascript object>"
      ]
     },
     "metadata": {},
     "output_type": "display_data"
    }
   ],
   "source": [
    "numerator2 * denominator2"
   ]
  },
  {
   "cell_type": "markdown",
   "id": "070d6a78",
   "metadata": {},
   "source": [
    "So, the coefficient of qualitative variation is 0.84. Thus, since the coefficient of qualitative variation is close enough to 1, it means that from the point of view of gender distribution, the data became even more heterogeneous after the omissions were removed."
   ]
  },
  {
   "cell_type": "markdown",
   "id": "a8b8454b",
   "metadata": {},
   "source": [
    "## Identify the most popular terms used in the discussion of the topic of kicksharing"
   ]
  },
  {
   "cell_type": "code",
   "execution_count": 83,
   "id": "b7d55975",
   "metadata": {
    "scrolled": true
   },
   "outputs": [
    {
     "data": {
      "application/javascript": [
       "\n",
       "            setTimeout(function() {\n",
       "                var nbb_cell_id = 83;\n",
       "                var nbb_unformatted_code = \"threads = threads.dropna(subset=\\\"text\\\")\\n\\ndef comment_without_id(x):\\n    try:\\n        return x.split(\\\"],\\\")[1]\\n    except:\\n        return x.split(\\\"],\\\")[0]\\n\\nthreads.text = threads.text.apply(lambda x: comment_without_id(x))\\n\\nthreads = threads.dropna(subset=\\\"text\\\")\\nthreads = threads[threads.text != \\\"\\\"]\\n\\nall_comments = pd.concat([comments, threads]).dropna(subset=\\\"text\\\")\\nall_comments.text = all_comments.text.apply(lambda x: x.lower()).apply(\\n    lambda x: re.sub(r\\\"\\\\d+\\\", \\\"\\\", x)\\n)\\nall_comments = all_comments.reset_index(drop=True)\\nall_comments[\\\"text_for_sentiment\\\"] = (\\n    all_comments.text.apply(\\n        lambda x: x.translate(str.maketrans(\\\"\\\", \\\"\\\", string.punctuation))\\n    )\\n    .apply(lambda x: x.strip().replace(\\\"\\\\r\\\\n\\\", \\\"\\\\n\\\").replace(\\\"\\\\r\\\", \\\"\\\\n\\\"))\\n    .apply(lambda x: re.sub(r\\\"\\\\n\\\", \\\"\\\", x))\\n)\\n\\nmystem = Mystem()\\nrussian_stopwords = stopwords.words(\\\"russian\\\") + [\\n    \\\"\\u044d\\u0442\\u043e\\\",\\n    \\\"\\u0445\\u043e\\u0442\\u0435\\u0442\\u044c\\\",\\n    \\\"\\u0434\\u0435\\u043b\\u0430\\u0442\\u044c\\\",\\n    \\\"\\u043d\\u0430\\u0447\\u0438\\u043d\\u0430\\u0442\\u044c\\\",\\n    \\\"\\u0445\\u043e\\u0442\\u0435\\u0442\\u044c\\u0441\\u044f\\\",\\n    \\\"\\u043c\\u043e\\u0447\\u044c\\\",\\n    \\\"\\u043a\\u043e\\u0442\\u043e\\u0440\\u044b\\u0439\\\",\\n    \\\"\\u0432\\u0435\\u0441\\u044c\\\",\\n    \\\"\\u0441\\u0432\\u043e\\u0439\\\",\\n]\\n\\n\\ndef preprocess_text(text):\\n    tokens = mystem.lemmatize(text.lower())\\n    tokens = [\\n        token\\n        for token in tokens\\n        if token not in russian_stopwords\\n        and token != \\\" \\\"\\n        and token.strip() not in punctuation\\n        and token not in russian_stopwords\\n    ]\\n\\n    text = \\\" \\\".join(tokens)\\n\\n    return text\\n\\n\\ndef remove_emoji(string):\\n    emoji_pattern = re.compile(\\n        \\\"[\\\"\\n        u\\\"\\\\U0001F600-\\\\U0001F64F\\\"  # emoticons\\n        u\\\"\\\\U0001F300-\\\\U0001F5FF\\\"  # symbols & pictographs\\n        u\\\"\\\\U0001F680-\\\\U0001F6FF\\\"  # transport & map symbols\\n        u\\\"\\\\U0001F1E0-\\\\U0001F1FF\\\"  # flags (iOS)\\n        u\\\"\\\\U00002500-\\\\U00002BEF\\\"  # chinese char\\n        u\\\"\\\\U00002702-\\\\U000027B0\\\"\\n        u\\\"\\\\U00002702-\\\\U000027B0\\\"\\n        u\\\"\\\\U000024C2-\\\\U0001F251\\\"\\n        u\\\"\\\\U0001f926-\\\\U0001f937\\\"\\n        u\\\"\\\\U00010000-\\\\U0010ffff\\\"\\n        u\\\"\\\\u2640-\\\\u2642\\\"\\n        u\\\"\\\\u2600-\\\\u2B55\\\"\\n        u\\\"\\\\u200d\\\"\\n        u\\\"\\\\u23cf\\\"\\n        u\\\"\\\\u23e9\\\"\\n        u\\\"\\\\u231a\\\"\\n        u\\\"\\\\ufe0f\\\"  # dingbats\\n        u\\\"\\\\u3030\\\"\\n        \\\"]+\\\",\\n        flags=re.UNICODE,\\n    )\\n    return emoji_pattern.sub(r\\\"\\\", string)\\n\\n\\nall_comments.text = all_comments.text.apply(lambda x: preprocess_text(remove_emoji(x)))\\nall_comments = (\\n    all_comments[all_comments.text != \\\"\\\"].dropna(subset=\\\"text\\\").reset_index(drop=True)\\n)\\nall_comments[\\\"text\\\"] = all_comments[\\\"text\\\"].apply(lambda x: str(x))\\nclean = all_comments[\\\"text\\\"].values\";\n",
       "                var nbb_formatted_code = \"threads = threads.dropna(subset=\\\"text\\\")\\n\\n\\ndef comment_without_id(x):\\n    try:\\n        return x.split(\\\"],\\\")[1]\\n    except:\\n        return x.split(\\\"],\\\")[0]\\n\\n\\nthreads.text = threads.text.apply(lambda x: comment_without_id(x))\\n\\nthreads = threads.dropna(subset=\\\"text\\\")\\nthreads = threads[threads.text != \\\"\\\"]\\n\\nall_comments = pd.concat([comments, threads]).dropna(subset=\\\"text\\\")\\nall_comments.text = all_comments.text.apply(lambda x: x.lower()).apply(\\n    lambda x: re.sub(r\\\"\\\\d+\\\", \\\"\\\", x)\\n)\\nall_comments = all_comments.reset_index(drop=True)\\nall_comments[\\\"text_for_sentiment\\\"] = (\\n    all_comments.text.apply(\\n        lambda x: x.translate(str.maketrans(\\\"\\\", \\\"\\\", string.punctuation))\\n    )\\n    .apply(lambda x: x.strip().replace(\\\"\\\\r\\\\n\\\", \\\"\\\\n\\\").replace(\\\"\\\\r\\\", \\\"\\\\n\\\"))\\n    .apply(lambda x: re.sub(r\\\"\\\\n\\\", \\\"\\\", x))\\n)\\n\\nmystem = Mystem()\\nrussian_stopwords = stopwords.words(\\\"russian\\\") + [\\n    \\\"\\u044d\\u0442\\u043e\\\",\\n    \\\"\\u0445\\u043e\\u0442\\u0435\\u0442\\u044c\\\",\\n    \\\"\\u0434\\u0435\\u043b\\u0430\\u0442\\u044c\\\",\\n    \\\"\\u043d\\u0430\\u0447\\u0438\\u043d\\u0430\\u0442\\u044c\\\",\\n    \\\"\\u0445\\u043e\\u0442\\u0435\\u0442\\u044c\\u0441\\u044f\\\",\\n    \\\"\\u043c\\u043e\\u0447\\u044c\\\",\\n    \\\"\\u043a\\u043e\\u0442\\u043e\\u0440\\u044b\\u0439\\\",\\n    \\\"\\u0432\\u0435\\u0441\\u044c\\\",\\n    \\\"\\u0441\\u0432\\u043e\\u0439\\\",\\n]\\n\\n\\ndef preprocess_text(text):\\n    tokens = mystem.lemmatize(text.lower())\\n    tokens = [\\n        token\\n        for token in tokens\\n        if token not in russian_stopwords\\n        and token != \\\" \\\"\\n        and token.strip() not in punctuation\\n        and token not in russian_stopwords\\n    ]\\n\\n    text = \\\" \\\".join(tokens)\\n\\n    return text\\n\\n\\ndef remove_emoji(string):\\n    emoji_pattern = re.compile(\\n        \\\"[\\\"\\n        u\\\"\\\\U0001F600-\\\\U0001F64F\\\"  # emoticons\\n        u\\\"\\\\U0001F300-\\\\U0001F5FF\\\"  # symbols & pictographs\\n        u\\\"\\\\U0001F680-\\\\U0001F6FF\\\"  # transport & map symbols\\n        u\\\"\\\\U0001F1E0-\\\\U0001F1FF\\\"  # flags (iOS)\\n        u\\\"\\\\U00002500-\\\\U00002BEF\\\"  # chinese char\\n        u\\\"\\\\U00002702-\\\\U000027B0\\\"\\n        u\\\"\\\\U00002702-\\\\U000027B0\\\"\\n        u\\\"\\\\U000024C2-\\\\U0001F251\\\"\\n        u\\\"\\\\U0001f926-\\\\U0001f937\\\"\\n        u\\\"\\\\U00010000-\\\\U0010ffff\\\"\\n        u\\\"\\\\u2640-\\\\u2642\\\"\\n        u\\\"\\\\u2600-\\\\u2B55\\\"\\n        u\\\"\\\\u200d\\\"\\n        u\\\"\\\\u23cf\\\"\\n        u\\\"\\\\u23e9\\\"\\n        u\\\"\\\\u231a\\\"\\n        u\\\"\\\\ufe0f\\\"  # dingbats\\n        u\\\"\\\\u3030\\\"\\n        \\\"]+\\\",\\n        flags=re.UNICODE,\\n    )\\n    return emoji_pattern.sub(r\\\"\\\", string)\\n\\n\\nall_comments.text = all_comments.text.apply(lambda x: preprocess_text(remove_emoji(x)))\\nall_comments = (\\n    all_comments[all_comments.text != \\\"\\\"].dropna(subset=\\\"text\\\").reset_index(drop=True)\\n)\\nall_comments[\\\"text\\\"] = all_comments[\\\"text\\\"].apply(lambda x: str(x))\\nclean = all_comments[\\\"text\\\"].values\";\n",
       "                var nbb_cells = Jupyter.notebook.get_cells();\n",
       "                for (var i = 0; i < nbb_cells.length; ++i) {\n",
       "                    if (nbb_cells[i].input_prompt_number == nbb_cell_id) {\n",
       "                        if (nbb_cells[i].get_text() == nbb_unformatted_code) {\n",
       "                             nbb_cells[i].set_text(nbb_formatted_code);\n",
       "                        }\n",
       "                        break;\n",
       "                    }\n",
       "                }\n",
       "            }, 500);\n",
       "            "
      ],
      "text/plain": [
       "<IPython.core.display.Javascript object>"
      ]
     },
     "metadata": {},
     "output_type": "display_data"
    }
   ],
   "source": [
    "threads = threads.dropna(subset=\"text\")\n",
    "\n",
    "\n",
    "def comment_without_id(x):\n",
    "    try:\n",
    "        return x.split(\"],\")[1]\n",
    "    except:\n",
    "        return x.split(\"],\")[0]\n",
    "\n",
    "\n",
    "threads.text = threads.text.apply(lambda x: comment_without_id(x))\n",
    "\n",
    "threads = threads.dropna(subset=\"text\")\n",
    "threads = threads[threads.text != \"\"]\n",
    "\n",
    "all_comments = pd.concat([comments, threads]).dropna(subset=\"text\")\n",
    "all_comments.text = all_comments.text.apply(lambda x: x.lower()).apply(\n",
    "    lambda x: re.sub(r\"\\d+\", \"\", x)\n",
    ")\n",
    "all_comments = all_comments.reset_index(drop=True)\n",
    "all_comments[\"text_for_sentiment\"] = (\n",
    "    all_comments.text.apply(\n",
    "        lambda x: x.translate(str.maketrans(\"\", \"\", string.punctuation))\n",
    "    )\n",
    "    .apply(lambda x: x.strip().replace(\"\\r\\n\", \"\\n\").replace(\"\\r\", \"\\n\"))\n",
    "    .apply(lambda x: re.sub(r\"\\n\", \"\", x))\n",
    ")\n",
    "\n",
    "mystem = Mystem()\n",
    "russian_stopwords = stopwords.words(\"russian\") + [\n",
    "    \"это\",\n",
    "    \"хотеть\",\n",
    "    \"делать\",\n",
    "    \"начинать\",\n",
    "    \"хотеться\",\n",
    "    \"мочь\",\n",
    "    \"который\",\n",
    "    \"весь\",\n",
    "    \"свой\",\n",
    "]\n",
    "\n",
    "\n",
    "def preprocess_text(text):\n",
    "    tokens = mystem.lemmatize(text.lower())\n",
    "    tokens = [\n",
    "        token\n",
    "        for token in tokens\n",
    "        if token not in russian_stopwords\n",
    "        and token != \" \"\n",
    "        and token.strip() not in punctuation\n",
    "        and token not in russian_stopwords\n",
    "    ]\n",
    "\n",
    "    text = \" \".join(tokens)\n",
    "\n",
    "    return text\n",
    "\n",
    "\n",
    "def remove_emoji(string):\n",
    "    emoji_pattern = re.compile(\n",
    "        \"[\"\n",
    "        u\"\\U0001F600-\\U0001F64F\"  # emoticons\n",
    "        u\"\\U0001F300-\\U0001F5FF\"  # symbols & pictographs\n",
    "        u\"\\U0001F680-\\U0001F6FF\"  # transport & map symbols\n",
    "        u\"\\U0001F1E0-\\U0001F1FF\"  # flags (iOS)\n",
    "        u\"\\U00002500-\\U00002BEF\"  # chinese char\n",
    "        u\"\\U00002702-\\U000027B0\"\n",
    "        u\"\\U00002702-\\U000027B0\"\n",
    "        u\"\\U000024C2-\\U0001F251\"\n",
    "        u\"\\U0001f926-\\U0001f937\"\n",
    "        u\"\\U00010000-\\U0010ffff\"\n",
    "        u\"\\u2640-\\u2642\"\n",
    "        u\"\\u2600-\\u2B55\"\n",
    "        u\"\\u200d\"\n",
    "        u\"\\u23cf\"\n",
    "        u\"\\u23e9\"\n",
    "        u\"\\u231a\"\n",
    "        u\"\\ufe0f\"  # dingbats\n",
    "        u\"\\u3030\"\n",
    "        \"]+\",\n",
    "        flags=re.UNICODE,\n",
    "    )\n",
    "    return emoji_pattern.sub(r\"\", string)\n",
    "\n",
    "\n",
    "all_comments.text = all_comments.text.apply(lambda x: preprocess_text(remove_emoji(x)))\n",
    "all_comments = (\n",
    "    all_comments[all_comments.text != \"\"].dropna(subset=\"text\").reset_index(drop=True)\n",
    ")\n",
    "all_comments[\"text\"] = all_comments[\"text\"].apply(lambda x: str(x))\n",
    "clean = all_comments[\"text\"].values"
   ]
  },
  {
   "cell_type": "code",
   "execution_count": 84,
   "id": "73e53403",
   "metadata": {},
   "outputs": [
    {
     "data": {
      "application/javascript": [
       "\n",
       "            setTimeout(function() {\n",
       "                var nbb_cell_id = 84;\n",
       "                var nbb_unformatted_code = \"np.savetxt(\\\"text.txt\\\", all_comments[\\\"text\\\"].values, delimiter=\\\" \\\", fmt=\\\"%s\\\")\\n\\nwith open(\\\"clean_data.txt\\\", \\\"w\\\") as output:\\n    output.write(str(clean)[2:-2])\\n\\nwith open(\\\"text.txt\\\", \\\"r\\\", encoding=\\\"utf-8\\\") as f:\\n    stop_words = f.read().split()\\n\\nwith open(\\\"text.txt\\\", \\\"r\\\", encoding=\\\"utf-8\\\") as f:\\n    words = f.read().split()\";\n",
       "                var nbb_formatted_code = \"np.savetxt(\\\"text.txt\\\", all_comments[\\\"text\\\"].values, delimiter=\\\" \\\", fmt=\\\"%s\\\")\\n\\nwith open(\\\"clean_data.txt\\\", \\\"w\\\") as output:\\n    output.write(str(clean)[2:-2])\\n\\nwith open(\\\"text.txt\\\", \\\"r\\\", encoding=\\\"utf-8\\\") as f:\\n    stop_words = f.read().split()\\n\\nwith open(\\\"text.txt\\\", \\\"r\\\", encoding=\\\"utf-8\\\") as f:\\n    words = f.read().split()\";\n",
       "                var nbb_cells = Jupyter.notebook.get_cells();\n",
       "                for (var i = 0; i < nbb_cells.length; ++i) {\n",
       "                    if (nbb_cells[i].input_prompt_number == nbb_cell_id) {\n",
       "                        if (nbb_cells[i].get_text() == nbb_unformatted_code) {\n",
       "                             nbb_cells[i].set_text(nbb_formatted_code);\n",
       "                        }\n",
       "                        break;\n",
       "                    }\n",
       "                }\n",
       "            }, 500);\n",
       "            "
      ],
      "text/plain": [
       "<IPython.core.display.Javascript object>"
      ]
     },
     "metadata": {},
     "output_type": "display_data"
    }
   ],
   "source": [
    "np.savetxt(\"text.txt\", all_comments[\"text\"].values, delimiter=\" \", fmt=\"%s\")\n",
    "\n",
    "with open(\"clean_data.txt\", \"w\") as output:\n",
    "    output.write(str(clean)[2:-2])\n",
    "\n",
    "with open(\"text.txt\", \"r\", encoding=\"utf-8\") as f:\n",
    "    stop_words = f.read().split()\n",
    "\n",
    "with open(\"text.txt\", \"r\", encoding=\"utf-8\") as f:\n",
    "    words = f.read().split()"
   ]
  },
  {
   "cell_type": "code",
   "execution_count": 85,
   "id": "df912fb8",
   "metadata": {},
   "outputs": [
    {
     "data": {
      "application/javascript": [
       "\n",
       "            setTimeout(function() {\n",
       "                var nbb_cell_id = 85;\n",
       "                var nbb_unformatted_code = \"words = [word.replace(\\\"'\\\", \\\"\\\") for word in words]\\nwords = list(filter(lambda x: x != \\\"\\u00bb\\\", words))\\nwords = list(filter(lambda x: x != \\\"\\u00ab\\\", words))\\ndata = Counter(words)\";\n",
       "                var nbb_formatted_code = \"words = [word.replace(\\\"'\\\", \\\"\\\") for word in words]\\nwords = list(filter(lambda x: x != \\\"\\u00bb\\\", words))\\nwords = list(filter(lambda x: x != \\\"\\u00ab\\\", words))\\ndata = Counter(words)\";\n",
       "                var nbb_cells = Jupyter.notebook.get_cells();\n",
       "                for (var i = 0; i < nbb_cells.length; ++i) {\n",
       "                    if (nbb_cells[i].input_prompt_number == nbb_cell_id) {\n",
       "                        if (nbb_cells[i].get_text() == nbb_unformatted_code) {\n",
       "                             nbb_cells[i].set_text(nbb_formatted_code);\n",
       "                        }\n",
       "                        break;\n",
       "                    }\n",
       "                }\n",
       "            }, 500);\n",
       "            "
      ],
      "text/plain": [
       "<IPython.core.display.Javascript object>"
      ]
     },
     "metadata": {},
     "output_type": "display_data"
    }
   ],
   "source": [
    "words = [word.replace(\"'\", \"\") for word in words]\n",
    "words = list(filter(lambda x: x != \"»\", words))\n",
    "words = list(filter(lambda x: x != \"«\", words))\n",
    "data = Counter(words)"
   ]
  },
  {
   "cell_type": "code",
   "execution_count": 86,
   "id": "d53cddd3",
   "metadata": {},
   "outputs": [
    {
     "data": {
      "text/plain": [
       "<wordcloud.wordcloud.WordCloud at 0x7fc03594abe0>"
      ]
     },
     "execution_count": 86,
     "metadata": {},
     "output_type": "execute_result"
    },
    {
     "data": {
      "application/javascript": [
       "\n",
       "            setTimeout(function() {\n",
       "                var nbb_cell_id = 86;\n",
       "                var nbb_unformatted_code = \"background_color = \\\"#101010\\\"\\nheight = 720\\nwidth = 1080\\n\\nword_cloud = WordCloud(background_color=background_color, width=width, height=height)\\n\\nword_cloud.generate_from_frequencies(data)\\n\\nword_cloud.to_file(\\\"image_11.png\\\")\";\n",
       "                var nbb_formatted_code = \"background_color = \\\"#101010\\\"\\nheight = 720\\nwidth = 1080\\n\\nword_cloud = WordCloud(background_color=background_color, width=width, height=height)\\n\\nword_cloud.generate_from_frequencies(data)\\n\\nword_cloud.to_file(\\\"image_11.png\\\")\";\n",
       "                var nbb_cells = Jupyter.notebook.get_cells();\n",
       "                for (var i = 0; i < nbb_cells.length; ++i) {\n",
       "                    if (nbb_cells[i].input_prompt_number == nbb_cell_id) {\n",
       "                        if (nbb_cells[i].get_text() == nbb_unformatted_code) {\n",
       "                             nbb_cells[i].set_text(nbb_formatted_code);\n",
       "                        }\n",
       "                        break;\n",
       "                    }\n",
       "                }\n",
       "            }, 500);\n",
       "            "
      ],
      "text/plain": [
       "<IPython.core.display.Javascript object>"
      ]
     },
     "metadata": {},
     "output_type": "display_data"
    }
   ],
   "source": [
    "background_color = \"#101010\"\n",
    "height = 720\n",
    "width = 1080\n",
    "\n",
    "word_cloud = WordCloud(background_color=background_color, width=width, height=height)\n",
    "\n",
    "word_cloud.generate_from_frequencies(data)\n",
    "\n",
    "word_cloud.to_file(\"image_11.png\")"
   ]
  },
  {
   "cell_type": "code",
   "execution_count": 87,
   "id": "0f8640c0",
   "metadata": {
    "scrolled": true
   },
   "outputs": [
    {
     "data": {
      "application/javascript": [
       "\n",
       "            setTimeout(function() {\n",
       "                var nbb_cell_id = 87;\n",
       "                var nbb_unformatted_code = \"all_comments.to_csv(\\\"data_before_.csv\\\", index=False)\";\n",
       "                var nbb_formatted_code = \"all_comments.to_csv(\\\"data_before_.csv\\\", index=False)\";\n",
       "                var nbb_cells = Jupyter.notebook.get_cells();\n",
       "                for (var i = 0; i < nbb_cells.length; ++i) {\n",
       "                    if (nbb_cells[i].input_prompt_number == nbb_cell_id) {\n",
       "                        if (nbb_cells[i].get_text() == nbb_unformatted_code) {\n",
       "                             nbb_cells[i].set_text(nbb_formatted_code);\n",
       "                        }\n",
       "                        break;\n",
       "                    }\n",
       "                }\n",
       "            }, 500);\n",
       "            "
      ],
      "text/plain": [
       "<IPython.core.display.Javascript object>"
      ]
     },
     "metadata": {},
     "output_type": "display_data"
    }
   ],
   "source": [
    "all_comments.to_csv(\"data_before_.csv\", index=False)"
   ]
  },
  {
   "cell_type": "markdown",
   "id": "d2dc1e93",
   "metadata": {},
   "source": [
    "## To determine the sentiment of messages about the kicksharing"
   ]
  },
  {
   "cell_type": "code",
   "execution_count": 88,
   "id": "5355ea72",
   "metadata": {},
   "outputs": [
    {
     "data": {
      "text/plain": [
       "(9722, 21)"
      ]
     },
     "execution_count": 88,
     "metadata": {},
     "output_type": "execute_result"
    },
    {
     "data": {
      "application/javascript": [
       "\n",
       "            setTimeout(function() {\n",
       "                var nbb_cell_id = 88;\n",
       "                var nbb_unformatted_code = \"data = pd.read_csv(\\\"data_before_.csv\\\")\\ndata.shape\";\n",
       "                var nbb_formatted_code = \"data = pd.read_csv(\\\"data_before_.csv\\\")\\ndata.shape\";\n",
       "                var nbb_cells = Jupyter.notebook.get_cells();\n",
       "                for (var i = 0; i < nbb_cells.length; ++i) {\n",
       "                    if (nbb_cells[i].input_prompt_number == nbb_cell_id) {\n",
       "                        if (nbb_cells[i].get_text() == nbb_unformatted_code) {\n",
       "                             nbb_cells[i].set_text(nbb_formatted_code);\n",
       "                        }\n",
       "                        break;\n",
       "                    }\n",
       "                }\n",
       "            }, 500);\n",
       "            "
      ],
      "text/plain": [
       "<IPython.core.display.Javascript object>"
      ]
     },
     "metadata": {},
     "output_type": "display_data"
    }
   ],
   "source": [
    "data = pd.read_csv(\"data_before_.csv\")\n",
    "data.shape"
   ]
  },
  {
   "cell_type": "code",
   "execution_count": 89,
   "id": "d378da64",
   "metadata": {},
   "outputs": [
    {
     "data": {
      "application/javascript": [
       "\n",
       "            setTimeout(function() {\n",
       "                var nbb_cell_id = 89;\n",
       "                var nbb_unformatted_code = \"# model_checkpoint = \\\"blanchefort/rubert-base-cased-sentiment\\\"\\n# classifier = pipeline(\\\"sentiment-analysis\\\", model=model_checkpoint)\";\n",
       "                var nbb_formatted_code = \"# model_checkpoint = \\\"blanchefort/rubert-base-cased-sentiment\\\"\\n# classifier = pipeline(\\\"sentiment-analysis\\\", model=model_checkpoint)\";\n",
       "                var nbb_cells = Jupyter.notebook.get_cells();\n",
       "                for (var i = 0; i < nbb_cells.length; ++i) {\n",
       "                    if (nbb_cells[i].input_prompt_number == nbb_cell_id) {\n",
       "                        if (nbb_cells[i].get_text() == nbb_unformatted_code) {\n",
       "                             nbb_cells[i].set_text(nbb_formatted_code);\n",
       "                        }\n",
       "                        break;\n",
       "                    }\n",
       "                }\n",
       "            }, 500);\n",
       "            "
      ],
      "text/plain": [
       "<IPython.core.display.Javascript object>"
      ]
     },
     "metadata": {},
     "output_type": "display_data"
    }
   ],
   "source": [
    "model_checkpoint = \"blanchefort/rubert-base-cased-sentiment\"\n",
    "classifier = pipeline(\"sentiment-analysis\", model=model_checkpoint)"
   ]
  },
  {
   "cell_type": "code",
   "execution_count": 90,
   "id": "6c72aadd",
   "metadata": {},
   "outputs": [
    {
     "data": {
      "text/plain": [
       "(9629, 21)"
      ]
     },
     "execution_count": 90,
     "metadata": {},
     "output_type": "execute_result"
    },
    {
     "data": {
      "application/javascript": [
       "\n",
       "            setTimeout(function() {\n",
       "                var nbb_cell_id = 90;\n",
       "                var nbb_unformatted_code = \"data = data[data.text_for_sentiment.apply(lambda x: len(str(x))) < 512]\\ndata.shape\";\n",
       "                var nbb_formatted_code = \"data = data[data.text_for_sentiment.apply(lambda x: len(str(x))) < 512]\\ndata.shape\";\n",
       "                var nbb_cells = Jupyter.notebook.get_cells();\n",
       "                for (var i = 0; i < nbb_cells.length; ++i) {\n",
       "                    if (nbb_cells[i].input_prompt_number == nbb_cell_id) {\n",
       "                        if (nbb_cells[i].get_text() == nbb_unformatted_code) {\n",
       "                             nbb_cells[i].set_text(nbb_formatted_code);\n",
       "                        }\n",
       "                        break;\n",
       "                    }\n",
       "                }\n",
       "            }, 500);\n",
       "            "
      ],
      "text/plain": [
       "<IPython.core.display.Javascript object>"
      ]
     },
     "metadata": {},
     "output_type": "display_data"
    }
   ],
   "source": [
    "data = data[data.text_for_sentiment.apply(lambda x: len(str(x))) < 512]\n",
    "data.shape"
   ]
  },
  {
   "cell_type": "code",
   "execution_count": 64,
   "id": "405bcdd7",
   "metadata": {},
   "outputs": [
    {
     "data": {
      "application/javascript": [
       "\n",
       "            setTimeout(function() {\n",
       "                var nbb_cell_id = 64;\n",
       "                var nbb_unformatted_code = \"# data['sentiment_analysis_value'] = data['text_for_sentiment'].apply(lambda x: classifier(x)[0]['label'])\\n# data['sentiment_analysis_score'] = data['text_for_sentiment'].apply(lambda x: classifier(x)[0]['score'])\\n# data.to_csv('data_with_sentiment.csv', index=False)\";\n",
       "                var nbb_formatted_code = \"# data['sentiment_analysis_value'] = data['text_for_sentiment'].apply(lambda x: classifier(x)[0]['label'])\\n# data['sentiment_analysis_score'] = data['text_for_sentiment'].apply(lambda x: classifier(x)[0]['score'])\\n# data.to_csv('data_with_sentiment.csv', index=False)\";\n",
       "                var nbb_cells = Jupyter.notebook.get_cells();\n",
       "                for (var i = 0; i < nbb_cells.length; ++i) {\n",
       "                    if (nbb_cells[i].input_prompt_number == nbb_cell_id) {\n",
       "                        if (nbb_cells[i].get_text() == nbb_unformatted_code) {\n",
       "                             nbb_cells[i].set_text(nbb_formatted_code);\n",
       "                        }\n",
       "                        break;\n",
       "                    }\n",
       "                }\n",
       "            }, 500);\n",
       "            "
      ],
      "text/plain": [
       "<IPython.core.display.Javascript object>"
      ]
     },
     "metadata": {},
     "output_type": "display_data"
    }
   ],
   "source": [
    "data['sentiment_analysis_value'] = data['text_for_sentiment'].apply(lambda x: classifier(x)[0]['label'])\n",
    "data['sentiment_analysis_score'] = data['text_for_sentiment'].apply(lambda x: classifier(x)[0]['score'])\n",
    "data.to_csv('data_with_sentiment.csv', index=False)"
   ]
  },
  {
   "cell_type": "code",
   "execution_count": 91,
   "id": "20c99dcf",
   "metadata": {},
   "outputs": [
    {
     "name": "stdout",
     "output_type": "stream",
     "text": [
      "NEUTRAL     4503\n",
      "NEGATIVE    4166\n",
      "POSITIVE     950\n",
      "Name: sentiment_analysis_value, dtype: int64\n"
     ]
    },
    {
     "data": {
      "application/javascript": [
       "\n",
       "            setTimeout(function() {\n",
       "                var nbb_cell_id = 91;\n",
       "                var nbb_unformatted_code = \"data = pd.read_csv(\\\"data_with_sentiment.csv\\\")\\nprint(data.sentiment_analysis_value.value_counts())\";\n",
       "                var nbb_formatted_code = \"data = pd.read_csv(\\\"data_with_sentiment.csv\\\")\\nprint(data.sentiment_analysis_value.value_counts())\";\n",
       "                var nbb_cells = Jupyter.notebook.get_cells();\n",
       "                for (var i = 0; i < nbb_cells.length; ++i) {\n",
       "                    if (nbb_cells[i].input_prompt_number == nbb_cell_id) {\n",
       "                        if (nbb_cells[i].get_text() == nbb_unformatted_code) {\n",
       "                             nbb_cells[i].set_text(nbb_formatted_code);\n",
       "                        }\n",
       "                        break;\n",
       "                    }\n",
       "                }\n",
       "            }, 500);\n",
       "            "
      ],
      "text/plain": [
       "<IPython.core.display.Javascript object>"
      ]
     },
     "metadata": {},
     "output_type": "display_data"
    }
   ],
   "source": [
    "data = pd.read_csv(\"data_with_sentiment.csv\")\n",
    "print(data.sentiment_analysis_value.value_counts())"
   ]
  },
  {
   "cell_type": "markdown",
   "id": "5edea679",
   "metadata": {},
   "source": [
    "## To identify whether the sentiment of the messages about the phenomenon depends on the tone of the news publication"
   ]
  },
  {
   "cell_type": "code",
   "execution_count": 92,
   "id": "278f0046",
   "metadata": {},
   "outputs": [
    {
     "data": {
      "application/javascript": [
       "\n",
       "            setTimeout(function() {\n",
       "                var nbb_cell_id = 92;\n",
       "                var nbb_unformatted_code = \"missing_posts = posts[posts.text.isna()]\\nmissing_posts = missing_posts.dropna(subset=\\\"copy_history\\\")\";\n",
       "                var nbb_formatted_code = \"missing_posts = posts[posts.text.isna()]\\nmissing_posts = missing_posts.dropna(subset=\\\"copy_history\\\")\";\n",
       "                var nbb_cells = Jupyter.notebook.get_cells();\n",
       "                for (var i = 0; i < nbb_cells.length; ++i) {\n",
       "                    if (nbb_cells[i].input_prompt_number == nbb_cell_id) {\n",
       "                        if (nbb_cells[i].get_text() == nbb_unformatted_code) {\n",
       "                             nbb_cells[i].set_text(nbb_formatted_code);\n",
       "                        }\n",
       "                        break;\n",
       "                    }\n",
       "                }\n",
       "            }, 500);\n",
       "            "
      ],
      "text/plain": [
       "<IPython.core.display.Javascript object>"
      ]
     },
     "metadata": {},
     "output_type": "display_data"
    }
   ],
   "source": [
    "missing_posts = posts[posts.text.isna()]\n",
    "missing_posts = missing_posts.dropna(subset=\"copy_history\")"
   ]
  },
  {
   "cell_type": "code",
   "execution_count": 93,
   "id": "353566f9",
   "metadata": {},
   "outputs": [
    {
     "data": {
      "application/javascript": [
       "\n",
       "            setTimeout(function() {\n",
       "                var nbb_cell_id = 93;\n",
       "                var nbb_unformatted_code = \"df_missing_posts = pd.DataFrame()\\nfor i in missing_posts[\\\"copy_history\\\"].index:\\n    miss_post = ast.literal_eval(missing_posts[\\\"copy_history\\\"][i])\\n    df_miss_post = pd.json_normalize(miss_post)\\n    df_missing_posts = pd.concat([df_miss_post, df_missing_posts])\";\n",
       "                var nbb_formatted_code = \"df_missing_posts = pd.DataFrame()\\nfor i in missing_posts[\\\"copy_history\\\"].index:\\n    miss_post = ast.literal_eval(missing_posts[\\\"copy_history\\\"][i])\\n    df_miss_post = pd.json_normalize(miss_post)\\n    df_missing_posts = pd.concat([df_miss_post, df_missing_posts])\";\n",
       "                var nbb_cells = Jupyter.notebook.get_cells();\n",
       "                for (var i = 0; i < nbb_cells.length; ++i) {\n",
       "                    if (nbb_cells[i].input_prompt_number == nbb_cell_id) {\n",
       "                        if (nbb_cells[i].get_text() == nbb_unformatted_code) {\n",
       "                             nbb_cells[i].set_text(nbb_formatted_code);\n",
       "                        }\n",
       "                        break;\n",
       "                    }\n",
       "                }\n",
       "            }, 500);\n",
       "            "
      ],
      "text/plain": [
       "<IPython.core.display.Javascript object>"
      ]
     },
     "metadata": {},
     "output_type": "display_data"
    }
   ],
   "source": [
    "df_missing_posts = pd.DataFrame()\n",
    "for i in missing_posts[\"copy_history\"].index:\n",
    "    miss_post = ast.literal_eval(missing_posts[\"copy_history\"][i])\n",
    "    df_miss_post = pd.json_normalize(miss_post)\n",
    "    df_missing_posts = pd.concat([df_miss_post, df_missing_posts])"
   ]
  },
  {
   "cell_type": "code",
   "execution_count": 94,
   "id": "c48c549d",
   "metadata": {},
   "outputs": [
    {
     "data": {
      "application/javascript": [
       "\n",
       "            setTimeout(function() {\n",
       "                var nbb_cell_id = 94;\n",
       "                var nbb_unformatted_code = \"df_missing_posts = df_missing_posts.set_index(missing_posts.index)\";\n",
       "                var nbb_formatted_code = \"df_missing_posts = df_missing_posts.set_index(missing_posts.index)\";\n",
       "                var nbb_cells = Jupyter.notebook.get_cells();\n",
       "                for (var i = 0; i < nbb_cells.length; ++i) {\n",
       "                    if (nbb_cells[i].input_prompt_number == nbb_cell_id) {\n",
       "                        if (nbb_cells[i].get_text() == nbb_unformatted_code) {\n",
       "                             nbb_cells[i].set_text(nbb_formatted_code);\n",
       "                        }\n",
       "                        break;\n",
       "                    }\n",
       "                }\n",
       "            }, 500);\n",
       "            "
      ],
      "text/plain": [
       "<IPython.core.display.Javascript object>"
      ]
     },
     "metadata": {},
     "output_type": "display_data"
    }
   ],
   "source": [
    "df_missing_posts = df_missing_posts.set_index(missing_posts.index)"
   ]
  },
  {
   "cell_type": "code",
   "execution_count": 95,
   "id": "0018b780",
   "metadata": {},
   "outputs": [
    {
     "data": {
      "application/javascript": [
       "\n",
       "            setTimeout(function() {\n",
       "                var nbb_cell_id = 95;\n",
       "                var nbb_unformatted_code = \"for i in missing_posts.index:\\n    posts.text[i] = df_missing_posts.text[i]\";\n",
       "                var nbb_formatted_code = \"for i in missing_posts.index:\\n    posts.text[i] = df_missing_posts.text[i]\";\n",
       "                var nbb_cells = Jupyter.notebook.get_cells();\n",
       "                for (var i = 0; i < nbb_cells.length; ++i) {\n",
       "                    if (nbb_cells[i].input_prompt_number == nbb_cell_id) {\n",
       "                        if (nbb_cells[i].get_text() == nbb_unformatted_code) {\n",
       "                             nbb_cells[i].set_text(nbb_formatted_code);\n",
       "                        }\n",
       "                        break;\n",
       "                    }\n",
       "                }\n",
       "            }, 500);\n",
       "            "
      ],
      "text/plain": [
       "<IPython.core.display.Javascript object>"
      ]
     },
     "metadata": {},
     "output_type": "display_data"
    }
   ],
   "source": [
    "for i in missing_posts.index:\n",
    "    posts.text[i] = df_missing_posts.text[i]"
   ]
  },
  {
   "cell_type": "code",
   "execution_count": 96,
   "id": "770750c4",
   "metadata": {},
   "outputs": [
    {
     "data": {
      "application/javascript": [
       "\n",
       "            setTimeout(function() {\n",
       "                var nbb_cell_id = 96;\n",
       "                var nbb_unformatted_code = \"posts = posts.dropna(subset=\\\"text\\\")\";\n",
       "                var nbb_formatted_code = \"posts = posts.dropna(subset=\\\"text\\\")\";\n",
       "                var nbb_cells = Jupyter.notebook.get_cells();\n",
       "                for (var i = 0; i < nbb_cells.length; ++i) {\n",
       "                    if (nbb_cells[i].input_prompt_number == nbb_cell_id) {\n",
       "                        if (nbb_cells[i].get_text() == nbb_unformatted_code) {\n",
       "                             nbb_cells[i].set_text(nbb_formatted_code);\n",
       "                        }\n",
       "                        break;\n",
       "                    }\n",
       "                }\n",
       "            }, 500);\n",
       "            "
      ],
      "text/plain": [
       "<IPython.core.display.Javascript object>"
      ]
     },
     "metadata": {},
     "output_type": "display_data"
    }
   ],
   "source": [
    "posts = posts.dropna(subset=\"text\")"
   ]
  },
  {
   "cell_type": "code",
   "execution_count": 97,
   "id": "d9529c7b",
   "metadata": {
    "scrolled": true
   },
   "outputs": [
    {
     "data": {
      "application/javascript": [
       "\n",
       "            setTimeout(function() {\n",
       "                var nbb_cell_id = 97;\n",
       "                var nbb_unformatted_code = \"posts = posts.reset_index(drop=True)\";\n",
       "                var nbb_formatted_code = \"posts = posts.reset_index(drop=True)\";\n",
       "                var nbb_cells = Jupyter.notebook.get_cells();\n",
       "                for (var i = 0; i < nbb_cells.length; ++i) {\n",
       "                    if (nbb_cells[i].input_prompt_number == nbb_cell_id) {\n",
       "                        if (nbb_cells[i].get_text() == nbb_unformatted_code) {\n",
       "                             nbb_cells[i].set_text(nbb_formatted_code);\n",
       "                        }\n",
       "                        break;\n",
       "                    }\n",
       "                }\n",
       "            }, 500);\n",
       "            "
      ],
      "text/plain": [
       "<IPython.core.display.Javascript object>"
      ]
     },
     "metadata": {},
     "output_type": "display_data"
    }
   ],
   "source": [
    "posts = posts.reset_index(drop=True)"
   ]
  },
  {
   "cell_type": "code",
   "execution_count": 98,
   "id": "75d52645",
   "metadata": {},
   "outputs": [
    {
     "data": {
      "application/javascript": [
       "\n",
       "            setTimeout(function() {\n",
       "                var nbb_cell_id = 98;\n",
       "                var nbb_unformatted_code = \"posts.text = posts.text.apply(lambda x: x.lower())\\nposts.text = posts.text.apply(lambda x: re.sub(r\\\"\\\\d+\\\", \\\"\\\", x))\\nposts = posts.reset_index(drop=True)\\nposts.text = posts.text.apply(\\n    lambda x: x.translate(str.maketrans(\\\"\\\", \\\"\\\", string.punctuation))\\n)\\nposts.text = posts.text.apply(\\n    lambda x: x.strip().replace(\\\"\\\\r\\\\n\\\", \\\"\\\\n\\\").replace(\\\"\\\\r\\\", \\\"\\\\n\\\")\\n)\\nposts.text = posts.text.apply(lambda x: re.sub(r\\\"\\\\n\\\", \\\"\\\", x))\\nposts.text = posts.text.apply(lambda x: re.sub(r\\\"\\\\n\\\", \\\"\\\", x))\\nposts[\\\"text_for_sentiment\\\"] = posts.text\";\n",
       "                var nbb_formatted_code = \"posts.text = posts.text.apply(lambda x: x.lower())\\nposts.text = posts.text.apply(lambda x: re.sub(r\\\"\\\\d+\\\", \\\"\\\", x))\\nposts = posts.reset_index(drop=True)\\nposts.text = posts.text.apply(\\n    lambda x: x.translate(str.maketrans(\\\"\\\", \\\"\\\", string.punctuation))\\n)\\nposts.text = posts.text.apply(\\n    lambda x: x.strip().replace(\\\"\\\\r\\\\n\\\", \\\"\\\\n\\\").replace(\\\"\\\\r\\\", \\\"\\\\n\\\")\\n)\\nposts.text = posts.text.apply(lambda x: re.sub(r\\\"\\\\n\\\", \\\"\\\", x))\\nposts.text = posts.text.apply(lambda x: re.sub(r\\\"\\\\n\\\", \\\"\\\", x))\\nposts[\\\"text_for_sentiment\\\"] = posts.text\";\n",
       "                var nbb_cells = Jupyter.notebook.get_cells();\n",
       "                for (var i = 0; i < nbb_cells.length; ++i) {\n",
       "                    if (nbb_cells[i].input_prompt_number == nbb_cell_id) {\n",
       "                        if (nbb_cells[i].get_text() == nbb_unformatted_code) {\n",
       "                             nbb_cells[i].set_text(nbb_formatted_code);\n",
       "                        }\n",
       "                        break;\n",
       "                    }\n",
       "                }\n",
       "            }, 500);\n",
       "            "
      ],
      "text/plain": [
       "<IPython.core.display.Javascript object>"
      ]
     },
     "metadata": {},
     "output_type": "display_data"
    }
   ],
   "source": [
    "posts.text = posts.text.apply(lambda x: x.lower())\n",
    "posts.text = posts.text.apply(lambda x: re.sub(r\"\\d+\", \"\", x))\n",
    "posts = posts.reset_index(drop=True)\n",
    "posts.text = posts.text.apply(\n",
    "    lambda x: x.translate(str.maketrans(\"\", \"\", string.punctuation))\n",
    ")\n",
    "posts.text = posts.text.apply(\n",
    "    lambda x: x.strip().replace(\"\\r\\n\", \"\\n\").replace(\"\\r\", \"\\n\")\n",
    ")\n",
    "posts.text = posts.text.apply(lambda x: re.sub(r\"\\n\", \"\", x))\n",
    "posts.text = posts.text.apply(lambda x: re.sub(r\"\\n\", \"\", x))\n",
    "posts[\"text_for_sentiment\"] = posts.text"
   ]
  },
  {
   "cell_type": "code",
   "execution_count": 76,
   "id": "062f631f",
   "metadata": {
    "scrolled": true
   },
   "outputs": [
    {
     "data": {
      "application/javascript": [
       "\n",
       "            setTimeout(function() {\n",
       "                var nbb_cell_id = 76;\n",
       "                var nbb_unformatted_code = \"#posts.to_csv('posts_for_sentiment.csv', index=False)\";\n",
       "                var nbb_formatted_code = \"# posts.to_csv('posts_for_sentiment.csv', index=False)\";\n",
       "                var nbb_cells = Jupyter.notebook.get_cells();\n",
       "                for (var i = 0; i < nbb_cells.length; ++i) {\n",
       "                    if (nbb_cells[i].input_prompt_number == nbb_cell_id) {\n",
       "                        if (nbb_cells[i].get_text() == nbb_unformatted_code) {\n",
       "                             nbb_cells[i].set_text(nbb_formatted_code);\n",
       "                        }\n",
       "                        break;\n",
       "                    }\n",
       "                }\n",
       "            }, 500);\n",
       "            "
      ],
      "text/plain": [
       "<IPython.core.display.Javascript object>"
      ]
     },
     "metadata": {},
     "output_type": "display_data"
    }
   ],
   "source": [
    "posts.to_csv('posts_for_sentiment.csv', index=False)"
   ]
  },
  {
   "cell_type": "code",
   "execution_count": 99,
   "id": "2a4b86dc",
   "metadata": {
    "scrolled": true
   },
   "outputs": [
    {
     "data": {
      "application/javascript": [
       "\n",
       "            setTimeout(function() {\n",
       "                var nbb_cell_id = 99;\n",
       "                var nbb_unformatted_code = \"posts = pd.read_csv(\\\"posts_for_sentiment.csv\\\")\";\n",
       "                var nbb_formatted_code = \"posts = pd.read_csv(\\\"posts_for_sentiment.csv\\\")\";\n",
       "                var nbb_cells = Jupyter.notebook.get_cells();\n",
       "                for (var i = 0; i < nbb_cells.length; ++i) {\n",
       "                    if (nbb_cells[i].input_prompt_number == nbb_cell_id) {\n",
       "                        if (nbb_cells[i].get_text() == nbb_unformatted_code) {\n",
       "                             nbb_cells[i].set_text(nbb_formatted_code);\n",
       "                        }\n",
       "                        break;\n",
       "                    }\n",
       "                }\n",
       "            }, 500);\n",
       "            "
      ],
      "text/plain": [
       "<IPython.core.display.Javascript object>"
      ]
     },
     "metadata": {},
     "output_type": "display_data"
    }
   ],
   "source": [
    "posts = pd.read_csv(\"posts_for_sentiment.csv\")"
   ]
  },
  {
   "cell_type": "code",
   "execution_count": 100,
   "id": "73c5cdea",
   "metadata": {},
   "outputs": [
    {
     "data": {
      "application/javascript": [
       "\n",
       "            setTimeout(function() {\n",
       "                var nbb_cell_id = 100;\n",
       "                var nbb_unformatted_code = \"posts[\\\"len_of_post\\\"] = posts[\\\"text_for_sentiment\\\"].apply(lambda x: len(x))\";\n",
       "                var nbb_formatted_code = \"posts[\\\"len_of_post\\\"] = posts[\\\"text_for_sentiment\\\"].apply(lambda x: len(x))\";\n",
       "                var nbb_cells = Jupyter.notebook.get_cells();\n",
       "                for (var i = 0; i < nbb_cells.length; ++i) {\n",
       "                    if (nbb_cells[i].input_prompt_number == nbb_cell_id) {\n",
       "                        if (nbb_cells[i].get_text() == nbb_unformatted_code) {\n",
       "                             nbb_cells[i].set_text(nbb_formatted_code);\n",
       "                        }\n",
       "                        break;\n",
       "                    }\n",
       "                }\n",
       "            }, 500);\n",
       "            "
      ],
      "text/plain": [
       "<IPython.core.display.Javascript object>"
      ]
     },
     "metadata": {},
     "output_type": "display_data"
    }
   ],
   "source": [
    "posts[\"len_of_post\"] = posts[\"text_for_sentiment\"].apply(lambda x: len(x))"
   ]
  },
  {
   "cell_type": "code",
   "execution_count": 101,
   "id": "6af6d5c9",
   "metadata": {},
   "outputs": [
    {
     "data": {
      "text/plain": [
       "[Text(0.5, 0, 'Длина новостной публикации'), Text(0, 0.5, 'Количество постов')]"
      ]
     },
     "execution_count": 101,
     "metadata": {},
     "output_type": "execute_result"
    },
    {
     "data": {
      "image/png": "[encoded data removed]",
      "text/plain": [
       "<Figure size 432x288 with 1 Axes>"
      ]
     },
     "metadata": {
      "image/png": {
       "height": 262,
       "width": 382
      },
      "needs_background": "light"
     },
     "output_type": "display_data"
    },
    {
     "data": {
      "application/javascript": [
       "\n",
       "            setTimeout(function() {\n",
       "                var nbb_cell_id = 101;\n",
       "                var nbb_unformatted_code = \"sns.histplot(data=posts, x=posts[\\\"len_of_post\\\"]).set(\\n    xlabel=\\\"\\u0414\\u043b\\u0438\\u043d\\u0430 \\u043d\\u043e\\u0432\\u043e\\u0441\\u0442\\u043d\\u043e\\u0439 \\u043f\\u0443\\u0431\\u043b\\u0438\\u043a\\u0430\\u0446\\u0438\\u0438\\\", ylabel=\\\"\\u041a\\u043e\\u043b\\u0438\\u0447\\u0435\\u0441\\u0442\\u0432\\u043e \\u043f\\u043e\\u0441\\u0442\\u043e\\u0432\\\"\\n)\";\n",
       "                var nbb_formatted_code = \"sns.histplot(data=posts, x=posts[\\\"len_of_post\\\"]).set(\\n    xlabel=\\\"\\u0414\\u043b\\u0438\\u043d\\u0430 \\u043d\\u043e\\u0432\\u043e\\u0441\\u0442\\u043d\\u043e\\u0439 \\u043f\\u0443\\u0431\\u043b\\u0438\\u043a\\u0430\\u0446\\u0438\\u0438\\\", ylabel=\\\"\\u041a\\u043e\\u043b\\u0438\\u0447\\u0435\\u0441\\u0442\\u0432\\u043e \\u043f\\u043e\\u0441\\u0442\\u043e\\u0432\\\"\\n)\";\n",
       "                var nbb_cells = Jupyter.notebook.get_cells();\n",
       "                for (var i = 0; i < nbb_cells.length; ++i) {\n",
       "                    if (nbb_cells[i].input_prompt_number == nbb_cell_id) {\n",
       "                        if (nbb_cells[i].get_text() == nbb_unformatted_code) {\n",
       "                             nbb_cells[i].set_text(nbb_formatted_code);\n",
       "                        }\n",
       "                        break;\n",
       "                    }\n",
       "                }\n",
       "            }, 500);\n",
       "            "
      ],
      "text/plain": [
       "<IPython.core.display.Javascript object>"
      ]
     },
     "metadata": {},
     "output_type": "display_data"
    }
   ],
   "source": [
    "sns.histplot(data=posts, x=posts[\"len_of_post\"]).set(\n",
    "    xlabel=\"Длина новостной публикации\", ylabel=\"Количество постов\"\n",
    ")"
   ]
  },
  {
   "cell_type": "code",
   "execution_count": 102,
   "id": "f1b6b400",
   "metadata": {},
   "outputs": [
    {
     "name": "stdout",
     "output_type": "stream",
     "text": [
      "Median length of post 211.5\n"
     ]
    },
    {
     "data": {
      "application/javascript": [
       "\n",
       "            setTimeout(function() {\n",
       "                var nbb_cell_id = 102;\n",
       "                var nbb_unformatted_code = \"print(f'Median length of post {posts[\\\"len_of_post\\\"].median()}')\";\n",
       "                var nbb_formatted_code = \"print(f'Median length of post {posts[\\\"len_of_post\\\"].median()}')\";\n",
       "                var nbb_cells = Jupyter.notebook.get_cells();\n",
       "                for (var i = 0; i < nbb_cells.length; ++i) {\n",
       "                    if (nbb_cells[i].input_prompt_number == nbb_cell_id) {\n",
       "                        if (nbb_cells[i].get_text() == nbb_unformatted_code) {\n",
       "                             nbb_cells[i].set_text(nbb_formatted_code);\n",
       "                        }\n",
       "                        break;\n",
       "                    }\n",
       "                }\n",
       "            }, 500);\n",
       "            "
      ],
      "text/plain": [
       "<IPython.core.display.Javascript object>"
      ]
     },
     "metadata": {},
     "output_type": "display_data"
    }
   ],
   "source": [
    "print(f'Median length of post {posts[\"len_of_post\"].median()}')"
   ]
  },
  {
   "cell_type": "code",
   "execution_count": 103,
   "id": "2b9f32b2",
   "metadata": {},
   "outputs": [
    {
     "name": "stdout",
     "output_type": "stream",
     "text": [
      "Percentage of posts with length less that 512 is 0.9090909090909091\n"
     ]
    },
    {
     "data": {
      "application/javascript": [
       "\n",
       "            setTimeout(function() {\n",
       "                var nbb_cell_id = 103;\n",
       "                var nbb_unformatted_code = \"print(f'Percentage of posts with length less that 512 is {posts[posts[\\\"len_of_post\\\"] < 512].shape[0] / posts.shape[0]}')\";\n",
       "                var nbb_formatted_code = \"print(\\n    f'Percentage of posts with length less that 512 is {posts[posts[\\\"len_of_post\\\"] < 512].shape[0] / posts.shape[0]}'\\n)\";\n",
       "                var nbb_cells = Jupyter.notebook.get_cells();\n",
       "                for (var i = 0; i < nbb_cells.length; ++i) {\n",
       "                    if (nbb_cells[i].input_prompt_number == nbb_cell_id) {\n",
       "                        if (nbb_cells[i].get_text() == nbb_unformatted_code) {\n",
       "                             nbb_cells[i].set_text(nbb_formatted_code);\n",
       "                        }\n",
       "                        break;\n",
       "                    }\n",
       "                }\n",
       "            }, 500);\n",
       "            "
      ],
      "text/plain": [
       "<IPython.core.display.Javascript object>"
      ]
     },
     "metadata": {},
     "output_type": "display_data"
    }
   ],
   "source": [
    "print(\n",
    "    f'Percentage of posts with length less that 512 is {posts[posts[\"len_of_post\"] < 512].shape[0] / posts.shape[0]}'\n",
    ")"
   ]
  },
  {
   "cell_type": "code",
   "execution_count": 104,
   "id": "ea8b8c4a",
   "metadata": {
    "scrolled": true
   },
   "outputs": [
    {
     "data": {
      "application/javascript": [
       "\n",
       "            setTimeout(function() {\n",
       "                var nbb_cell_id = 104;\n",
       "                var nbb_unformatted_code = \"posts = posts[posts.text_for_sentiment.apply(lambda x: len(x)) < 512]\\n#posts['sentiment_analysis_value'] = posts['text_for_sentiment'].apply(lambda x: classifier(x)[0]['label'])\\n#posts['sentiment_analysis_score'] = posts['text_for_sentiment'].apply(lambda x: classifier(x)[0]['score'])\\n#posts.to_csv('posts_with_sentiment.csv', index=False)\";\n",
       "                var nbb_formatted_code = \"posts = posts[posts.text_for_sentiment.apply(lambda x: len(x)) < 512]\\n# posts['sentiment_analysis_value'] = posts['text_for_sentiment'].apply(lambda x: classifier(x)[0]['label'])\\n# posts['sentiment_analysis_score'] = posts['text_for_sentiment'].apply(lambda x: classifier(x)[0]['score'])\\n# posts.to_csv('posts_with_sentiment.csv', index=False)\";\n",
       "                var nbb_cells = Jupyter.notebook.get_cells();\n",
       "                for (var i = 0; i < nbb_cells.length; ++i) {\n",
       "                    if (nbb_cells[i].input_prompt_number == nbb_cell_id) {\n",
       "                        if (nbb_cells[i].get_text() == nbb_unformatted_code) {\n",
       "                             nbb_cells[i].set_text(nbb_formatted_code);\n",
       "                        }\n",
       "                        break;\n",
       "                    }\n",
       "                }\n",
       "            }, 500);\n",
       "            "
      ],
      "text/plain": [
       "<IPython.core.display.Javascript object>"
      ]
     },
     "metadata": {},
     "output_type": "display_data"
    }
   ],
   "source": [
    "posts = posts[posts.text_for_sentiment.apply(lambda x: len(x)) < 512]\n",
    "posts['sentiment_analysis_value'] = posts['text_for_sentiment'].apply(lambda x: classifier(x)[0]['label'])\n",
    "posts['sentiment_analysis_score'] = posts['text_for_sentiment'].apply(lambda x: classifier(x)[0]['score'])\n",
    "posts.to_csv('posts_with_sentiment.csv', index=False)"
   ]
  },
  {
   "cell_type": "code",
   "execution_count": 105,
   "id": "a7f51a69",
   "metadata": {},
   "outputs": [
    {
     "data": {
      "application/javascript": [
       "\n",
       "            setTimeout(function() {\n",
       "                var nbb_cell_id = 105;\n",
       "                var nbb_unformatted_code = \"posts = pd.read_csv('posts_with_sentiment.csv')\";\n",
       "                var nbb_formatted_code = \"posts = pd.read_csv(\\\"posts_with_sentiment.csv\\\")\";\n",
       "                var nbb_cells = Jupyter.notebook.get_cells();\n",
       "                for (var i = 0; i < nbb_cells.length; ++i) {\n",
       "                    if (nbb_cells[i].input_prompt_number == nbb_cell_id) {\n",
       "                        if (nbb_cells[i].get_text() == nbb_unformatted_code) {\n",
       "                             nbb_cells[i].set_text(nbb_formatted_code);\n",
       "                        }\n",
       "                        break;\n",
       "                    }\n",
       "                }\n",
       "            }, 500);\n",
       "            "
      ],
      "text/plain": [
       "<IPython.core.display.Javascript object>"
      ]
     },
     "metadata": {},
     "output_type": "display_data"
    }
   ],
   "source": [
    "posts = pd.read_csv(\"posts_with_sentiment.csv\")"
   ]
  },
  {
   "cell_type": "code",
   "execution_count": 106,
   "id": "2b95223e",
   "metadata": {},
   "outputs": [
    {
     "data": {
      "application/javascript": [
       "\n",
       "            setTimeout(function() {\n",
       "                var nbb_cell_id = 106;\n",
       "                var nbb_unformatted_code = \"posts = posts.rename(columns={'sentiment_analysis_value': 'sentiment_analysis_value_post',\\n                              'sentiment_analysis_score':'sentiment_analysis_score_post'})\";\n",
       "                var nbb_formatted_code = \"posts = posts.rename(\\n    columns={\\n        \\\"sentiment_analysis_value\\\": \\\"sentiment_analysis_value_post\\\",\\n        \\\"sentiment_analysis_score\\\": \\\"sentiment_analysis_score_post\\\",\\n    }\\n)\";\n",
       "                var nbb_cells = Jupyter.notebook.get_cells();\n",
       "                for (var i = 0; i < nbb_cells.length; ++i) {\n",
       "                    if (nbb_cells[i].input_prompt_number == nbb_cell_id) {\n",
       "                        if (nbb_cells[i].get_text() == nbb_unformatted_code) {\n",
       "                             nbb_cells[i].set_text(nbb_formatted_code);\n",
       "                        }\n",
       "                        break;\n",
       "                    }\n",
       "                }\n",
       "            }, 500);\n",
       "            "
      ],
      "text/plain": [
       "<IPython.core.display.Javascript object>"
      ]
     },
     "metadata": {},
     "output_type": "display_data"
    }
   ],
   "source": [
    "posts = posts.rename(\n",
    "    columns={\n",
    "        \"sentiment_analysis_value\": \"sentiment_analysis_value_post\",\n",
    "        \"sentiment_analysis_score\": \"sentiment_analysis_score_post\",\n",
    "    }\n",
    ")"
   ]
  },
  {
   "cell_type": "code",
   "execution_count": 107,
   "id": "9e71b504",
   "metadata": {},
   "outputs": [
    {
     "name": "stdout",
     "output_type": "stream",
     "text": [
      "NEUTRAL     160\n",
      "NEGATIVE     77\n",
      "POSITIVE     43\n",
      "Name: sentiment_analysis_value_post, dtype: int64\n"
     ]
    },
    {
     "data": {
      "application/javascript": [
       "\n",
       "            setTimeout(function() {\n",
       "                var nbb_cell_id = 107;\n",
       "                var nbb_unformatted_code = \"print(posts.sentiment_analysis_value_post.value_counts())\";\n",
       "                var nbb_formatted_code = \"print(posts.sentiment_analysis_value_post.value_counts())\";\n",
       "                var nbb_cells = Jupyter.notebook.get_cells();\n",
       "                for (var i = 0; i < nbb_cells.length; ++i) {\n",
       "                    if (nbb_cells[i].input_prompt_number == nbb_cell_id) {\n",
       "                        if (nbb_cells[i].get_text() == nbb_unformatted_code) {\n",
       "                             nbb_cells[i].set_text(nbb_formatted_code);\n",
       "                        }\n",
       "                        break;\n",
       "                    }\n",
       "                }\n",
       "            }, 500);\n",
       "            "
      ],
      "text/plain": [
       "<IPython.core.display.Javascript object>"
      ]
     },
     "metadata": {},
     "output_type": "display_data"
    }
   ],
   "source": [
    "print(posts.sentiment_analysis_value_post.value_counts())"
   ]
  },
  {
   "cell_type": "code",
   "execution_count": 108,
   "id": "85af46eb",
   "metadata": {},
   "outputs": [
    {
     "data": {
      "application/javascript": [
       "\n",
       "            setTimeout(function() {\n",
       "                var nbb_cell_id = 108;\n",
       "                var nbb_unformatted_code = \"posts_with_sentiment_for_chi_square = posts[['id', 'sentiment_analysis_value_post', 'sentiment_analysis_score_post']]\\nposts_with_sentiment_for_chi_square_fot_dict = posts_with_sentiment_for_chi_square.set_index('id')\\ndict_posts = posts_with_sentiment_for_chi_square_fot_dict['sentiment_analysis_value_post'].to_dict()\\ndict_posts_score = posts_with_sentiment_for_chi_square_fot_dict['sentiment_analysis_score_post'].to_dict()\";\n",
       "                var nbb_formatted_code = \"posts_with_sentiment_for_chi_square = posts[\\n    [\\\"id\\\", \\\"sentiment_analysis_value_post\\\", \\\"sentiment_analysis_score_post\\\"]\\n]\\nposts_with_sentiment_for_chi_square_fot_dict = posts_with_sentiment_for_chi_square.set_index(\\n    \\\"id\\\"\\n)\\ndict_posts = posts_with_sentiment_for_chi_square_fot_dict[\\n    \\\"sentiment_analysis_value_post\\\"\\n].to_dict()\\ndict_posts_score = posts_with_sentiment_for_chi_square_fot_dict[\\n    \\\"sentiment_analysis_score_post\\\"\\n].to_dict()\";\n",
       "                var nbb_cells = Jupyter.notebook.get_cells();\n",
       "                for (var i = 0; i < nbb_cells.length; ++i) {\n",
       "                    if (nbb_cells[i].input_prompt_number == nbb_cell_id) {\n",
       "                        if (nbb_cells[i].get_text() == nbb_unformatted_code) {\n",
       "                             nbb_cells[i].set_text(nbb_formatted_code);\n",
       "                        }\n",
       "                        break;\n",
       "                    }\n",
       "                }\n",
       "            }, 500);\n",
       "            "
      ],
      "text/plain": [
       "<IPython.core.display.Javascript object>"
      ]
     },
     "metadata": {},
     "output_type": "display_data"
    }
   ],
   "source": [
    "posts_with_sentiment_for_chi_square = posts[\n",
    "    [\"id\", \"sentiment_analysis_value_post\", \"sentiment_analysis_score_post\"]\n",
    "]\n",
    "posts_with_sentiment_for_chi_square_fot_dict = posts_with_sentiment_for_chi_square.set_index(\n",
    "    \"id\"\n",
    ")\n",
    "dict_posts = posts_with_sentiment_for_chi_square_fot_dict[\n",
    "    \"sentiment_analysis_value_post\"\n",
    "].to_dict()\n",
    "dict_posts_score = posts_with_sentiment_for_chi_square_fot_dict[\n",
    "    \"sentiment_analysis_score_post\"\n",
    "].to_dict()"
   ]
  },
  {
   "cell_type": "code",
   "execution_count": 109,
   "id": "b64103dd",
   "metadata": {},
   "outputs": [
    {
     "data": {
      "application/javascript": [
       "\n",
       "            setTimeout(function() {\n",
       "                var nbb_cell_id = 109;\n",
       "                var nbb_unformatted_code = \"data2 = data[data['post_id'].isin(posts_with_sentiment_for_chi_square.id.unique())].reset_index(drop=True)\\ndata2.post_id = data2.post_id.apply(lambda x: int(x))\";\n",
       "                var nbb_formatted_code = \"data2 = data[\\n    data[\\\"post_id\\\"].isin(posts_with_sentiment_for_chi_square.id.unique())\\n].reset_index(drop=True)\\ndata2.post_id = data2.post_id.apply(lambda x: int(x))\";\n",
       "                var nbb_cells = Jupyter.notebook.get_cells();\n",
       "                for (var i = 0; i < nbb_cells.length; ++i) {\n",
       "                    if (nbb_cells[i].input_prompt_number == nbb_cell_id) {\n",
       "                        if (nbb_cells[i].get_text() == nbb_unformatted_code) {\n",
       "                             nbb_cells[i].set_text(nbb_formatted_code);\n",
       "                        }\n",
       "                        break;\n",
       "                    }\n",
       "                }\n",
       "            }, 500);\n",
       "            "
      ],
      "text/plain": [
       "<IPython.core.display.Javascript object>"
      ]
     },
     "metadata": {},
     "output_type": "display_data"
    }
   ],
   "source": [
    "data2 = data[\n",
    "    data[\"post_id\"].isin(posts_with_sentiment_for_chi_square.id.unique())\n",
    "].reset_index(drop=True)\n",
    "data2.post_id = data2.post_id.apply(lambda x: int(x))"
   ]
  },
  {
   "cell_type": "code",
   "execution_count": 110,
   "id": "49fc49ce",
   "metadata": {},
   "outputs": [
    {
     "data": {
      "application/javascript": [
       "\n",
       "            setTimeout(function() {\n",
       "                var nbb_cell_id = 110;\n",
       "                var nbb_unformatted_code = \"data = pd.read_csv('data_with_sentiment.csv')\\ndata2['sentiment_post_value'] = data2.post_id.apply(lambda x: dict_posts[x])\\ndata2['sentiment_post_score'] = data2.post_id.apply(lambda x: dict_posts_score[x])\\ncrosstab1 = pd.crosstab(data2['sentiment_post_value'],\\n            data2['sentiment_analysis_value'])\";\n",
       "                var nbb_formatted_code = \"data = pd.read_csv(\\\"data_with_sentiment.csv\\\")\\ndata2[\\\"sentiment_post_value\\\"] = data2.post_id.apply(lambda x: dict_posts[x])\\ndata2[\\\"sentiment_post_score\\\"] = data2.post_id.apply(lambda x: dict_posts_score[x])\\ncrosstab1 = pd.crosstab(\\n    data2[\\\"sentiment_post_value\\\"], data2[\\\"sentiment_analysis_value\\\"]\\n)\";\n",
       "                var nbb_cells = Jupyter.notebook.get_cells();\n",
       "                for (var i = 0; i < nbb_cells.length; ++i) {\n",
       "                    if (nbb_cells[i].input_prompt_number == nbb_cell_id) {\n",
       "                        if (nbb_cells[i].get_text() == nbb_unformatted_code) {\n",
       "                             nbb_cells[i].set_text(nbb_formatted_code);\n",
       "                        }\n",
       "                        break;\n",
       "                    }\n",
       "                }\n",
       "            }, 500);\n",
       "            "
      ],
      "text/plain": [
       "<IPython.core.display.Javascript object>"
      ]
     },
     "metadata": {},
     "output_type": "display_data"
    }
   ],
   "source": [
    "data = pd.read_csv(\"data_with_sentiment.csv\")\n",
    "data2[\"sentiment_post_value\"] = data2.post_id.apply(lambda x: dict_posts[x])\n",
    "data2[\"sentiment_post_score\"] = data2.post_id.apply(lambda x: dict_posts_score[x])\n",
    "crosstab1 = pd.crosstab(\n",
    "    data2[\"sentiment_post_value\"], data2[\"sentiment_analysis_value\"]\n",
    ")"
   ]
  },
  {
   "cell_type": "code",
   "execution_count": 111,
   "id": "7ba5a670",
   "metadata": {},
   "outputs": [
    {
     "data": {
      "text/html": [
       "<div>\n",
       "<style scoped>\n",
       "    .dataframe tbody tr th:only-of-type {\n",
       "        vertical-align: middle;\n",
       "    }\n",
       "\n",
       "    .dataframe tbody tr th {\n",
       "        vertical-align: top;\n",
       "    }\n",
       "\n",
       "    .dataframe thead th {\n",
       "        text-align: right;\n",
       "    }\n",
       "</style>\n",
       "<table border=\"1\" class=\"dataframe\">\n",
       "  <thead>\n",
       "    <tr style=\"text-align: right;\">\n",
       "      <th>sentiment_analysis_value</th>\n",
       "      <th>NEGATIVE</th>\n",
       "      <th>NEUTRAL</th>\n",
       "      <th>POSITIVE</th>\n",
       "    </tr>\n",
       "    <tr>\n",
       "      <th>sentiment_post_value</th>\n",
       "      <th></th>\n",
       "      <th></th>\n",
       "      <th></th>\n",
       "    </tr>\n",
       "  </thead>\n",
       "  <tbody>\n",
       "    <tr>\n",
       "      <th>NEGATIVE</th>\n",
       "      <td>1553</td>\n",
       "      <td>1569</td>\n",
       "      <td>320</td>\n",
       "    </tr>\n",
       "    <tr>\n",
       "      <th>NEUTRAL</th>\n",
       "      <td>1974</td>\n",
       "      <td>2213</td>\n",
       "      <td>473</td>\n",
       "    </tr>\n",
       "    <tr>\n",
       "      <th>POSITIVE</th>\n",
       "      <td>515</td>\n",
       "      <td>567</td>\n",
       "      <td>133</td>\n",
       "    </tr>\n",
       "  </tbody>\n",
       "</table>\n",
       "</div>"
      ],
      "text/plain": [
       "sentiment_analysis_value  NEGATIVE  NEUTRAL  POSITIVE\n",
       "sentiment_post_value                                 \n",
       "NEGATIVE                      1553     1569       320\n",
       "NEUTRAL                       1974     2213       473\n",
       "POSITIVE                       515      567       133"
      ]
     },
     "execution_count": 111,
     "metadata": {},
     "output_type": "execute_result"
    },
    {
     "data": {
      "application/javascript": [
       "\n",
       "            setTimeout(function() {\n",
       "                var nbb_cell_id = 111;\n",
       "                var nbb_unformatted_code = \"crosstab1\";\n",
       "                var nbb_formatted_code = \"crosstab1\";\n",
       "                var nbb_cells = Jupyter.notebook.get_cells();\n",
       "                for (var i = 0; i < nbb_cells.length; ++i) {\n",
       "                    if (nbb_cells[i].input_prompt_number == nbb_cell_id) {\n",
       "                        if (nbb_cells[i].get_text() == nbb_unformatted_code) {\n",
       "                             nbb_cells[i].set_text(nbb_formatted_code);\n",
       "                        }\n",
       "                        break;\n",
       "                    }\n",
       "                }\n",
       "            }, 500);\n",
       "            "
      ],
      "text/plain": [
       "<IPython.core.display.Javascript object>"
      ]
     },
     "metadata": {},
     "output_type": "display_data"
    }
   ],
   "source": [
    "crosstab1"
   ]
  },
  {
   "cell_type": "code",
   "execution_count": 112,
   "id": "bc22a138",
   "metadata": {},
   "outputs": [
    {
     "data": {
      "text/plain": [
       "(8.209802163509796,\n",
       " 0.0841882423474345,\n",
       " 4,\n",
       " array([[1493.24503596, 1606.6607277 ,  342.09423634],\n",
       "        [2021.65074595, 2175.20017173,  463.14908232],\n",
       "        [ 527.1042181 ,  567.13910057,  120.75668134]]))"
      ]
     },
     "execution_count": 112,
     "metadata": {},
     "output_type": "execute_result"
    },
    {
     "data": {
      "application/javascript": [
       "\n",
       "            setTimeout(function() {\n",
       "                var nbb_cell_id = 112;\n",
       "                var nbb_unformatted_code = \"stats.chi2_contingency(crosstab1)\";\n",
       "                var nbb_formatted_code = \"stats.chi2_contingency(crosstab1)\";\n",
       "                var nbb_cells = Jupyter.notebook.get_cells();\n",
       "                for (var i = 0; i < nbb_cells.length; ++i) {\n",
       "                    if (nbb_cells[i].input_prompt_number == nbb_cell_id) {\n",
       "                        if (nbb_cells[i].get_text() == nbb_unformatted_code) {\n",
       "                             nbb_cells[i].set_text(nbb_formatted_code);\n",
       "                        }\n",
       "                        break;\n",
       "                    }\n",
       "                }\n",
       "            }, 500);\n",
       "            "
      ],
      "text/plain": [
       "<IPython.core.display.Javascript object>"
      ]
     },
     "metadata": {},
     "output_type": "display_data"
    }
   ],
   "source": [
    "stats.chi2_contingency(crosstab1)"
   ]
  },
  {
   "cell_type": "code",
   "execution_count": 113,
   "id": "747e2091",
   "metadata": {},
   "outputs": [
    {
     "data": {
      "application/javascript": [
       "\n",
       "            setTimeout(function() {\n",
       "                var nbb_cell_id = 113;\n",
       "                var nbb_unformatted_code = \"data2_without_neutral = data2[(data2['sentiment_post_value'] != 'NEUTRAL') & (data2['sentiment_analysis_value'] != 'NEUTRAL')]\";\n",
       "                var nbb_formatted_code = \"data2_without_neutral = data2[\\n    (data2[\\\"sentiment_post_value\\\"] != \\\"NEUTRAL\\\")\\n    & (data2[\\\"sentiment_analysis_value\\\"] != \\\"NEUTRAL\\\")\\n]\";\n",
       "                var nbb_cells = Jupyter.notebook.get_cells();\n",
       "                for (var i = 0; i < nbb_cells.length; ++i) {\n",
       "                    if (nbb_cells[i].input_prompt_number == nbb_cell_id) {\n",
       "                        if (nbb_cells[i].get_text() == nbb_unformatted_code) {\n",
       "                             nbb_cells[i].set_text(nbb_formatted_code);\n",
       "                        }\n",
       "                        break;\n",
       "                    }\n",
       "                }\n",
       "            }, 500);\n",
       "            "
      ],
      "text/plain": [
       "<IPython.core.display.Javascript object>"
      ]
     },
     "metadata": {},
     "output_type": "display_data"
    }
   ],
   "source": [
    "data2_without_neutral = data2[\n",
    "    (data2[\"sentiment_post_value\"] != \"NEUTRAL\")\n",
    "    & (data2[\"sentiment_analysis_value\"] != \"NEUTRAL\")\n",
    "]"
   ]
  },
  {
   "cell_type": "code",
   "execution_count": 114,
   "id": "7542608f",
   "metadata": {},
   "outputs": [
    {
     "data": {
      "text/html": [
       "<div>\n",
       "<style scoped>\n",
       "    .dataframe tbody tr th:only-of-type {\n",
       "        vertical-align: middle;\n",
       "    }\n",
       "\n",
       "    .dataframe tbody tr th {\n",
       "        vertical-align: top;\n",
       "    }\n",
       "\n",
       "    .dataframe thead th {\n",
       "        text-align: right;\n",
       "    }\n",
       "</style>\n",
       "<table border=\"1\" class=\"dataframe\">\n",
       "  <thead>\n",
       "    <tr style=\"text-align: right;\">\n",
       "      <th>sentiment_analysis_value</th>\n",
       "      <th>NEGATIVE</th>\n",
       "      <th>POSITIVE</th>\n",
       "    </tr>\n",
       "    <tr>\n",
       "      <th>sentiment_post_value</th>\n",
       "      <th></th>\n",
       "      <th></th>\n",
       "    </tr>\n",
       "  </thead>\n",
       "  <tbody>\n",
       "    <tr>\n",
       "      <th>NEGATIVE</th>\n",
       "      <td>1553</td>\n",
       "      <td>320</td>\n",
       "    </tr>\n",
       "    <tr>\n",
       "      <th>POSITIVE</th>\n",
       "      <td>515</td>\n",
       "      <td>133</td>\n",
       "    </tr>\n",
       "  </tbody>\n",
       "</table>\n",
       "</div>"
      ],
      "text/plain": [
       "sentiment_analysis_value  NEGATIVE  POSITIVE\n",
       "sentiment_post_value                        \n",
       "NEGATIVE                      1553       320\n",
       "POSITIVE                       515       133"
      ]
     },
     "execution_count": 114,
     "metadata": {},
     "output_type": "execute_result"
    },
    {
     "data": {
      "application/javascript": [
       "\n",
       "            setTimeout(function() {\n",
       "                var nbb_cell_id = 114;\n",
       "                var nbb_unformatted_code = \"crosstab_without_neutral = pd.crosstab(data2_without_neutral['sentiment_post_value'],\\n            data2_without_neutral['sentiment_analysis_value'])\\ncrosstab_without_neutral\";\n",
       "                var nbb_formatted_code = \"crosstab_without_neutral = pd.crosstab(\\n    data2_without_neutral[\\\"sentiment_post_value\\\"],\\n    data2_without_neutral[\\\"sentiment_analysis_value\\\"],\\n)\\ncrosstab_without_neutral\";\n",
       "                var nbb_cells = Jupyter.notebook.get_cells();\n",
       "                for (var i = 0; i < nbb_cells.length; ++i) {\n",
       "                    if (nbb_cells[i].input_prompt_number == nbb_cell_id) {\n",
       "                        if (nbb_cells[i].get_text() == nbb_unformatted_code) {\n",
       "                             nbb_cells[i].set_text(nbb_formatted_code);\n",
       "                        }\n",
       "                        break;\n",
       "                    }\n",
       "                }\n",
       "            }, 500);\n",
       "            "
      ],
      "text/plain": [
       "<IPython.core.display.Javascript object>"
      ]
     },
     "metadata": {},
     "output_type": "display_data"
    }
   ],
   "source": [
    "crosstab_without_neutral = pd.crosstab(\n",
    "    data2_without_neutral[\"sentiment_post_value\"],\n",
    "    data2_without_neutral[\"sentiment_analysis_value\"],\n",
    ")\n",
    "crosstab_without_neutral"
   ]
  },
  {
   "cell_type": "code",
   "execution_count": 115,
   "id": "000dc1ab",
   "metadata": {},
   "outputs": [
    {
     "data": {
      "text/plain": [
       "(3.6347513040114254,\n",
       " 0.05658505790480893,\n",
       " 1,\n",
       " array([[1536.43950813,  336.56049187],\n",
       "        [ 531.56049187,  116.43950813]]))"
      ]
     },
     "execution_count": 115,
     "metadata": {},
     "output_type": "execute_result"
    },
    {
     "data": {
      "application/javascript": [
       "\n",
       "            setTimeout(function() {\n",
       "                var nbb_cell_id = 115;\n",
       "                var nbb_unformatted_code = \"stats.chi2_contingency(crosstab_without_neutral)\";\n",
       "                var nbb_formatted_code = \"stats.chi2_contingency(crosstab_without_neutral)\";\n",
       "                var nbb_cells = Jupyter.notebook.get_cells();\n",
       "                for (var i = 0; i < nbb_cells.length; ++i) {\n",
       "                    if (nbb_cells[i].input_prompt_number == nbb_cell_id) {\n",
       "                        if (nbb_cells[i].get_text() == nbb_unformatted_code) {\n",
       "                             nbb_cells[i].set_text(nbb_formatted_code);\n",
       "                        }\n",
       "                        break;\n",
       "                    }\n",
       "                }\n",
       "            }, 500);\n",
       "            "
      ],
      "text/plain": [
       "<IPython.core.display.Javascript object>"
      ]
     },
     "metadata": {},
     "output_type": "display_data"
    }
   ],
   "source": [
    "stats.chi2_contingency(crosstab_without_neutral)"
   ]
  },
  {
   "cell_type": "markdown",
   "id": "d78bb20f",
   "metadata": {},
   "source": [
    "## To identify which factors contribute to the formation of opinions about kicksharing"
   ]
  },
  {
   "cell_type": "code",
   "execution_count": 116,
   "id": "a3297e1e",
   "metadata": {},
   "outputs": [
    {
     "data": {
      "application/javascript": [
       "\n",
       "            setTimeout(function() {\n",
       "                var nbb_cell_id = 116;\n",
       "                var nbb_unformatted_code = \"data = pd.read_csv('data_with_sentiment.csv')\";\n",
       "                var nbb_formatted_code = \"data = pd.read_csv(\\\"data_with_sentiment.csv\\\")\";\n",
       "                var nbb_cells = Jupyter.notebook.get_cells();\n",
       "                for (var i = 0; i < nbb_cells.length; ++i) {\n",
       "                    if (nbb_cells[i].input_prompt_number == nbb_cell_id) {\n",
       "                        if (nbb_cells[i].get_text() == nbb_unformatted_code) {\n",
       "                             nbb_cells[i].set_text(nbb_formatted_code);\n",
       "                        }\n",
       "                        break;\n",
       "                    }\n",
       "                }\n",
       "            }, 500);\n",
       "            "
      ],
      "text/plain": [
       "<IPython.core.display.Javascript object>"
      ]
     },
     "metadata": {},
     "output_type": "display_data"
    }
   ],
   "source": [
    "data = pd.read_csv(\"data_with_sentiment.csv\")"
   ]
  },
  {
   "cell_type": "code",
   "execution_count": 117,
   "id": "5ef393e0",
   "metadata": {},
   "outputs": [
    {
     "data": {
      "application/javascript": [
       "\n",
       "            setTimeout(function() {\n",
       "                var nbb_cell_id = 117;\n",
       "                var nbb_unformatted_code = \"sentences = list(data.text_for_sentiment)\\nsentences_test1 = sentences[0:2000]\\nsentences_test2 = sentences[2000:4000]\\nsentences_test3 = sentences[4000:6000]\\nsentences_test4 = sentences[6000:8000]\\nsentences_test5 = sentences[8000:]\";\n",
       "                var nbb_formatted_code = \"sentences = list(data.text_for_sentiment)\\nsentences_test1 = sentences[0:2000]\\nsentences_test2 = sentences[2000:4000]\\nsentences_test3 = sentences[4000:6000]\\nsentences_test4 = sentences[6000:8000]\\nsentences_test5 = sentences[8000:]\";\n",
       "                var nbb_cells = Jupyter.notebook.get_cells();\n",
       "                for (var i = 0; i < nbb_cells.length; ++i) {\n",
       "                    if (nbb_cells[i].input_prompt_number == nbb_cell_id) {\n",
       "                        if (nbb_cells[i].get_text() == nbb_unformatted_code) {\n",
       "                             nbb_cells[i].set_text(nbb_formatted_code);\n",
       "                        }\n",
       "                        break;\n",
       "                    }\n",
       "                }\n",
       "            }, 500);\n",
       "            "
      ],
      "text/plain": [
       "<IPython.core.display.Javascript object>"
      ]
     },
     "metadata": {},
     "output_type": "display_data"
    }
   ],
   "source": [
    "sentences = list(data.text_for_sentiment)\n",
    "sentences_test1 = sentences[0:2000]\n",
    "sentences_test2 = sentences[2000:4000]\n",
    "sentences_test3 = sentences[4000:6000]\n",
    "sentences_test4 = sentences[6000:8000]\n",
    "sentences_test5 = sentences[8000:]"
   ]
  },
  {
   "cell_type": "code",
   "execution_count": 119,
   "id": "256ffe2c",
   "metadata": {},
   "outputs": [
    {
     "data": {
      "application/javascript": [
       "\n",
       "            setTimeout(function() {\n",
       "                var nbb_cell_id = 119;\n",
       "                var nbb_unformatted_code = \"def mean_pooling(model_output, attention_mask):\\n    token_embeddings = model_output[0] \\n    input_mask_expanded = attention_mask.unsqueeze(-1).expand(token_embeddings.size()).float()\\n    sum_embeddings = torch.sum(token_embeddings * input_mask_expanded, 1)\\n    sum_mask = torch.clamp(input_mask_expanded.sum(1), min=1e-9)\\n    return sum_embeddings / sum_mask\";\n",
       "                var nbb_formatted_code = \"def mean_pooling(model_output, attention_mask):\\n    token_embeddings = model_output[0]\\n    input_mask_expanded = (\\n        attention_mask.unsqueeze(-1).expand(token_embeddings.size()).float()\\n    )\\n    sum_embeddings = torch.sum(token_embeddings * input_mask_expanded, 1)\\n    sum_mask = torch.clamp(input_mask_expanded.sum(1), min=1e-9)\\n    return sum_embeddings / sum_mask\";\n",
       "                var nbb_cells = Jupyter.notebook.get_cells();\n",
       "                for (var i = 0; i < nbb_cells.length; ++i) {\n",
       "                    if (nbb_cells[i].input_prompt_number == nbb_cell_id) {\n",
       "                        if (nbb_cells[i].get_text() == nbb_unformatted_code) {\n",
       "                             nbb_cells[i].set_text(nbb_formatted_code);\n",
       "                        }\n",
       "                        break;\n",
       "                    }\n",
       "                }\n",
       "            }, 500);\n",
       "            "
      ],
      "text/plain": [
       "<IPython.core.display.Javascript object>"
      ]
     },
     "metadata": {},
     "output_type": "display_data"
    }
   ],
   "source": [
    "def mean_pooling(model_output, attention_mask):\n",
    "    token_embeddings = model_output[0]\n",
    "    input_mask_expanded = (\n",
    "        attention_mask.unsqueeze(-1).expand(token_embeddings.size()).float()\n",
    "    )\n",
    "    sum_embeddings = torch.sum(token_embeddings * input_mask_expanded, 1)\n",
    "    sum_mask = torch.clamp(input_mask_expanded.sum(1), min=1e-9)\n",
    "    return sum_embeddings / sum_mask"
   ]
  },
  {
   "cell_type": "code",
   "execution_count": null,
   "id": "9423e5ec",
   "metadata": {},
   "outputs": [],
   "source": [
    "sentences = sentences_test5\n",
    "tokenizer = AutoTokenizer.from_pretrained(\"sberbank-ai/sbert_large_mt_nlu_ru\")\n",
    "model = AutoModel.from_pretrained(\"sberbank-ai/sbert_large_mt_nlu_ru\")\n",
    "encoded_input = tokenizer(sentences, padding=True, truncation=True, max_length=24, return_tensors='pt')\n",
    "with torch.no_grad():\n",
    "    model_output = model(**encoded_input)\n",
    "sentence_embeddings5 = mean_pooling(model_output, encoded_input['attention_mask'])"
   ]
  },
  {
   "cell_type": "code",
   "execution_count": null,
   "id": "f91d18bf",
   "metadata": {},
   "outputs": [],
   "source": [
    "torch.save(sentence_embeddings5, 'embeddings1.pt')\n",
    "torch.save(sentence_embeddings5, 'embeddings2.pt')\n",
    "torch.save(sentence_embeddings5, 'embeddings3.pt')\n",
    "torch.save(sentence_embeddings5, 'embeddings4.pt')\n",
    "torch.save(sentence_embeddings5, 'embeddings5.pt')"
   ]
  },
  {
   "cell_type": "code",
   "execution_count": 120,
   "id": "090fbb6b",
   "metadata": {},
   "outputs": [
    {
     "data": {
      "application/javascript": [
       "\n",
       "            setTimeout(function() {\n",
       "                var nbb_cell_id = 120;\n",
       "                var nbb_unformatted_code = \"embeddings1 = torch.load('embeddings1.pt')\\nembeddings2 = torch.load('embeddings2.pt')\\nembeddings3 = torch.load('embeddings3.pt')\\nembeddings4 = torch.load('embeddings4.pt')\\nembeddings5 = torch.load('embeddings5.pt')\";\n",
       "                var nbb_formatted_code = \"embeddings1 = torch.load(\\\"embeddings1.pt\\\")\\nembeddings2 = torch.load(\\\"embeddings2.pt\\\")\\nembeddings3 = torch.load(\\\"embeddings3.pt\\\")\\nembeddings4 = torch.load(\\\"embeddings4.pt\\\")\\nembeddings5 = torch.load(\\\"embeddings5.pt\\\")\";\n",
       "                var nbb_cells = Jupyter.notebook.get_cells();\n",
       "                for (var i = 0; i < nbb_cells.length; ++i) {\n",
       "                    if (nbb_cells[i].input_prompt_number == nbb_cell_id) {\n",
       "                        if (nbb_cells[i].get_text() == nbb_unformatted_code) {\n",
       "                             nbb_cells[i].set_text(nbb_formatted_code);\n",
       "                        }\n",
       "                        break;\n",
       "                    }\n",
       "                }\n",
       "            }, 500);\n",
       "            "
      ],
      "text/plain": [
       "<IPython.core.display.Javascript object>"
      ]
     },
     "metadata": {},
     "output_type": "display_data"
    }
   ],
   "source": [
    "embeddings1 = torch.load(\"embeddings1.pt\")\n",
    "embeddings2 = torch.load(\"embeddings2.pt\")\n",
    "embeddings3 = torch.load(\"embeddings3.pt\")\n",
    "embeddings4 = torch.load(\"embeddings4.pt\")\n",
    "embeddings5 = torch.load(\"embeddings5.pt\")"
   ]
  },
  {
   "cell_type": "code",
   "execution_count": 121,
   "id": "8f511f0b",
   "metadata": {},
   "outputs": [
    {
     "data": {
      "application/javascript": [
       "\n",
       "            setTimeout(function() {\n",
       "                var nbb_cell_id = 121;\n",
       "                var nbb_unformatted_code = \"embeddings_concated = torch.cat([embeddings1, embeddings2, embeddings3, embeddings4, embeddings5])\\nembeddings_concated = torch.load('embeddings_concated.pt')\";\n",
       "                var nbb_formatted_code = \"embeddings_concated = torch.cat(\\n    [embeddings1, embeddings2, embeddings3, embeddings4, embeddings5]\\n)\\nembeddings_concated = torch.load(\\\"embeddings_concated.pt\\\")\";\n",
       "                var nbb_cells = Jupyter.notebook.get_cells();\n",
       "                for (var i = 0; i < nbb_cells.length; ++i) {\n",
       "                    if (nbb_cells[i].input_prompt_number == nbb_cell_id) {\n",
       "                        if (nbb_cells[i].get_text() == nbb_unformatted_code) {\n",
       "                             nbb_cells[i].set_text(nbb_formatted_code);\n",
       "                        }\n",
       "                        break;\n",
       "                    }\n",
       "                }\n",
       "            }, 500);\n",
       "            "
      ],
      "text/plain": [
       "<IPython.core.display.Javascript object>"
      ]
     },
     "metadata": {},
     "output_type": "display_data"
    }
   ],
   "source": [
    "embeddings_concated = torch.cat(\n",
    "    [embeddings1, embeddings2, embeddings3, embeddings4, embeddings5]\n",
    ")\n",
    "embeddings_concated = torch.load(\"embeddings_concated.pt\")"
   ]
  },
  {
   "cell_type": "code",
   "execution_count": 122,
   "id": "9307dbc1",
   "metadata": {},
   "outputs": [
    {
     "data": {
      "application/javascript": [
       "\n",
       "            setTimeout(function() {\n",
       "                var nbb_cell_id = 122;\n",
       "                var nbb_unformatted_code = \"def generate_clusters(message_embeddings,\\n                      min_cluster_size,\\n                      random_state = 42):\\n    \\n    umap_embeddings = umap.UMAP(random_state = 42).fit_transform(message_embeddings)\\n\\n    clusters = hdbscan.HDBSCAN(min_cluster_size = min_cluster_size,\\n                               metric='euclidean', \\n                               cluster_selection_method='eom').fit(umap_embeddings)\\n\\n    return clusters\";\n",
       "                var nbb_formatted_code = \"def generate_clusters(message_embeddings, min_cluster_size, random_state=42):\\n\\n    umap_embeddings = umap.UMAP(random_state=42).fit_transform(message_embeddings)\\n\\n    clusters = hdbscan.HDBSCAN(\\n        min_cluster_size=min_cluster_size,\\n        metric=\\\"euclidean\\\",\\n        cluster_selection_method=\\\"eom\\\",\\n    ).fit(umap_embeddings)\\n\\n    return clusters\";\n",
       "                var nbb_cells = Jupyter.notebook.get_cells();\n",
       "                for (var i = 0; i < nbb_cells.length; ++i) {\n",
       "                    if (nbb_cells[i].input_prompt_number == nbb_cell_id) {\n",
       "                        if (nbb_cells[i].get_text() == nbb_unformatted_code) {\n",
       "                             nbb_cells[i].set_text(nbb_formatted_code);\n",
       "                        }\n",
       "                        break;\n",
       "                    }\n",
       "                }\n",
       "            }, 500);\n",
       "            "
      ],
      "text/plain": [
       "<IPython.core.display.Javascript object>"
      ]
     },
     "metadata": {},
     "output_type": "display_data"
    }
   ],
   "source": [
    "def generate_clusters(message_embeddings, min_cluster_size, random_state=42):\n",
    "\n",
    "    umap_embeddings = umap.UMAP(random_state=42).fit_transform(message_embeddings)\n",
    "\n",
    "    clusters = hdbscan.HDBSCAN(\n",
    "        min_cluster_size=min_cluster_size,\n",
    "        metric=\"euclidean\",\n",
    "        cluster_selection_method=\"eom\",\n",
    "    ).fit(umap_embeddings)\n",
    "\n",
    "    return clusters"
   ]
  },
  {
   "cell_type": "code",
   "execution_count": 123,
   "id": "e7a2c2c6",
   "metadata": {
    "scrolled": true
   },
   "outputs": [
    {
     "name": "stderr",
     "output_type": "stream",
     "text": [
      "OMP: Info #271: omp_set_nested routine deprecated, please use omp_set_max_active_levels instead.\n"
     ]
    },
    {
     "data": {
      "application/javascript": [
       "\n",
       "            setTimeout(function() {\n",
       "                var nbb_cell_id = 123;\n",
       "                var nbb_unformatted_code = \"clusters_test = generate_clusters(message_embeddings = embeddings_concated,\\n                  min_cluster_size = 5, random_state=42)\\nclusters_test.labels_\\ndata = pd.read_csv('data_with_sentiment.csv')\\ndata['cluster_id_test'] = clusters_test.labels_\";\n",
       "                var nbb_formatted_code = \"clusters_test = generate_clusters(\\n    message_embeddings=embeddings_concated, min_cluster_size=5, random_state=42\\n)\\nclusters_test.labels_\\ndata = pd.read_csv(\\\"data_with_sentiment.csv\\\")\\ndata[\\\"cluster_id_test\\\"] = clusters_test.labels_\";\n",
       "                var nbb_cells = Jupyter.notebook.get_cells();\n",
       "                for (var i = 0; i < nbb_cells.length; ++i) {\n",
       "                    if (nbb_cells[i].input_prompt_number == nbb_cell_id) {\n",
       "                        if (nbb_cells[i].get_text() == nbb_unformatted_code) {\n",
       "                             nbb_cells[i].set_text(nbb_formatted_code);\n",
       "                        }\n",
       "                        break;\n",
       "                    }\n",
       "                }\n",
       "            }, 500);\n",
       "            "
      ],
      "text/plain": [
       "<IPython.core.display.Javascript object>"
      ]
     },
     "metadata": {},
     "output_type": "display_data"
    }
   ],
   "source": [
    "clusters_test = generate_clusters(\n",
    "    message_embeddings=embeddings_concated, min_cluster_size=5, random_state=42\n",
    ")\n",
    "clusters_test.labels_\n",
    "data = pd.read_csv(\"data_with_sentiment.csv\")\n",
    "data[\"cluster_id_test\"] = clusters_test.labels_"
   ]
  },
  {
   "cell_type": "code",
   "execution_count": 124,
   "id": "6cb8b19a",
   "metadata": {},
   "outputs": [
    {
     "data": {
      "application/javascript": [
       "\n",
       "            setTimeout(function() {\n",
       "                var nbb_cell_id = 124;\n",
       "                var nbb_unformatted_code = \"result_of_test_cluster = pd.DataFrame(data.cluster_id_test.value_counts().head(10))\";\n",
       "                var nbb_formatted_code = \"result_of_test_cluster = pd.DataFrame(data.cluster_id_test.value_counts().head(10))\";\n",
       "                var nbb_cells = Jupyter.notebook.get_cells();\n",
       "                for (var i = 0; i < nbb_cells.length; ++i) {\n",
       "                    if (nbb_cells[i].input_prompt_number == nbb_cell_id) {\n",
       "                        if (nbb_cells[i].get_text() == nbb_unformatted_code) {\n",
       "                             nbb_cells[i].set_text(nbb_formatted_code);\n",
       "                        }\n",
       "                        break;\n",
       "                    }\n",
       "                }\n",
       "            }, 500);\n",
       "            "
      ],
      "text/plain": [
       "<IPython.core.display.Javascript object>"
      ]
     },
     "metadata": {},
     "output_type": "display_data"
    }
   ],
   "source": [
    "result_of_test_cluster = pd.DataFrame(data.cluster_id_test.value_counts().head(10))"
   ]
  },
  {
   "cell_type": "code",
   "execution_count": 125,
   "id": "43687da5",
   "metadata": {},
   "outputs": [
    {
     "name": "stdout",
     "output_type": "stream",
     "text": [
      "Best Parameters {'cluster_selection_method': 'eom', 'metric': 'euclidean', 'min_cluster_size': 2}\n",
      "DBCV score :0.17318944578317547\n"
     ]
    },
    {
     "data": {
      "application/javascript": [
       "\n",
       "            setTimeout(function() {\n",
       "                var nbb_cell_id = 125;\n",
       "                var nbb_unformatted_code = \"umap_embeddings = umap.UMAP(random_state = 42).fit_transform(embeddings_concated)\\nhdb = hdbscan.HDBSCAN(gen_min_span_tree=True).fit(umap_embeddings)\\n\\nparam_dist = {'min_cluster_size':[2, 5, 7, 12, 15, 20, 25, 50, 100],  \\n              'cluster_selection_method' : ['eom','leaf'],\\n              'metric' : ['euclidean','manhattan']\\n             }\\n\\n#validity_scroer = \\\"hdbscan__hdbscan___HDBSCAN__validity_index\\\"\\nvalidity_scorer = make_scorer(hdbscan.validity.validity_index,greater_is_better=True)\\n\\n\\ngrid_search = GridSearchCV(hdb, param_grid=param_dist, scoring=validity_scorer)\\n\\ngrid_search.fit(umap_embeddings)\\n\\n\\nprint(f\\\"Best Parameters {grid_search.best_params_}\\\")\\nprint(f\\\"DBCV score :{grid_search.best_estimator_.relative_validity_}\\\")\";\n",
       "                var nbb_formatted_code = \"umap_embeddings = umap.UMAP(random_state=42).fit_transform(embeddings_concated)\\nhdb = hdbscan.HDBSCAN(gen_min_span_tree=True).fit(umap_embeddings)\\n\\nparam_dist = {\\n    \\\"min_cluster_size\\\": [2, 5, 7, 12, 15, 20, 25, 50, 100],\\n    \\\"cluster_selection_method\\\": [\\\"eom\\\", \\\"leaf\\\"],\\n    \\\"metric\\\": [\\\"euclidean\\\", \\\"manhattan\\\"],\\n}\\n\\n# validity_scroer = \\\"hdbscan__hdbscan___HDBSCAN__validity_index\\\"\\nvalidity_scorer = make_scorer(hdbscan.validity.validity_index, greater_is_better=True)\\n\\n\\ngrid_search = GridSearchCV(hdb, param_grid=param_dist, scoring=validity_scorer)\\n\\ngrid_search.fit(umap_embeddings)\\n\\n\\nprint(f\\\"Best Parameters {grid_search.best_params_}\\\")\\nprint(f\\\"DBCV score :{grid_search.best_estimator_.relative_validity_}\\\")\";\n",
       "                var nbb_cells = Jupyter.notebook.get_cells();\n",
       "                for (var i = 0; i < nbb_cells.length; ++i) {\n",
       "                    if (nbb_cells[i].input_prompt_number == nbb_cell_id) {\n",
       "                        if (nbb_cells[i].get_text() == nbb_unformatted_code) {\n",
       "                             nbb_cells[i].set_text(nbb_formatted_code);\n",
       "                        }\n",
       "                        break;\n",
       "                    }\n",
       "                }\n",
       "            }, 500);\n",
       "            "
      ],
      "text/plain": [
       "<IPython.core.display.Javascript object>"
      ]
     },
     "metadata": {},
     "output_type": "display_data"
    }
   ],
   "source": [
    "umap_embeddings = umap.UMAP(random_state=42).fit_transform(embeddings_concated)\n",
    "hdb = hdbscan.HDBSCAN(gen_min_span_tree=True).fit(umap_embeddings)\n",
    "\n",
    "param_dist = {\n",
    "    \"min_cluster_size\": [2, 5, 7, 12, 15, 20, 25, 50, 100],\n",
    "    \"cluster_selection_method\": [\"eom\", \"leaf\"],\n",
    "    \"metric\": [\"euclidean\", \"manhattan\"],\n",
    "}\n",
    "\n",
    "# validity_scroer = \"hdbscan__hdbscan___HDBSCAN__validity_index\"\n",
    "validity_scorer = make_scorer(hdbscan.validity.validity_index, greater_is_better=True)\n",
    "\n",
    "\n",
    "grid_search = GridSearchCV(hdb, param_grid=param_dist, scoring=validity_scorer)\n",
    "\n",
    "grid_search.fit(umap_embeddings)\n",
    "\n",
    "\n",
    "print(f\"Best Parameters {grid_search.best_params_}\")\n",
    "print(f\"DBCV score :{grid_search.best_estimator_.relative_validity_}\")"
   ]
  },
  {
   "cell_type": "code",
   "execution_count": 126,
   "id": "0e211511",
   "metadata": {},
   "outputs": [
    {
     "data": {
      "application/javascript": [
       "\n",
       "            setTimeout(function() {\n",
       "                var nbb_cell_id = 126;\n",
       "                var nbb_unformatted_code = \"clusters = generate_clusters(message_embeddings = embeddings_concated,\\n                  min_cluster_size = 2, random_state=42)\\nclusters.labels_\\ndata['cluster_id'] = clusters.labels_\\ndata.to_csv('data_with_clusters.csv', index=False)\\nresult_of_cluster = pd.DataFrame(data.cluster_id.value_counts().head(10))\\nresult_of_cluster.to_excel('output10.xlsx')\";\n",
       "                var nbb_formatted_code = \"clusters = generate_clusters(\\n    message_embeddings=embeddings_concated, min_cluster_size=2, random_state=42\\n)\\nclusters.labels_\\ndata[\\\"cluster_id\\\"] = clusters.labels_\\ndata.to_csv(\\\"data_with_clusters.csv\\\", index=False)\\nresult_of_cluster = pd.DataFrame(data.cluster_id.value_counts().head(10))\\nresult_of_cluster.to_excel(\\\"output10.xlsx\\\")\";\n",
       "                var nbb_cells = Jupyter.notebook.get_cells();\n",
       "                for (var i = 0; i < nbb_cells.length; ++i) {\n",
       "                    if (nbb_cells[i].input_prompt_number == nbb_cell_id) {\n",
       "                        if (nbb_cells[i].get_text() == nbb_unformatted_code) {\n",
       "                             nbb_cells[i].set_text(nbb_formatted_code);\n",
       "                        }\n",
       "                        break;\n",
       "                    }\n",
       "                }\n",
       "            }, 500);\n",
       "            "
      ],
      "text/plain": [
       "<IPython.core.display.Javascript object>"
      ]
     },
     "metadata": {},
     "output_type": "display_data"
    }
   ],
   "source": [
    "clusters = generate_clusters(\n",
    "    message_embeddings=embeddings_concated, min_cluster_size=2, random_state=42\n",
    ")\n",
    "clusters.labels_\n",
    "data[\"cluster_id\"] = clusters.labels_\n",
    "data.to_csv(\"data_with_clusters.csv\", index=False)\n",
    "result_of_cluster = pd.DataFrame(data.cluster_id.value_counts().head(10))\n",
    "result_of_cluster.to_excel(\"output10.xlsx\")"
   ]
  },
  {
   "cell_type": "code",
   "execution_count": 127,
   "id": "c965d292",
   "metadata": {
    "scrolled": true
   },
   "outputs": [
    {
     "data": {
      "application/javascript": [
       "\n",
       "            setTimeout(function() {\n",
       "                var nbb_cell_id = 127;\n",
       "                var nbb_unformatted_code = \"data_with_clusters = pd.read_csv('data_with_clusters.csv')\";\n",
       "                var nbb_formatted_code = \"data_with_clusters = pd.read_csv(\\\"data_with_clusters.csv\\\")\";\n",
       "                var nbb_cells = Jupyter.notebook.get_cells();\n",
       "                for (var i = 0; i < nbb_cells.length; ++i) {\n",
       "                    if (nbb_cells[i].input_prompt_number == nbb_cell_id) {\n",
       "                        if (nbb_cells[i].get_text() == nbb_unformatted_code) {\n",
       "                             nbb_cells[i].set_text(nbb_formatted_code);\n",
       "                        }\n",
       "                        break;\n",
       "                    }\n",
       "                }\n",
       "            }, 500);\n",
       "            "
      ],
      "text/plain": [
       "<IPython.core.display.Javascript object>"
      ]
     },
     "metadata": {},
     "output_type": "display_data"
    }
   ],
   "source": [
    "data_with_clusters = pd.read_csv(\"data_with_clusters.csv\")"
   ]
  },
  {
   "cell_type": "code",
   "execution_count": 128,
   "id": "67d52ccd",
   "metadata": {},
   "outputs": [
    {
     "data": {
      "application/javascript": [
       "\n",
       "            setTimeout(function() {\n",
       "                var nbb_cell_id = 128;\n",
       "                var nbb_unformatted_code = \"data_with_clusters_interpretation = data_with_clusters[['text_for_sentiment', 'cluster_id']]\";\n",
       "                var nbb_formatted_code = \"data_with_clusters_interpretation = data_with_clusters[\\n    [\\\"text_for_sentiment\\\", \\\"cluster_id\\\"]\\n]\";\n",
       "                var nbb_cells = Jupyter.notebook.get_cells();\n",
       "                for (var i = 0; i < nbb_cells.length; ++i) {\n",
       "                    if (nbb_cells[i].input_prompt_number == nbb_cell_id) {\n",
       "                        if (nbb_cells[i].get_text() == nbb_unformatted_code) {\n",
       "                             nbb_cells[i].set_text(nbb_formatted_code);\n",
       "                        }\n",
       "                        break;\n",
       "                    }\n",
       "                }\n",
       "            }, 500);\n",
       "            "
      ],
      "text/plain": [
       "<IPython.core.display.Javascript object>"
      ]
     },
     "metadata": {},
     "output_type": "display_data"
    }
   ],
   "source": [
    "data_with_clusters_interpretation = data_with_clusters[\n",
    "    [\"text_for_sentiment\", \"cluster_id\"]\n",
    "]"
   ]
  },
  {
   "cell_type": "markdown",
   "id": "0f27a4fd",
   "metadata": {},
   "source": [
    "## To identify how the factor is related to opinions about kicksharing"
   ]
  },
  {
   "cell_type": "code",
   "execution_count": 129,
   "id": "e2aeee9e",
   "metadata": {},
   "outputs": [
    {
     "data": {
      "application/javascript": [
       "\n",
       "            setTimeout(function() {\n",
       "                var nbb_cell_id = 129;\n",
       "                var nbb_unformatted_code = \"data_with_clusters_sentiment = data_with_clusters[data_with_clusters.cluster_id.isin([820,\\n                                                      528,\\n                                                      901,\\n                                                      902,\\n                                                      1244,\\n                                                      1380,\\n                                                      939,\\n                                                      1207,\\n                                                      1017,\\n                                                      954,\\n                                                      945,\\n                                                      765,\\n                                                      687])]\";\n",
       "                var nbb_formatted_code = \"data_with_clusters_sentiment = data_with_clusters[\\n    data_with_clusters.cluster_id.isin(\\n        [820, 528, 901, 902, 1244, 1380, 939, 1207, 1017, 954, 945, 765, 687]\\n    )\\n]\";\n",
       "                var nbb_cells = Jupyter.notebook.get_cells();\n",
       "                for (var i = 0; i < nbb_cells.length; ++i) {\n",
       "                    if (nbb_cells[i].input_prompt_number == nbb_cell_id) {\n",
       "                        if (nbb_cells[i].get_text() == nbb_unformatted_code) {\n",
       "                             nbb_cells[i].set_text(nbb_formatted_code);\n",
       "                        }\n",
       "                        break;\n",
       "                    }\n",
       "                }\n",
       "            }, 500);\n",
       "            "
      ],
      "text/plain": [
       "<IPython.core.display.Javascript object>"
      ]
     },
     "metadata": {},
     "output_type": "display_data"
    }
   ],
   "source": [
    "data_with_clusters_sentiment = data_with_clusters[\n",
    "    data_with_clusters.cluster_id.isin(\n",
    "        [820, 528, 901, 902, 1244, 1380, 939, 1207, 1017, 954, 945, 765, 687]\n",
    "    )\n",
    "]"
   ]
  },
  {
   "cell_type": "code",
   "execution_count": 130,
   "id": "f2a722ca",
   "metadata": {},
   "outputs": [
    {
     "data": {
      "application/javascript": [
       "\n",
       "            setTimeout(function() {\n",
       "                var nbb_cell_id = 130;\n",
       "                var nbb_unformatted_code = \"dict_cluster = {820 : '\\u0410\\u0432\\u0430\\u0440\\u0438\\u044f',\\n528 : '\\u0428\\u0442\\u0440\\u0430\\u0444',\\n901: '\\u0412\\u043b\\u0430\\u0441\\u0442\\u044c',\\n902 : '\\u0412\\u043b\\u0430\\u0441\\u0442\\u044c',\\n1244 : '\\u041f\\u0414\\u0414',\\n1380 : '\\u041f\\u0414\\u0414',\\n939 : '\\u0418\\u043d\\u0432\\u0435\\u043d\\u0442\\u0430\\u0440\\u044c',\\n1207 : '\\u0418\\u043d\\u0444\\u0440\\u0430\\u0441\\u0442\\u0440\\u0443\\u043a\\u0442\\u0443\\u0440\\u0430',\\n1017 : '\\u0418\\u043d\\u0444\\u0440\\u0430\\u0441\\u0442\\u0440\\u0443\\u043a\\u0442\\u0443\\u0440\\u0430',\\n954 : '\\u0418\\u043d\\u0444\\u0440\\u0430\\u0441\\u0442\\u0440\\u0443\\u043a\\u0442\\u0443\\u0440\\u0430',\\n945 : '\\u0418\\u043d\\u0444\\u0440\\u0430\\u0441\\u0442\\u0440\\u0443\\u043a\\u0442\\u0443\\u0440\\u0430',\\n765 : '\\u041f\\u0414\\u0414',\\n687 : '\\u041e\\u043f\\u044b\\u0442 \\u0434\\u0440\\u0443\\u0433\\u0438\\u0445 \\u0441\\u0442\\u0440\\u0430\\u043d'}\";\n",
       "                var nbb_formatted_code = \"dict_cluster = {\\n    820: \\\"\\u0410\\u0432\\u0430\\u0440\\u0438\\u044f\\\",\\n    528: \\\"\\u0428\\u0442\\u0440\\u0430\\u0444\\\",\\n    901: \\\"\\u0412\\u043b\\u0430\\u0441\\u0442\\u044c\\\",\\n    902: \\\"\\u0412\\u043b\\u0430\\u0441\\u0442\\u044c\\\",\\n    1244: \\\"\\u041f\\u0414\\u0414\\\",\\n    1380: \\\"\\u041f\\u0414\\u0414\\\",\\n    939: \\\"\\u0418\\u043d\\u0432\\u0435\\u043d\\u0442\\u0430\\u0440\\u044c\\\",\\n    1207: \\\"\\u0418\\u043d\\u0444\\u0440\\u0430\\u0441\\u0442\\u0440\\u0443\\u043a\\u0442\\u0443\\u0440\\u0430\\\",\\n    1017: \\\"\\u0418\\u043d\\u0444\\u0440\\u0430\\u0441\\u0442\\u0440\\u0443\\u043a\\u0442\\u0443\\u0440\\u0430\\\",\\n    954: \\\"\\u0418\\u043d\\u0444\\u0440\\u0430\\u0441\\u0442\\u0440\\u0443\\u043a\\u0442\\u0443\\u0440\\u0430\\\",\\n    945: \\\"\\u0418\\u043d\\u0444\\u0440\\u0430\\u0441\\u0442\\u0440\\u0443\\u043a\\u0442\\u0443\\u0440\\u0430\\\",\\n    765: \\\"\\u041f\\u0414\\u0414\\\",\\n    687: \\\"\\u041e\\u043f\\u044b\\u0442 \\u0434\\u0440\\u0443\\u0433\\u0438\\u0445 \\u0441\\u0442\\u0440\\u0430\\u043d\\\",\\n}\";\n",
       "                var nbb_cells = Jupyter.notebook.get_cells();\n",
       "                for (var i = 0; i < nbb_cells.length; ++i) {\n",
       "                    if (nbb_cells[i].input_prompt_number == nbb_cell_id) {\n",
       "                        if (nbb_cells[i].get_text() == nbb_unformatted_code) {\n",
       "                             nbb_cells[i].set_text(nbb_formatted_code);\n",
       "                        }\n",
       "                        break;\n",
       "                    }\n",
       "                }\n",
       "            }, 500);\n",
       "            "
      ],
      "text/plain": [
       "<IPython.core.display.Javascript object>"
      ]
     },
     "metadata": {},
     "output_type": "display_data"
    }
   ],
   "source": [
    "dict_cluster = {\n",
    "    820: \"Авария\",\n",
    "    528: \"Штраф\",\n",
    "    901: \"Власть\",\n",
    "    902: \"Власть\",\n",
    "    1244: \"ПДД\",\n",
    "    1380: \"ПДД\",\n",
    "    939: \"Инвентарь\",\n",
    "    1207: \"Инфраструктура\",\n",
    "    1017: \"Инфраструктура\",\n",
    "    954: \"Инфраструктура\",\n",
    "    945: \"Инфраструктура\",\n",
    "    765: \"ПДД\",\n",
    "    687: \"Опыт других стран\",\n",
    "}"
   ]
  },
  {
   "cell_type": "code",
   "execution_count": 131,
   "id": "c1a8fb98",
   "metadata": {},
   "outputs": [
    {
     "data": {
      "application/javascript": [
       "\n",
       "            setTimeout(function() {\n",
       "                var nbb_cell_id = 131;\n",
       "                var nbb_unformatted_code = \"data_with_clusters_sentiment1 = data_with_clusters_sentiment[['text_for_sentiment', 'cluster_id', 'sentiment_analysis_value']]\";\n",
       "                var nbb_formatted_code = \"data_with_clusters_sentiment1 = data_with_clusters_sentiment[\\n    [\\\"text_for_sentiment\\\", \\\"cluster_id\\\", \\\"sentiment_analysis_value\\\"]\\n]\";\n",
       "                var nbb_cells = Jupyter.notebook.get_cells();\n",
       "                for (var i = 0; i < nbb_cells.length; ++i) {\n",
       "                    if (nbb_cells[i].input_prompt_number == nbb_cell_id) {\n",
       "                        if (nbb_cells[i].get_text() == nbb_unformatted_code) {\n",
       "                             nbb_cells[i].set_text(nbb_formatted_code);\n",
       "                        }\n",
       "                        break;\n",
       "                    }\n",
       "                }\n",
       "            }, 500);\n",
       "            "
      ],
      "text/plain": [
       "<IPython.core.display.Javascript object>"
      ]
     },
     "metadata": {},
     "output_type": "display_data"
    }
   ],
   "source": [
    "data_with_clusters_sentiment1 = data_with_clusters_sentiment[\n",
    "    [\"text_for_sentiment\", \"cluster_id\", \"sentiment_analysis_value\"]\n",
    "]"
   ]
  },
  {
   "cell_type": "code",
   "execution_count": 132,
   "id": "1325c4e7",
   "metadata": {},
   "outputs": [
    {
     "data": {
      "application/javascript": [
       "\n",
       "            setTimeout(function() {\n",
       "                var nbb_cell_id = 132;\n",
       "                var nbb_unformatted_code = \"data_with_clusters_sentiment1['cluster_name'] = data_with_clusters_sentiment1['cluster_id'].apply(lambda x: dict_cluster[x])\";\n",
       "                var nbb_formatted_code = \"data_with_clusters_sentiment1[\\\"cluster_name\\\"] = data_with_clusters_sentiment1[\\n    \\\"cluster_id\\\"\\n].apply(lambda x: dict_cluster[x])\";\n",
       "                var nbb_cells = Jupyter.notebook.get_cells();\n",
       "                for (var i = 0; i < nbb_cells.length; ++i) {\n",
       "                    if (nbb_cells[i].input_prompt_number == nbb_cell_id) {\n",
       "                        if (nbb_cells[i].get_text() == nbb_unformatted_code) {\n",
       "                             nbb_cells[i].set_text(nbb_formatted_code);\n",
       "                        }\n",
       "                        break;\n",
       "                    }\n",
       "                }\n",
       "            }, 500);\n",
       "            "
      ],
      "text/plain": [
       "<IPython.core.display.Javascript object>"
      ]
     },
     "metadata": {},
     "output_type": "display_data"
    }
   ],
   "source": [
    "data_with_clusters_sentiment1[\"cluster_name\"] = data_with_clusters_sentiment1[\n",
    "    \"cluster_id\"\n",
    "].apply(lambda x: dict_cluster[x])"
   ]
  },
  {
   "cell_type": "code",
   "execution_count": 133,
   "id": "07d30ec0",
   "metadata": {},
   "outputs": [
    {
     "data": {
      "text/plain": [
       "Инфраструктура       70\n",
       "Авария               51\n",
       "ПДД                  50\n",
       "Власть               38\n",
       "Штраф                38\n",
       "Инвентарь            21\n",
       "Опыт других стран    15\n",
       "Name: cluster_name, dtype: int64"
      ]
     },
     "execution_count": 133,
     "metadata": {},
     "output_type": "execute_result"
    },
    {
     "data": {
      "application/javascript": [
       "\n",
       "            setTimeout(function() {\n",
       "                var nbb_cell_id = 133;\n",
       "                var nbb_unformatted_code = \"data_with_clusters_sentiment1.cluster_name.value_counts()\";\n",
       "                var nbb_formatted_code = \"data_with_clusters_sentiment1.cluster_name.value_counts()\";\n",
       "                var nbb_cells = Jupyter.notebook.get_cells();\n",
       "                for (var i = 0; i < nbb_cells.length; ++i) {\n",
       "                    if (nbb_cells[i].input_prompt_number == nbb_cell_id) {\n",
       "                        if (nbb_cells[i].get_text() == nbb_unformatted_code) {\n",
       "                             nbb_cells[i].set_text(nbb_formatted_code);\n",
       "                        }\n",
       "                        break;\n",
       "                    }\n",
       "                }\n",
       "            }, 500);\n",
       "            "
      ],
      "text/plain": [
       "<IPython.core.display.Javascript object>"
      ]
     },
     "metadata": {},
     "output_type": "display_data"
    }
   ],
   "source": [
    "data_with_clusters_sentiment1.cluster_name.value_counts()"
   ]
  },
  {
   "cell_type": "code",
   "execution_count": 134,
   "id": "473cf81d",
   "metadata": {},
   "outputs": [
    {
     "data": {
      "application/javascript": [
       "\n",
       "            setTimeout(function() {\n",
       "                var nbb_cell_id = 134;\n",
       "                var nbb_unformatted_code = \"crosstab3 = pd.crosstab(data_with_clusters_sentiment1['cluster_name'],\\n            data_with_clusters_sentiment1['sentiment_analysis_value'])\";\n",
       "                var nbb_formatted_code = \"crosstab3 = pd.crosstab(\\n    data_with_clusters_sentiment1[\\\"cluster_name\\\"],\\n    data_with_clusters_sentiment1[\\\"sentiment_analysis_value\\\"],\\n)\";\n",
       "                var nbb_cells = Jupyter.notebook.get_cells();\n",
       "                for (var i = 0; i < nbb_cells.length; ++i) {\n",
       "                    if (nbb_cells[i].input_prompt_number == nbb_cell_id) {\n",
       "                        if (nbb_cells[i].get_text() == nbb_unformatted_code) {\n",
       "                             nbb_cells[i].set_text(nbb_formatted_code);\n",
       "                        }\n",
       "                        break;\n",
       "                    }\n",
       "                }\n",
       "            }, 500);\n",
       "            "
      ],
      "text/plain": [
       "<IPython.core.display.Javascript object>"
      ]
     },
     "metadata": {},
     "output_type": "display_data"
    }
   ],
   "source": [
    "crosstab3 = pd.crosstab(\n",
    "    data_with_clusters_sentiment1[\"cluster_name\"],\n",
    "    data_with_clusters_sentiment1[\"sentiment_analysis_value\"],\n",
    ")"
   ]
  },
  {
   "cell_type": "code",
   "execution_count": 135,
   "id": "6025f72f",
   "metadata": {},
   "outputs": [
    {
     "data": {
      "text/plain": [
       "(21.64921441786748,\n",
       " 0.04164458154685503,\n",
       " 12,\n",
       " array([[24.14840989, 22.16607774,  4.68551237],\n",
       "        [17.99293286, 16.51590106,  3.49116608],\n",
       "        [ 9.9434629 ,  9.12720848,  1.92932862],\n",
       "        [33.14487633, 30.42402827,  6.43109541],\n",
       "        [ 7.1024735 ,  6.51943463,  1.37809187],\n",
       "        [23.67491166, 21.73144876,  4.59363958],\n",
       "        [17.99293286, 16.51590106,  3.49116608]]))"
      ]
     },
     "execution_count": 135,
     "metadata": {},
     "output_type": "execute_result"
    },
    {
     "data": {
      "application/javascript": [
       "\n",
       "            setTimeout(function() {\n",
       "                var nbb_cell_id = 135;\n",
       "                var nbb_unformatted_code = \"stats.chi2_contingency(crosstab3)\";\n",
       "                var nbb_formatted_code = \"stats.chi2_contingency(crosstab3)\";\n",
       "                var nbb_cells = Jupyter.notebook.get_cells();\n",
       "                for (var i = 0; i < nbb_cells.length; ++i) {\n",
       "                    if (nbb_cells[i].input_prompt_number == nbb_cell_id) {\n",
       "                        if (nbb_cells[i].get_text() == nbb_unformatted_code) {\n",
       "                             nbb_cells[i].set_text(nbb_formatted_code);\n",
       "                        }\n",
       "                        break;\n",
       "                    }\n",
       "                }\n",
       "            }, 500);\n",
       "            "
      ],
      "text/plain": [
       "<IPython.core.display.Javascript object>"
      ]
     },
     "metadata": {},
     "output_type": "display_data"
    }
   ],
   "source": [
    "stats.chi2_contingency(crosstab3)"
   ]
  },
  {
   "cell_type": "code",
   "execution_count": 136,
   "id": "7465c09c",
   "metadata": {},
   "outputs": [
    {
     "data": {
      "application/javascript": [
       "\n",
       "            setTimeout(function() {\n",
       "                var nbb_cell_id = 136;\n",
       "                var nbb_unformatted_code = \"def residuals(observed, expected):\\n    return (observed - expected) / np.sqrt(expected)\";\n",
       "                var nbb_formatted_code = \"def residuals(observed, expected):\\n    return (observed - expected) / np.sqrt(expected)\";\n",
       "                var nbb_cells = Jupyter.notebook.get_cells();\n",
       "                for (var i = 0; i < nbb_cells.length; ++i) {\n",
       "                    if (nbb_cells[i].input_prompt_number == nbb_cell_id) {\n",
       "                        if (nbb_cells[i].get_text() == nbb_unformatted_code) {\n",
       "                             nbb_cells[i].set_text(nbb_formatted_code);\n",
       "                        }\n",
       "                        break;\n",
       "                    }\n",
       "                }\n",
       "            }, 500);\n",
       "            "
      ],
      "text/plain": [
       "<IPython.core.display.Javascript object>"
      ]
     },
     "metadata": {},
     "output_type": "display_data"
    }
   ],
   "source": [
    "def residuals(observed, expected):\n",
    "    return (observed - expected) / np.sqrt(expected)"
   ]
  },
  {
   "cell_type": "code",
   "execution_count": 137,
   "id": "b8a1ed4c",
   "metadata": {},
   "outputs": [
    {
     "data": {
      "application/javascript": [
       "\n",
       "            setTimeout(function() {\n",
       "                var nbb_cell_id = 137;\n",
       "                var nbb_unformatted_code = \"expected = np.array([[24.14840989, 22.16607774,  4.68551237],\\n        [17.99293286, 16.51590106,  3.49116608],\\n        [ 9.9434629 ,  9.12720848,  1.92932862],\\n        [33.14487633, 30.42402827,  6.43109541],\\n        [ 7.1024735 ,  6.51943463,  1.37809187],\\n        [23.67491166, 21.73144876,  4.59363958],\\n        [17.99293286, 16.51590106,  3.49116608]])\\nF = np.array(crosstab3)\";\n",
       "                var nbb_formatted_code = \"expected = np.array(\\n    [\\n        [24.14840989, 22.16607774, 4.68551237],\\n        [17.99293286, 16.51590106, 3.49116608],\\n        [9.9434629, 9.12720848, 1.92932862],\\n        [33.14487633, 30.42402827, 6.43109541],\\n        [7.1024735, 6.51943463, 1.37809187],\\n        [23.67491166, 21.73144876, 4.59363958],\\n        [17.99293286, 16.51590106, 3.49116608],\\n    ]\\n)\\nF = np.array(crosstab3)\";\n",
       "                var nbb_cells = Jupyter.notebook.get_cells();\n",
       "                for (var i = 0; i < nbb_cells.length; ++i) {\n",
       "                    if (nbb_cells[i].input_prompt_number == nbb_cell_id) {\n",
       "                        if (nbb_cells[i].get_text() == nbb_unformatted_code) {\n",
       "                             nbb_cells[i].set_text(nbb_formatted_code);\n",
       "                        }\n",
       "                        break;\n",
       "                    }\n",
       "                }\n",
       "            }, 500);\n",
       "            "
      ],
      "text/plain": [
       "<IPython.core.display.Javascript object>"
      ]
     },
     "metadata": {},
     "output_type": "display_data"
    }
   ],
   "source": [
    "expected = np.array(\n",
    "    [\n",
    "        [24.14840989, 22.16607774, 4.68551237],\n",
    "        [17.99293286, 16.51590106, 3.49116608],\n",
    "        [9.9434629, 9.12720848, 1.92932862],\n",
    "        [33.14487633, 30.42402827, 6.43109541],\n",
    "        [7.1024735, 6.51943463, 1.37809187],\n",
    "        [23.67491166, 21.73144876, 4.59363958],\n",
    "        [17.99293286, 16.51590106, 3.49116608],\n",
    "    ]\n",
    ")\n",
    "F = np.array(crosstab3)"
   ]
  },
  {
   "cell_type": "code",
   "execution_count": 138,
   "id": "f5b4c342",
   "metadata": {},
   "outputs": [
    {
     "data": {
      "application/javascript": [
       "\n",
       "            setTimeout(function() {\n",
       "                var nbb_cell_id = 138;\n",
       "                var nbb_unformatted_code = \"a = residuals(F, expected)\\nresids = pd.DataFrame(a)\\nresids.to_excel('resids.xlsx')\\nexpected1 = pd.DataFrame(expected)\\nexpected1.to_excel('expected.xlsx')\";\n",
       "                var nbb_formatted_code = \"a = residuals(F, expected)\\nresids = pd.DataFrame(a)\\nresids.to_excel(\\\"resids.xlsx\\\")\\nexpected1 = pd.DataFrame(expected)\\nexpected1.to_excel(\\\"expected.xlsx\\\")\";\n",
       "                var nbb_cells = Jupyter.notebook.get_cells();\n",
       "                for (var i = 0; i < nbb_cells.length; ++i) {\n",
       "                    if (nbb_cells[i].input_prompt_number == nbb_cell_id) {\n",
       "                        if (nbb_cells[i].get_text() == nbb_unformatted_code) {\n",
       "                             nbb_cells[i].set_text(nbb_formatted_code);\n",
       "                        }\n",
       "                        break;\n",
       "                    }\n",
       "                }\n",
       "            }, 500);\n",
       "            "
      ],
      "text/plain": [
       "<IPython.core.display.Javascript object>"
      ]
     },
     "metadata": {},
     "output_type": "display_data"
    }
   ],
   "source": [
    "a = residuals(F, expected)\n",
    "resids = pd.DataFrame(a)\n",
    "resids.to_excel(\"resids.xlsx\")\n",
    "expected1 = pd.DataFrame(expected)\n",
    "expected1.to_excel(\"expected.xlsx\")"
   ]
  }
 ],
 "metadata": {
  "kernelspec": {
   "display_name": "Python 3 (ipykernel)",
   "language": "python",
   "name": "python3"
  },
  "language_info": {
   "codemirror_mode": {
    "name": "ipython",
    "version": 3
   },
   "file_extension": ".py",
   "mimetype": "text/x-python",
   "name": "python",
   "nbconvert_exporter": "python",
   "pygments_lexer": "ipython3",
   "version": "3.9.7"
  }
 },
 "nbformat": 4,
 "nbformat_minor": 5
}
